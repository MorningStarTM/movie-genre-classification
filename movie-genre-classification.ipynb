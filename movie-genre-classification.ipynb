{
 "cells": [
  {
   "cell_type": "code",
   "execution_count": 1,
   "id": "34b36b46",
   "metadata": {
    "execution": {
     "iopub.execute_input": "2023-03-14T13:10:42.354665Z",
     "iopub.status.busy": "2023-03-14T13:10:42.353689Z",
     "iopub.status.idle": "2023-03-14T13:10:57.840892Z",
     "shell.execute_reply": "2023-03-14T13:10:57.839464Z"
    },
    "papermill": {
     "duration": 15.503142,
     "end_time": "2023-03-14T13:10:57.843940",
     "exception": false,
     "start_time": "2023-03-14T13:10:42.340798",
     "status": "completed"
    },
    "tags": []
   },
   "outputs": [],
   "source": [
    "import pandas as pd\n",
    "import numpy as np\n",
    "import re\n",
    "import nltk\n",
    "import tensorflow as tf\n",
    "from keras.utils import to_categorical\n",
    "from nltk.corpus import stopwords\n",
    "from nltk.stem import PorterStemmer, WordNetLemmatizer\n",
    "from nltk.corpus import wordnet\n",
    "from tensorflow.keras.preprocessing.text import Tokenizer\n",
    "from tensorflow.keras.layers import Dense, LSTM, ReLU, Flatten, Embedding, SpatialDropout1D, Dropout\n",
    "from tensorflow.keras.regularizers import l2\n",
    "from tensorflow.keras.preprocessing.sequence import pad_sequences\n",
    "from tensorflow.keras.preprocessing.text import one_hot\n",
    "from tensorflow.keras.models import Sequential\n",
    "from sklearn.model_selection import train_test_split\n",
    "from sklearn.metrics import confusion_matrix"
   ]
  },
  {
   "cell_type": "code",
   "execution_count": 2,
   "id": "a1e0de11",
   "metadata": {
    "execution": {
     "iopub.execute_input": "2023-03-14T13:10:57.867249Z",
     "iopub.status.busy": "2023-03-14T13:10:57.865781Z",
     "iopub.status.idle": "2023-03-14T13:10:58.117837Z",
     "shell.execute_reply": "2023-03-14T13:10:58.115891Z"
    },
    "papermill": {
     "duration": 0.267197,
     "end_time": "2023-03-14T13:10:58.121680",
     "exception": false,
     "start_time": "2023-03-14T13:10:57.854483",
     "status": "completed"
    },
    "tags": []
   },
   "outputs": [
    {
     "name": "stdout",
     "output_type": "stream",
     "text": [
      "[nltk_data] Downloading package stopwords to /usr/share/nltk_data...\n",
      "[nltk_data]   Package stopwords is already up-to-date!\n",
      "[nltk_data] Downloading package punkt to /usr/share/nltk_data...\n",
      "[nltk_data]   Package punkt is already up-to-date!\n"
     ]
    },
    {
     "data": {
      "text/plain": [
       "True"
      ]
     },
     "execution_count": 2,
     "metadata": {},
     "output_type": "execute_result"
    }
   ],
   "source": [
    "nltk.download('stopwords')\n",
    "nltk.download('punkt')"
   ]
  },
  {
   "cell_type": "code",
   "execution_count": 3,
   "id": "f03e9e1e",
   "metadata": {
    "execution": {
     "iopub.execute_input": "2023-03-14T13:10:58.144810Z",
     "iopub.status.busy": "2023-03-14T13:10:58.144507Z",
     "iopub.status.idle": "2023-03-14T13:10:59.181450Z",
     "shell.execute_reply": "2023-03-14T13:10:59.180396Z"
    },
    "papermill": {
     "duration": 1.051463,
     "end_time": "2023-03-14T13:10:59.184306",
     "exception": false,
     "start_time": "2023-03-14T13:10:58.132843",
     "status": "completed"
    },
    "tags": []
   },
   "outputs": [],
   "source": [
    "#reading data\n",
    "file = open(\"/kaggle/input/genre-classification-dataset-imdb/Genre Classification Dataset/train_data.txt\", encoding='utf-8', errors='ignore').read().split('\\n')"
   ]
  },
  {
   "cell_type": "code",
   "execution_count": 4,
   "id": "bd3dad8d",
   "metadata": {
    "execution": {
     "iopub.execute_input": "2023-03-14T13:10:59.207114Z",
     "iopub.status.busy": "2023-03-14T13:10:59.206765Z",
     "iopub.status.idle": "2023-03-14T13:10:59.212861Z",
     "shell.execute_reply": "2023-03-14T13:10:59.211896Z"
    },
    "papermill": {
     "duration": 0.02015,
     "end_time": "2023-03-14T13:10:59.214846",
     "exception": false,
     "start_time": "2023-03-14T13:10:59.194696",
     "status": "completed"
    },
    "tags": []
   },
   "outputs": [
    {
     "data": {
      "text/plain": [
       "54215"
      ]
     },
     "execution_count": 4,
     "metadata": {},
     "output_type": "execute_result"
    }
   ],
   "source": [
    "#size of data\n",
    "len(file)"
   ]
  },
  {
   "cell_type": "code",
   "execution_count": 5,
   "id": "01b9eca7",
   "metadata": {
    "execution": {
     "iopub.execute_input": "2023-03-14T13:10:59.236576Z",
     "iopub.status.busy": "2023-03-14T13:10:59.235767Z",
     "iopub.status.idle": "2023-03-14T13:10:59.242233Z",
     "shell.execute_reply": "2023-03-14T13:10:59.241173Z"
    },
    "papermill": {
     "duration": 0.019571,
     "end_time": "2023-03-14T13:10:59.244404",
     "exception": false,
     "start_time": "2023-03-14T13:10:59.224833",
     "status": "completed"
    },
    "tags": []
   },
   "outputs": [
    {
     "data": {
      "text/plain": [
       "4"
      ]
     },
     "execution_count": 5,
     "metadata": {},
     "output_type": "execute_result"
    }
   ],
   "source": [
    "len(file[0].split(':::'))"
   ]
  },
  {
   "cell_type": "markdown",
   "id": "7cf7c738",
   "metadata": {
    "papermill": {
     "duration": 0.010089,
     "end_time": "2023-03-14T13:10:59.264842",
     "exception": false,
     "start_time": "2023-03-14T13:10:59.254753",
     "status": "completed"
    },
    "tags": []
   },
   "source": [
    "# Creating Dataset"
   ]
  },
  {
   "cell_type": "code",
   "execution_count": 6,
   "id": "d5647d50",
   "metadata": {
    "execution": {
     "iopub.execute_input": "2023-03-14T13:10:59.286494Z",
     "iopub.status.busy": "2023-03-14T13:10:59.286206Z",
     "iopub.status.idle": "2023-03-14T13:10:59.295123Z",
     "shell.execute_reply": "2023-03-14T13:10:59.293928Z"
    },
    "papermill": {
     "duration": 0.022332,
     "end_time": "2023-03-14T13:10:59.297264",
     "exception": false,
     "start_time": "2023-03-14T13:10:59.274932",
     "status": "completed"
    },
    "tags": []
   },
   "outputs": [],
   "source": [
    "df = pd.DataFrame()"
   ]
  },
  {
   "cell_type": "code",
   "execution_count": 7,
   "id": "3a9ad17e",
   "metadata": {
    "execution": {
     "iopub.execute_input": "2023-03-14T13:10:59.319612Z",
     "iopub.status.busy": "2023-03-14T13:10:59.318741Z",
     "iopub.status.idle": "2023-03-14T13:10:59.324703Z",
     "shell.execute_reply": "2023-03-14T13:10:59.323839Z"
    },
    "papermill": {
     "duration": 0.01926,
     "end_time": "2023-03-14T13:10:59.326787",
     "exception": false,
     "start_time": "2023-03-14T13:10:59.307527",
     "status": "completed"
    },
    "tags": []
   },
   "outputs": [],
   "source": [
    "def split_data(texts):\n",
    "    genre = []\n",
    "    desc = []\n",
    "    for text in texts:\n",
    "        if len(text.split(':::')) == 4:\n",
    "            splited = text.split(\":::\")\n",
    "            genre.append(splited[-2])\n",
    "            desc.append(splited[-1])\n",
    "    return genre, desc"
   ]
  },
  {
   "cell_type": "code",
   "execution_count": 8,
   "id": "c6b6732b",
   "metadata": {
    "execution": {
     "iopub.execute_input": "2023-03-14T13:10:59.349174Z",
     "iopub.status.busy": "2023-03-14T13:10:59.348181Z",
     "iopub.status.idle": "2023-03-14T13:10:59.452609Z",
     "shell.execute_reply": "2023-03-14T13:10:59.451485Z"
    },
    "papermill": {
     "duration": 0.118424,
     "end_time": "2023-03-14T13:10:59.455510",
     "exception": false,
     "start_time": "2023-03-14T13:10:59.337086",
     "status": "completed"
    },
    "tags": []
   },
   "outputs": [],
   "source": [
    "genre, desc = split_data(file)"
   ]
  },
  {
   "cell_type": "code",
   "execution_count": 9,
   "id": "901d8231",
   "metadata": {
    "execution": {
     "iopub.execute_input": "2023-03-14T13:10:59.479819Z",
     "iopub.status.busy": "2023-03-14T13:10:59.479471Z",
     "iopub.status.idle": "2023-03-14T13:10:59.488064Z",
     "shell.execute_reply": "2023-03-14T13:10:59.487057Z"
    },
    "papermill": {
     "duration": 0.02342,
     "end_time": "2023-03-14T13:10:59.490562",
     "exception": false,
     "start_time": "2023-03-14T13:10:59.467142",
     "status": "completed"
    },
    "tags": []
   },
   "outputs": [
    {
     "data": {
      "text/plain": [
       "(54214, 54214)"
      ]
     },
     "execution_count": 9,
     "metadata": {},
     "output_type": "execute_result"
    }
   ],
   "source": [
    "#size of data\n",
    "len(genre), len(desc)"
   ]
  },
  {
   "cell_type": "code",
   "execution_count": 10,
   "id": "b2d48012",
   "metadata": {
    "execution": {
     "iopub.execute_input": "2023-03-14T13:10:59.514402Z",
     "iopub.status.busy": "2023-03-14T13:10:59.513574Z",
     "iopub.status.idle": "2023-03-14T13:10:59.553248Z",
     "shell.execute_reply": "2023-03-14T13:10:59.552161Z"
    },
    "papermill": {
     "duration": 0.053823,
     "end_time": "2023-03-14T13:10:59.555487",
     "exception": false,
     "start_time": "2023-03-14T13:10:59.501664",
     "status": "completed"
    },
    "tags": []
   },
   "outputs": [],
   "source": [
    "#creating dataframe for data\n",
    "df['genre'] = genre\n",
    "df['desc'] = desc"
   ]
  },
  {
   "cell_type": "code",
   "execution_count": 11,
   "id": "3dadd6c7",
   "metadata": {
    "execution": {
     "iopub.execute_input": "2023-03-14T13:10:59.578667Z",
     "iopub.status.busy": "2023-03-14T13:10:59.578347Z",
     "iopub.status.idle": "2023-03-14T13:10:59.591403Z",
     "shell.execute_reply": "2023-03-14T13:10:59.590384Z"
    },
    "papermill": {
     "duration": 0.027349,
     "end_time": "2023-03-14T13:10:59.593555",
     "exception": false,
     "start_time": "2023-03-14T13:10:59.566206",
     "status": "completed"
    },
    "tags": []
   },
   "outputs": [
    {
     "data": {
      "text/html": [
       "<div>\n",
       "<style scoped>\n",
       "    .dataframe tbody tr th:only-of-type {\n",
       "        vertical-align: middle;\n",
       "    }\n",
       "\n",
       "    .dataframe tbody tr th {\n",
       "        vertical-align: top;\n",
       "    }\n",
       "\n",
       "    .dataframe thead th {\n",
       "        text-align: right;\n",
       "    }\n",
       "</style>\n",
       "<table border=\"1\" class=\"dataframe\">\n",
       "  <thead>\n",
       "    <tr style=\"text-align: right;\">\n",
       "      <th></th>\n",
       "      <th>genre</th>\n",
       "      <th>desc</th>\n",
       "    </tr>\n",
       "  </thead>\n",
       "  <tbody>\n",
       "    <tr>\n",
       "      <th>0</th>\n",
       "      <td>drama</td>\n",
       "      <td>Listening in to a conversation between his do...</td>\n",
       "    </tr>\n",
       "    <tr>\n",
       "      <th>1</th>\n",
       "      <td>thriller</td>\n",
       "      <td>A brother and sister with a past incestuous r...</td>\n",
       "    </tr>\n",
       "    <tr>\n",
       "      <th>2</th>\n",
       "      <td>adult</td>\n",
       "      <td>As the bus empties the students for their fie...</td>\n",
       "    </tr>\n",
       "    <tr>\n",
       "      <th>3</th>\n",
       "      <td>drama</td>\n",
       "      <td>To help their unemployed father make ends mee...</td>\n",
       "    </tr>\n",
       "    <tr>\n",
       "      <th>4</th>\n",
       "      <td>drama</td>\n",
       "      <td>The film's title refers not only to the un-re...</td>\n",
       "    </tr>\n",
       "  </tbody>\n",
       "</table>\n",
       "</div>"
      ],
      "text/plain": [
       "        genre                                               desc\n",
       "0      drama    Listening in to a conversation between his do...\n",
       "1   thriller    A brother and sister with a past incestuous r...\n",
       "2      adult    As the bus empties the students for their fie...\n",
       "3      drama    To help their unemployed father make ends mee...\n",
       "4      drama    The film's title refers not only to the un-re..."
      ]
     },
     "execution_count": 11,
     "metadata": {},
     "output_type": "execute_result"
    }
   ],
   "source": [
    "df.head()"
   ]
  },
  {
   "cell_type": "code",
   "execution_count": 12,
   "id": "d68bdc4a",
   "metadata": {
    "execution": {
     "iopub.execute_input": "2023-03-14T13:10:59.616768Z",
     "iopub.status.busy": "2023-03-14T13:10:59.615856Z",
     "iopub.status.idle": "2023-03-14T13:10:59.623120Z",
     "shell.execute_reply": "2023-03-14T13:10:59.622036Z"
    },
    "papermill": {
     "duration": 0.021232,
     "end_time": "2023-03-14T13:10:59.625364",
     "exception": false,
     "start_time": "2023-03-14T13:10:59.604132",
     "status": "completed"
    },
    "tags": []
   },
   "outputs": [
    {
     "data": {
      "text/plain": [
       "' Listening in to a conversation between his doctor and parents, 10-year-old Oscar learns what nobody has the courage to tell him. He only has a few weeks to live. Furious, he refuses to speak to anyone except straight-talking Rose, the lady in pink he meets on the hospital stairs. As Christmas approaches, Rose uses her fantastical experiences as a professional wrestler, her imagination, wit and charm to allow Oscar to live life and love to the full, in the company of his friends Pop Corn, Einstein, Bacon and childhood sweetheart Peggy Blue.'"
      ]
     },
     "execution_count": 12,
     "metadata": {},
     "output_type": "execute_result"
    }
   ],
   "source": [
    "df['desc'][0]"
   ]
  },
  {
   "cell_type": "markdown",
   "id": "68735e52",
   "metadata": {
    "papermill": {
     "duration": 0.010149,
     "end_time": "2023-03-14T13:10:59.646154",
     "exception": false,
     "start_time": "2023-03-14T13:10:59.636005",
     "status": "completed"
    },
    "tags": []
   },
   "source": [
    "# Data Preprocessing"
   ]
  },
  {
   "cell_type": "code",
   "execution_count": 13,
   "id": "c6348863",
   "metadata": {
    "execution": {
     "iopub.execute_input": "2023-03-14T13:10:59.668615Z",
     "iopub.status.busy": "2023-03-14T13:10:59.668339Z",
     "iopub.status.idle": "2023-03-14T13:10:59.672550Z",
     "shell.execute_reply": "2023-03-14T13:10:59.671581Z"
    },
    "papermill": {
     "duration": 0.01812,
     "end_time": "2023-03-14T13:10:59.674692",
     "exception": false,
     "start_time": "2023-03-14T13:10:59.656572",
     "status": "completed"
    },
    "tags": []
   },
   "outputs": [],
   "source": [
    "#initialize the stemmer and lemmentizer\n",
    "stemmer = PorterStemmer()\n",
    "lemmatizer = WordNetLemmatizer()"
   ]
  },
  {
   "cell_type": "code",
   "execution_count": 14,
   "id": "e2c23025",
   "metadata": {
    "execution": {
     "iopub.execute_input": "2023-03-14T13:10:59.698333Z",
     "iopub.status.busy": "2023-03-14T13:10:59.697434Z",
     "iopub.status.idle": "2023-03-14T13:10:59.704978Z",
     "shell.execute_reply": "2023-03-14T13:10:59.704028Z"
    },
    "papermill": {
     "duration": 0.021824,
     "end_time": "2023-03-14T13:10:59.707301",
     "exception": false,
     "start_time": "2023-03-14T13:10:59.685477",
     "status": "completed"
    },
    "tags": []
   },
   "outputs": [],
   "source": [
    "#filtering the text\n",
    "def full_form(text):\n",
    "    text = text.lower()\n",
    "    plain = re.sub(r'[-<>?\\.,!\"(\\)\\/[\\]]', ' ', text)\n",
    "    plain = plain.replace(\"don't\", \"do not\")\n",
    "    plain = plain.replace(\"won't\", \"will not\")\n",
    "    plain = plain.replace(\"haven't\", \"have not\")\n",
    "    plain = plain.replace(\"can't\", \"cannot\")\n",
    "    plain = plain.replace(\"she's\", \"she is\")\n",
    "    plain = plain.replace(\"he's\", \"he is\")\n",
    "    plain = plain.replace(\"there're\", \"there are\")\n",
    "    plain = plain.replace(\"they'd\", \"they would\")\n",
    "    plain = plain.replace(\"\\'ll\", \" will\")\n",
    "    return plain   "
   ]
  },
  {
   "cell_type": "code",
   "execution_count": 15,
   "id": "845ef889",
   "metadata": {
    "execution": {
     "iopub.execute_input": "2023-03-14T13:10:59.730321Z",
     "iopub.status.busy": "2023-03-14T13:10:59.729513Z",
     "iopub.status.idle": "2023-03-14T13:10:59.735710Z",
     "shell.execute_reply": "2023-03-14T13:10:59.734850Z"
    },
    "papermill": {
     "duration": 0.019735,
     "end_time": "2023-03-14T13:10:59.737843",
     "exception": false,
     "start_time": "2023-03-14T13:10:59.718108",
     "status": "completed"
    },
    "tags": []
   },
   "outputs": [],
   "source": [
    "#preprocessing  text \n",
    "def remove_stop_words(data):\n",
    "  corpus = []\n",
    "  for i in range(0, len(data)):\n",
    "    #split the sentence\n",
    "    plain = full_form(data[i])\n",
    "    sentence = plain.split()\n",
    "    \n",
    "    #check and stem the word\n",
    "    review_processed = [stemmer.stem(word) for word in sentence if not word in stopwords.words('english')]\n",
    "    #rebuild the sentence\n",
    "    review_joint = ' '.join(review_processed)\n",
    "    #add the sentence into list\n",
    "    corpus.append(review_joint)\n",
    "  return corpus"
   ]
  },
  {
   "cell_type": "code",
   "execution_count": 16,
   "id": "f227848b",
   "metadata": {
    "execution": {
     "iopub.execute_input": "2023-03-14T13:10:59.760285Z",
     "iopub.status.busy": "2023-03-14T13:10:59.759727Z",
     "iopub.status.idle": "2023-03-14T13:24:36.284597Z",
     "shell.execute_reply": "2023-03-14T13:24:36.283386Z"
    },
    "papermill": {
     "duration": 816.539496,
     "end_time": "2023-03-14T13:24:36.287930",
     "exception": false,
     "start_time": "2023-03-14T13:10:59.748434",
     "status": "completed"
    },
    "tags": []
   },
   "outputs": [],
   "source": [
    "processed_desc = remove_stop_words(df['desc'])"
   ]
  },
  {
   "cell_type": "code",
   "execution_count": 17,
   "id": "5ac62dc3",
   "metadata": {
    "execution": {
     "iopub.execute_input": "2023-03-14T13:24:36.313795Z",
     "iopub.status.busy": "2023-03-14T13:24:36.313449Z",
     "iopub.status.idle": "2023-03-14T13:24:36.321546Z",
     "shell.execute_reply": "2023-03-14T13:24:36.320425Z"
    },
    "papermill": {
     "duration": 0.023591,
     "end_time": "2023-03-14T13:24:36.324069",
     "exception": false,
     "start_time": "2023-03-14T13:24:36.300478",
     "status": "completed"
    },
    "tags": []
   },
   "outputs": [
    {
     "data": {
      "text/plain": [
       "[54,\n",
       " 15,\n",
       " 56,\n",
       " 109,\n",
       " 58,\n",
       " 170,\n",
       " 33,\n",
       " 31,\n",
       " 42,\n",
       " 43,\n",
       " 37,\n",
       " 18,\n",
       " 73,\n",
       " 29,\n",
       " 47,\n",
       " 26,\n",
       " 33,\n",
       " 48,\n",
       " 206,\n",
       " 28,\n",
       " 35,\n",
       " 19,\n",
       " 88,\n",
       " 46,\n",
       " 28,\n",
       " 30,\n",
       " 56,\n",
       " 28,\n",
       " 34,\n",
       " 74,\n",
       " 43,\n",
       " 63,\n",
       " 65,\n",
       " 18,\n",
       " 57,\n",
       " 41,\n",
       " 63,\n",
       " 41,\n",
       " 24,\n",
       " 57]"
      ]
     },
     "execution_count": 17,
     "metadata": {},
     "output_type": "execute_result"
    }
   ],
   "source": [
    "#sample length for getting overall idea for max length of sentence\n",
    "length = [len(processed_desc[i].split()) for i in range(40)]\n",
    "length"
   ]
  },
  {
   "cell_type": "code",
   "execution_count": 18,
   "id": "63fe1d1b",
   "metadata": {
    "execution": {
     "iopub.execute_input": "2023-03-14T13:24:36.347754Z",
     "iopub.status.busy": "2023-03-14T13:24:36.347457Z",
     "iopub.status.idle": "2023-03-14T13:24:36.352105Z",
     "shell.execute_reply": "2023-03-14T13:24:36.351077Z"
    },
    "papermill": {
     "duration": 0.019076,
     "end_time": "2023-03-14T13:24:36.354283",
     "exception": false,
     "start_time": "2023-03-14T13:24:36.335207",
     "status": "completed"
    },
    "tags": []
   },
   "outputs": [],
   "source": [
    "#filtering the genre\n",
    "def filter_text(text):\n",
    "    text = text.lower()\n",
    "    plain = re.sub(r'[-<>?\\.,@#$%&*!\"(\\)\\/[\\]]', '', text)\n",
    "    return plain"
   ]
  },
  {
   "cell_type": "code",
   "execution_count": 19,
   "id": "fec175ae",
   "metadata": {
    "execution": {
     "iopub.execute_input": "2023-03-14T13:24:36.379009Z",
     "iopub.status.busy": "2023-03-14T13:24:36.377353Z",
     "iopub.status.idle": "2023-03-14T13:24:36.461585Z",
     "shell.execute_reply": "2023-03-14T13:24:36.460747Z"
    },
    "papermill": {
     "duration": 0.098208,
     "end_time": "2023-03-14T13:24:36.463780",
     "exception": false,
     "start_time": "2023-03-14T13:24:36.365572",
     "status": "completed"
    },
    "tags": []
   },
   "outputs": [],
   "source": [
    "filtered_genre = []\n",
    "for gnre in df['genre']:\n",
    "    filtered_genre.append(filter_text(gnre))"
   ]
  },
  {
   "cell_type": "code",
   "execution_count": 20,
   "id": "50b8358e",
   "metadata": {
    "execution": {
     "iopub.execute_input": "2023-03-14T13:24:36.486733Z",
     "iopub.status.busy": "2023-03-14T13:24:36.486001Z",
     "iopub.status.idle": "2023-03-14T13:24:36.493906Z",
     "shell.execute_reply": "2023-03-14T13:24:36.493045Z"
    },
    "papermill": {
     "duration": 0.021906,
     "end_time": "2023-03-14T13:24:36.496104",
     "exception": false,
     "start_time": "2023-03-14T13:24:36.474198",
     "status": "completed"
    },
    "tags": []
   },
   "outputs": [
    {
     "data": {
      "text/plain": [
       "(54214, 54214)"
      ]
     },
     "execution_count": 20,
     "metadata": {},
     "output_type": "execute_result"
    }
   ],
   "source": [
    "len(filtered_genre), len(genre)"
   ]
  },
  {
   "cell_type": "code",
   "execution_count": 21,
   "id": "713d241b",
   "metadata": {
    "execution": {
     "iopub.execute_input": "2023-03-14T13:24:36.519551Z",
     "iopub.status.busy": "2023-03-14T13:24:36.519259Z",
     "iopub.status.idle": "2023-03-14T13:24:36.535204Z",
     "shell.execute_reply": "2023-03-14T13:24:36.534166Z"
    },
    "papermill": {
     "duration": 0.030737,
     "end_time": "2023-03-14T13:24:36.537521",
     "exception": false,
     "start_time": "2023-03-14T13:24:36.506784",
     "status": "completed"
    },
    "tags": []
   },
   "outputs": [],
   "source": [
    "df['preprocessed_desc'] = processed_desc\n",
    "df['preprocessed_genre'] = filtered_genre"
   ]
  },
  {
   "cell_type": "code",
   "execution_count": 22,
   "id": "f6e94c4f",
   "metadata": {
    "execution": {
     "iopub.execute_input": "2023-03-14T13:24:36.563457Z",
     "iopub.status.busy": "2023-03-14T13:24:36.562794Z",
     "iopub.status.idle": "2023-03-14T13:24:36.752529Z",
     "shell.execute_reply": "2023-03-14T13:24:36.751558Z"
    },
    "papermill": {
     "duration": 0.205328,
     "end_time": "2023-03-14T13:24:36.754871",
     "exception": false,
     "start_time": "2023-03-14T13:24:36.549543",
     "status": "completed"
    },
    "tags": []
   },
   "outputs": [],
   "source": [
    "# Add a new column with the length of each sentence\n",
    "df['length'] = df['preprocessed_desc'].apply(lambda x: len(x.split()))"
   ]
  },
  {
   "cell_type": "code",
   "execution_count": 23,
   "id": "2f9391b8",
   "metadata": {
    "execution": {
     "iopub.execute_input": "2023-03-14T13:24:36.779845Z",
     "iopub.status.busy": "2023-03-14T13:24:36.778807Z",
     "iopub.status.idle": "2023-03-14T13:24:36.807528Z",
     "shell.execute_reply": "2023-03-14T13:24:36.806593Z"
    },
    "papermill": {
     "duration": 0.043178,
     "end_time": "2023-03-14T13:24:36.809846",
     "exception": false,
     "start_time": "2023-03-14T13:24:36.766668",
     "status": "completed"
    },
    "tags": []
   },
   "outputs": [],
   "source": [
    "# Sort the DataFrame based on the length column\n",
    "df = df.sort_values('length')"
   ]
  },
  {
   "cell_type": "code",
   "execution_count": 24,
   "id": "68e53d7c",
   "metadata": {
    "execution": {
     "iopub.execute_input": "2023-03-14T13:24:36.833553Z",
     "iopub.status.busy": "2023-03-14T13:24:36.832985Z",
     "iopub.status.idle": "2023-03-14T13:24:36.852814Z",
     "shell.execute_reply": "2023-03-14T13:24:36.851906Z"
    },
    "papermill": {
     "duration": 0.033688,
     "end_time": "2023-03-14T13:24:36.855052",
     "exception": false,
     "start_time": "2023-03-14T13:24:36.821364",
     "status": "completed"
    },
    "tags": []
   },
   "outputs": [],
   "source": [
    "# Reset the index\n",
    "df = df.reset_index()"
   ]
  },
  {
   "cell_type": "code",
   "execution_count": 25,
   "id": "375b1159",
   "metadata": {
    "execution": {
     "iopub.execute_input": "2023-03-14T13:24:36.878300Z",
     "iopub.status.busy": "2023-03-14T13:24:36.877355Z",
     "iopub.status.idle": "2023-03-14T13:24:36.889257Z",
     "shell.execute_reply": "2023-03-14T13:24:36.888329Z"
    },
    "papermill": {
     "duration": 0.025478,
     "end_time": "2023-03-14T13:24:36.891301",
     "exception": false,
     "start_time": "2023-03-14T13:24:36.865823",
     "status": "completed"
    },
    "tags": []
   },
   "outputs": [
    {
     "data": {
      "text/html": [
       "<div>\n",
       "<style scoped>\n",
       "    .dataframe tbody tr th:only-of-type {\n",
       "        vertical-align: middle;\n",
       "    }\n",
       "\n",
       "    .dataframe tbody tr th {\n",
       "        vertical-align: top;\n",
       "    }\n",
       "\n",
       "    .dataframe thead th {\n",
       "        text-align: right;\n",
       "    }\n",
       "</style>\n",
       "<table border=\"1\" class=\"dataframe\">\n",
       "  <thead>\n",
       "    <tr style=\"text-align: right;\">\n",
       "      <th></th>\n",
       "      <th>index</th>\n",
       "      <th>genre</th>\n",
       "      <th>desc</th>\n",
       "      <th>preprocessed_desc</th>\n",
       "      <th>preprocessed_genre</th>\n",
       "      <th>length</th>\n",
       "    </tr>\n",
       "  </thead>\n",
       "  <tbody>\n",
       "    <tr>\n",
       "      <th>0</th>\n",
       "      <td>4754</td>\n",
       "      <td>drama</td>\n",
       "      <td>Details of the plot are being kept under wraps.</td>\n",
       "      <td>detail plot kept wrap</td>\n",
       "      <td>drama</td>\n",
       "      <td>4</td>\n",
       "    </tr>\n",
       "    <tr>\n",
       "      <th>1</th>\n",
       "      <td>52224</td>\n",
       "      <td>comedy</td>\n",
       "      <td>A buddy film set in the world of fashion.</td>\n",
       "      <td>buddi film set world fashion</td>\n",
       "      <td>comedy</td>\n",
       "      <td>5</td>\n",
       "    </tr>\n",
       "    <tr>\n",
       "      <th>2</th>\n",
       "      <td>12361</td>\n",
       "      <td>documentary</td>\n",
       "      <td>The story of the Irish National Baseball Team.</td>\n",
       "      <td>stori irish nation basebal team</td>\n",
       "      <td>documentary</td>\n",
       "      <td>5</td>\n",
       "    </tr>\n",
       "    <tr>\n",
       "      <th>3</th>\n",
       "      <td>40382</td>\n",
       "      <td>drama</td>\n",
       "      <td>The journey of a couple during their first ex...</td>\n",
       "      <td>journey coupl first experi swinger' parti</td>\n",
       "      <td>drama</td>\n",
       "      <td>6</td>\n",
       "    </tr>\n",
       "    <tr>\n",
       "      <th>4</th>\n",
       "      <td>30635</td>\n",
       "      <td>comedy</td>\n",
       "      <td>A journalist finds he can see ghosts after be...</td>\n",
       "      <td>journalist find see ghost struck lightn</td>\n",
       "      <td>comedy</td>\n",
       "      <td>6</td>\n",
       "    </tr>\n",
       "    <tr>\n",
       "      <th>5</th>\n",
       "      <td>48605</td>\n",
       "      <td>short</td>\n",
       "      <td>Documental sobre canciones de Enric Barbat.</td>\n",
       "      <td>document sobr cancion de enric barbat</td>\n",
       "      <td>short</td>\n",
       "      <td>6</td>\n",
       "    </tr>\n",
       "    <tr>\n",
       "      <th>6</th>\n",
       "      <td>23669</td>\n",
       "      <td>short</td>\n",
       "      <td>Documental rodado sobre fotografías fijas de ...</td>\n",
       "      <td>document rodado sobr fotografía fija de venecia</td>\n",
       "      <td>short</td>\n",
       "      <td>7</td>\n",
       "    </tr>\n",
       "    <tr>\n",
       "      <th>7</th>\n",
       "      <td>30687</td>\n",
       "      <td>documentary</td>\n",
       "      <td>A portrait of three transsexuals living in th...</td>\n",
       "      <td>portrait three transsexu live islam republ iran</td>\n",
       "      <td>documentary</td>\n",
       "      <td>7</td>\n",
       "    </tr>\n",
       "    <tr>\n",
       "      <th>8</th>\n",
       "      <td>47519</td>\n",
       "      <td>short</td>\n",
       "      <td>Documental sobre la Estación de Chamartín (Ma...</td>\n",
       "      <td>document sobr la estación de chamartín madrid</td>\n",
       "      <td>short</td>\n",
       "      <td>7</td>\n",
       "    </tr>\n",
       "    <tr>\n",
       "      <th>9</th>\n",
       "      <td>33551</td>\n",
       "      <td>fantasy</td>\n",
       "      <td>A woman realizes that her fate is connected t...</td>\n",
       "      <td>woman realiz fate connect two men soulmat</td>\n",
       "      <td>fantasy</td>\n",
       "      <td>7</td>\n",
       "    </tr>\n",
       "  </tbody>\n",
       "</table>\n",
       "</div>"
      ],
      "text/plain": [
       "   index          genre                                               desc  \\\n",
       "0   4754         drama     Details of the plot are being kept under wraps.   \n",
       "1  52224        comedy           A buddy film set in the world of fashion.   \n",
       "2  12361   documentary      The story of the Irish National Baseball Team.   \n",
       "3  40382         drama    The journey of a couple during their first ex...   \n",
       "4  30635        comedy    A journalist finds he can see ghosts after be...   \n",
       "5  48605         short         Documental sobre canciones de Enric Barbat.   \n",
       "6  23669         short    Documental rodado sobre fotografías fijas de ...   \n",
       "7  30687   documentary    A portrait of three transsexuals living in th...   \n",
       "8  47519         short    Documental sobre la Estación de Chamartín (Ma...   \n",
       "9  33551       fantasy    A woman realizes that her fate is connected t...   \n",
       "\n",
       "                                 preprocessed_desc preprocessed_genre  length  \n",
       "0                            detail plot kept wrap             drama        4  \n",
       "1                     buddi film set world fashion            comedy        5  \n",
       "2                  stori irish nation basebal team       documentary        5  \n",
       "3        journey coupl first experi swinger' parti             drama        6  \n",
       "4          journalist find see ghost struck lightn            comedy        6  \n",
       "5            document sobr cancion de enric barbat             short        6  \n",
       "6  document rodado sobr fotografía fija de venecia             short        7  \n",
       "7  portrait three transsexu live islam republ iran       documentary        7  \n",
       "8    document sobr la estación de chamartín madrid             short        7  \n",
       "9        woman realiz fate connect two men soulmat           fantasy        7  "
      ]
     },
     "execution_count": 25,
     "metadata": {},
     "output_type": "execute_result"
    }
   ],
   "source": [
    "df.head(10)"
   ]
  },
  {
   "cell_type": "code",
   "execution_count": 26,
   "id": "4144c6af",
   "metadata": {
    "execution": {
     "iopub.execute_input": "2023-03-14T13:24:36.914356Z",
     "iopub.status.busy": "2023-03-14T13:24:36.914090Z",
     "iopub.status.idle": "2023-03-14T13:24:36.926651Z",
     "shell.execute_reply": "2023-03-14T13:24:36.925801Z"
    },
    "papermill": {
     "duration": 0.026354,
     "end_time": "2023-03-14T13:24:36.928676",
     "exception": false,
     "start_time": "2023-03-14T13:24:36.902322",
     "status": "completed"
    },
    "tags": []
   },
   "outputs": [],
   "source": [
    "df['label'], _ = pd.factorize(df['preprocessed_genre'])"
   ]
  },
  {
   "cell_type": "code",
   "execution_count": 27,
   "id": "367e0174",
   "metadata": {
    "execution": {
     "iopub.execute_input": "2023-03-14T13:24:36.951983Z",
     "iopub.status.busy": "2023-03-14T13:24:36.951197Z",
     "iopub.status.idle": "2023-03-14T13:24:36.958022Z",
     "shell.execute_reply": "2023-03-14T13:24:36.957051Z"
    },
    "papermill": {
     "duration": 0.020705,
     "end_time": "2023-03-14T13:24:36.960041",
     "exception": false,
     "start_time": "2023-03-14T13:24:36.939336",
     "status": "completed"
    },
    "tags": []
   },
   "outputs": [
    {
     "data": {
      "text/plain": [
       "(54214, 7)"
      ]
     },
     "execution_count": 27,
     "metadata": {},
     "output_type": "execute_result"
    }
   ],
   "source": [
    "df.shape"
   ]
  },
  {
   "cell_type": "code",
   "execution_count": 28,
   "id": "e7583206",
   "metadata": {
    "execution": {
     "iopub.execute_input": "2023-03-14T13:24:36.982882Z",
     "iopub.status.busy": "2023-03-14T13:24:36.982624Z",
     "iopub.status.idle": "2023-03-14T13:24:36.992978Z",
     "shell.execute_reply": "2023-03-14T13:24:36.992065Z"
    },
    "papermill": {
     "duration": 0.024109,
     "end_time": "2023-03-14T13:24:36.994975",
     "exception": false,
     "start_time": "2023-03-14T13:24:36.970866",
     "status": "completed"
    },
    "tags": []
   },
   "outputs": [
    {
     "data": {
      "text/plain": [
       "27"
      ]
     },
     "execution_count": 28,
     "metadata": {},
     "output_type": "execute_result"
    }
   ],
   "source": [
    "len(df['label'].unique())"
   ]
  },
  {
   "cell_type": "code",
   "execution_count": 29,
   "id": "23a48c94",
   "metadata": {
    "execution": {
     "iopub.execute_input": "2023-03-14T13:24:37.018448Z",
     "iopub.status.busy": "2023-03-14T13:24:37.018195Z",
     "iopub.status.idle": "2023-03-14T13:24:37.034524Z",
     "shell.execute_reply": "2023-03-14T13:24:37.033503Z"
    },
    "papermill": {
     "duration": 0.03054,
     "end_time": "2023-03-14T13:24:37.036781",
     "exception": false,
     "start_time": "2023-03-14T13:24:37.006241",
     "status": "completed"
    },
    "tags": []
   },
   "outputs": [
    {
     "data": {
      "text/plain": [
       "(array([' drama ', ' comedy ', ' documentary ', ' short ', ' fantasy ',\n",
       "        ' music ', ' musical ', ' adult ', ' biography ', ' scifi ',\n",
       "        ' action ', ' thriller ', ' animation ', ' western ', ' crime ',\n",
       "        ' romance ', ' sport ', ' history ', ' horror ', ' talkshow ',\n",
       "        ' realitytv ', ' adventure ', ' family ', ' mystery ',\n",
       "        ' gameshow ', ' war ', ' news '], dtype=object),\n",
       " 27)"
      ]
     },
     "execution_count": 29,
     "metadata": {},
     "output_type": "execute_result"
    }
   ],
   "source": [
    "df['preprocessed_genre'].unique(), len(df['preprocessed_genre'].unique())"
   ]
  },
  {
   "cell_type": "markdown",
   "id": "0e29ce8c",
   "metadata": {
    "papermill": {
     "duration": 0.011119,
     "end_time": "2023-03-14T13:24:37.059096",
     "exception": false,
     "start_time": "2023-03-14T13:24:37.047977",
     "status": "completed"
    },
    "tags": []
   },
   "source": [
    "# Embedding"
   ]
  },
  {
   "cell_type": "code",
   "execution_count": 30,
   "id": "c9cde139",
   "metadata": {
    "execution": {
     "iopub.execute_input": "2023-03-14T13:24:37.082606Z",
     "iopub.status.busy": "2023-03-14T13:24:37.082354Z",
     "iopub.status.idle": "2023-03-14T13:24:37.086225Z",
     "shell.execute_reply": "2023-03-14T13:24:37.085283Z"
    },
    "papermill": {
     "duration": 0.018087,
     "end_time": "2023-03-14T13:24:37.088306",
     "exception": false,
     "start_time": "2023-03-14T13:24:37.070219",
     "status": "completed"
    },
    "tags": []
   },
   "outputs": [],
   "source": [
    "#sentence length\n",
    "sent_length = 250\n",
    "#vocabulary size\n",
    "voc_size = 10000"
   ]
  },
  {
   "cell_type": "code",
   "execution_count": 31,
   "id": "7e97c4ba",
   "metadata": {
    "execution": {
     "iopub.execute_input": "2023-03-14T13:24:37.112242Z",
     "iopub.status.busy": "2023-03-14T13:24:37.111958Z",
     "iopub.status.idle": "2023-03-14T13:24:39.065547Z",
     "shell.execute_reply": "2023-03-14T13:24:39.064474Z"
    },
    "papermill": {
     "duration": 1.968887,
     "end_time": "2023-03-14T13:24:39.068157",
     "exception": false,
     "start_time": "2023-03-14T13:24:37.099270",
     "status": "completed"
    },
    "tags": []
   },
   "outputs": [],
   "source": [
    "#convert into one hot vector\n",
    "onehot_text = [one_hot(word, voc_size) for word in df['preprocessed_desc']]"
   ]
  },
  {
   "cell_type": "code",
   "execution_count": 32,
   "id": "9edaa7a8",
   "metadata": {
    "execution": {
     "iopub.execute_input": "2023-03-14T13:24:39.092900Z",
     "iopub.status.busy": "2023-03-14T13:24:39.092599Z",
     "iopub.status.idle": "2023-03-14T13:24:39.102851Z",
     "shell.execute_reply": "2023-03-14T13:24:39.101930Z"
    },
    "papermill": {
     "duration": 0.024987,
     "end_time": "2023-03-14T13:24:39.104861",
     "exception": false,
     "start_time": "2023-03-14T13:24:39.079874",
     "status": "completed"
    },
    "tags": []
   },
   "outputs": [
    {
     "data": {
      "text/plain": [
       "(4, 4)"
      ]
     },
     "execution_count": 32,
     "metadata": {},
     "output_type": "execute_result"
    }
   ],
   "source": [
    "len(onehot_text[0]), len(df['preprocessed_desc'][0].split())   "
   ]
  },
  {
   "cell_type": "code",
   "execution_count": 33,
   "id": "3a16a1c2",
   "metadata": {
    "execution": {
     "iopub.execute_input": "2023-03-14T13:24:39.128872Z",
     "iopub.status.busy": "2023-03-14T13:24:39.128584Z",
     "iopub.status.idle": "2023-03-14T13:24:39.411972Z",
     "shell.execute_reply": "2023-03-14T13:24:39.410974Z"
    },
    "papermill": {
     "duration": 0.298387,
     "end_time": "2023-03-14T13:24:39.414458",
     "exception": false,
     "start_time": "2023-03-14T13:24:39.116071",
     "status": "completed"
    },
    "tags": []
   },
   "outputs": [],
   "source": [
    "#embedding\n",
    "embedd_docs = pad_sequences(onehot_text, padding='pre', maxlen=sent_length)"
   ]
  },
  {
   "cell_type": "code",
   "execution_count": 34,
   "id": "9b9c618c",
   "metadata": {
    "execution": {
     "iopub.execute_input": "2023-03-14T13:24:39.438751Z",
     "iopub.status.busy": "2023-03-14T13:24:39.438460Z",
     "iopub.status.idle": "2023-03-14T13:24:39.450027Z",
     "shell.execute_reply": "2023-03-14T13:24:39.449018Z"
    },
    "papermill": {
     "duration": 0.025922,
     "end_time": "2023-03-14T13:24:39.452263",
     "exception": false,
     "start_time": "2023-03-14T13:24:39.426341",
     "status": "completed"
    },
    "tags": []
   },
   "outputs": [
    {
     "data": {
      "text/plain": [
       "array([   0,    0,    0,    0,    0,    0,    0,    0,    0,    0,    0,\n",
       "          0,    0,    0,    0,    0,    0,    0,    0,    0,    0,    0,\n",
       "          0,    0,    0,    0,    0,    0,    0,    0,    0,    0,    0,\n",
       "          0,    0,    0,    0,    0,    0,    0,    0,    0,    0,    0,\n",
       "          0,    0,    0,    0,    0,    0,    0,    0,    0,    0,    0,\n",
       "          0,    0,    0,    0,    0,    0,    0,    0,    0,    0,    0,\n",
       "          0,    0,    0,    0,    0,    0,    0,    0,    0,    0,    0,\n",
       "          0,    0,    0,    0,    0,    0,    0,    0,    0,    0,    0,\n",
       "          0,    0,    0,    0,    0,    0,    0,    0,    0,    0,    0,\n",
       "          0,    0,    0,    0,    0,    0,    0,    0,    0,    0,    0,\n",
       "          0,    0,    0,    0,    0,    0,    0,    0,    0,    0,    0,\n",
       "          0,    0,    0,    0,    0,    0,    0,    0,    0,    0,    0,\n",
       "          0,    0,    0,    0,    0,    0,    0,    0,    0,    0,    0,\n",
       "          0,    0,    0,    0,    0,    0,    0,    0,    0,    0,    0,\n",
       "          0,    0,    0,    0,    0,    0,    0,    0,    0,    0,    0,\n",
       "          0,    0,    0,    0,    0,    0,    0,    0,    0,    0,    0,\n",
       "          0,    0,    0,    0,    0,    0,    0,    0,    0,    0,    0,\n",
       "          0,    0,    0,    0,    0,    0,    0,    0,    0,    0,    0,\n",
       "          0,    0,    0,    0,    0,    0,    0,    0,    0,    0,    0,\n",
       "          0,    0,    0,    0,    0,    0,    0,    0,    0,    0,    0,\n",
       "          0,    0,    0,    0,    0,    0,    0,    0,    0,    0,    0,\n",
       "          0,    0,    0,    0,    0,    0,    0,    0,    0,    0,    0,\n",
       "          0,    0,    0,    0, 3953, 5612, 3713, 5623], dtype=int32)"
      ]
     },
     "execution_count": 34,
     "metadata": {},
     "output_type": "execute_result"
    }
   ],
   "source": [
    "embedd_docs[0]"
   ]
  },
  {
   "cell_type": "code",
   "execution_count": 35,
   "id": "abd8f136",
   "metadata": {
    "execution": {
     "iopub.execute_input": "2023-03-14T13:24:39.475916Z",
     "iopub.status.busy": "2023-03-14T13:24:39.475634Z",
     "iopub.status.idle": "2023-03-14T13:24:39.480366Z",
     "shell.execute_reply": "2023-03-14T13:24:39.479206Z"
    },
    "papermill": {
     "duration": 0.019404,
     "end_time": "2023-03-14T13:24:39.482904",
     "exception": false,
     "start_time": "2023-03-14T13:24:39.463500",
     "status": "completed"
    },
    "tags": []
   },
   "outputs": [],
   "source": [
    "y = df['label'].values"
   ]
  },
  {
   "cell_type": "code",
   "execution_count": 36,
   "id": "ff87048d",
   "metadata": {
    "execution": {
     "iopub.execute_input": "2023-03-14T13:24:39.506583Z",
     "iopub.status.busy": "2023-03-14T13:24:39.506328Z",
     "iopub.status.idle": "2023-03-14T13:24:39.515301Z",
     "shell.execute_reply": "2023-03-14T13:24:39.514464Z"
    },
    "papermill": {
     "duration": 0.023633,
     "end_time": "2023-03-14T13:24:39.517733",
     "exception": false,
     "start_time": "2023-03-14T13:24:39.494100",
     "status": "completed"
    },
    "tags": []
   },
   "outputs": [],
   "source": [
    "#change y labels into categorical value [1] -> [1 0 0 0 0 0 0...0]\n",
    "y_label = to_categorical(y)"
   ]
  },
  {
   "cell_type": "code",
   "execution_count": 37,
   "id": "f8d4c389",
   "metadata": {
    "execution": {
     "iopub.execute_input": "2023-03-14T13:24:39.542552Z",
     "iopub.status.busy": "2023-03-14T13:24:39.542070Z",
     "iopub.status.idle": "2023-03-14T13:24:39.548091Z",
     "shell.execute_reply": "2023-03-14T13:24:39.547074Z"
    },
    "papermill": {
     "duration": 0.020726,
     "end_time": "2023-03-14T13:24:39.550115",
     "exception": false,
     "start_time": "2023-03-14T13:24:39.529389",
     "status": "completed"
    },
    "tags": []
   },
   "outputs": [
    {
     "data": {
      "text/plain": [
       "(54214, 54214)"
      ]
     },
     "execution_count": 37,
     "metadata": {},
     "output_type": "execute_result"
    }
   ],
   "source": [
    "#shape of data\n",
    "len(embedd_docs), len(y_label)"
   ]
  },
  {
   "cell_type": "code",
   "execution_count": 38,
   "id": "ec501c28",
   "metadata": {
    "execution": {
     "iopub.execute_input": "2023-03-14T13:24:39.575111Z",
     "iopub.status.busy": "2023-03-14T13:24:39.574340Z",
     "iopub.status.idle": "2023-03-14T13:24:39.601734Z",
     "shell.execute_reply": "2023-03-14T13:24:39.600847Z"
    },
    "papermill": {
     "duration": 0.042301,
     "end_time": "2023-03-14T13:24:39.604009",
     "exception": false,
     "start_time": "2023-03-14T13:24:39.561708",
     "status": "completed"
    },
    "tags": []
   },
   "outputs": [],
   "source": [
    "#convert into numpy array\n",
    "X_data = np.array(embedd_docs)\n",
    "y_data = np.array(y_label)"
   ]
  },
  {
   "cell_type": "code",
   "execution_count": 39,
   "id": "56599f2d",
   "metadata": {
    "execution": {
     "iopub.execute_input": "2023-03-14T13:24:39.628364Z",
     "iopub.status.busy": "2023-03-14T13:24:39.628094Z",
     "iopub.status.idle": "2023-03-14T13:24:39.634114Z",
     "shell.execute_reply": "2023-03-14T13:24:39.633138Z"
    },
    "papermill": {
     "duration": 0.020458,
     "end_time": "2023-03-14T13:24:39.636106",
     "exception": false,
     "start_time": "2023-03-14T13:24:39.615648",
     "status": "completed"
    },
    "tags": []
   },
   "outputs": [
    {
     "data": {
      "text/plain": [
       "((54214, 250), (54214, 27))"
      ]
     },
     "execution_count": 39,
     "metadata": {},
     "output_type": "execute_result"
    }
   ],
   "source": [
    "X_data.shape, y_data.shape"
   ]
  },
  {
   "cell_type": "code",
   "execution_count": 40,
   "id": "49ee1151",
   "metadata": {
    "execution": {
     "iopub.execute_input": "2023-03-14T13:24:39.661138Z",
     "iopub.status.busy": "2023-03-14T13:24:39.660360Z",
     "iopub.status.idle": "2023-03-14T13:24:39.702973Z",
     "shell.execute_reply": "2023-03-14T13:24:39.701793Z"
    },
    "papermill": {
     "duration": 0.058201,
     "end_time": "2023-03-14T13:24:39.706307",
     "exception": false,
     "start_time": "2023-03-14T13:24:39.648106",
     "status": "completed"
    },
    "tags": []
   },
   "outputs": [
    {
     "name": "stdout",
     "output_type": "stream",
     "text": [
      "(43371, 250) (43371, 27)\n",
      "(10843, 250) (10843, 27)\n"
     ]
    }
   ],
   "source": [
    "X_train, X_test, Y_train, Y_test = train_test_split(X_data,y_data, test_size = 0.2)\n",
    "print(X_train.shape,Y_train.shape)\n",
    "print(X_test.shape,Y_test.shape)"
   ]
  },
  {
   "cell_type": "code",
   "execution_count": 41,
   "id": "fbccdb4c",
   "metadata": {
    "execution": {
     "iopub.execute_input": "2023-03-14T13:24:39.733501Z",
     "iopub.status.busy": "2023-03-14T13:24:39.732631Z",
     "iopub.status.idle": "2023-03-14T13:24:39.739330Z",
     "shell.execute_reply": "2023-03-14T13:24:39.737875Z"
    },
    "papermill": {
     "duration": 0.022554,
     "end_time": "2023-03-14T13:24:39.742402",
     "exception": false,
     "start_time": "2023-03-14T13:24:39.719848",
     "status": "completed"
    },
    "tags": []
   },
   "outputs": [
    {
     "name": "stdout",
     "output_type": "stream",
     "text": [
      "[0. 0. 1. 0. 0. 0. 0. 0. 0. 0. 0. 0. 0. 0. 0. 0. 0. 0. 0. 0. 0. 0. 0. 0.\n",
      " 0. 0. 0.]\n",
      "27\n"
     ]
    }
   ],
   "source": [
    "print(Y_train[0])\n",
    "print(len(Y_train[0]))"
   ]
  },
  {
   "cell_type": "markdown",
   "id": "cdef398c",
   "metadata": {
    "papermill": {
     "duration": 0.012283,
     "end_time": "2023-03-14T13:24:39.769383",
     "exception": false,
     "start_time": "2023-03-14T13:24:39.757100",
     "status": "completed"
    },
    "tags": []
   },
   "source": [
    "# Model"
   ]
  },
  {
   "cell_type": "code",
   "execution_count": 42,
   "id": "592747cd",
   "metadata": {
    "execution": {
     "iopub.execute_input": "2023-03-14T13:24:39.794468Z",
     "iopub.status.busy": "2023-03-14T13:24:39.794175Z",
     "iopub.status.idle": "2023-03-14T13:24:46.614770Z",
     "shell.execute_reply": "2023-03-14T13:24:46.613933Z"
    },
    "papermill": {
     "duration": 6.845757,
     "end_time": "2023-03-14T13:24:46.626694",
     "exception": false,
     "start_time": "2023-03-14T13:24:39.780937",
     "status": "completed"
    },
    "tags": []
   },
   "outputs": [
    {
     "name": "stdout",
     "output_type": "stream",
     "text": [
      "Model: \"sequential\"\n",
      "_________________________________________________________________\n",
      " Layer (type)                Output Shape              Param #   \n",
      "=================================================================\n",
      " embedding (Embedding)       (None, 250, 300)          3000000   \n",
      "                                                                 \n",
      " lstm (LSTM)                 (None, 250, 1024)         5427200   \n",
      "                                                                 \n",
      " dropout (Dropout)           (None, 250, 1024)         0         \n",
      "                                                                 \n",
      " lstm_1 (LSTM)               (None, 256)               1311744   \n",
      "                                                                 \n",
      " dense (Dense)               (None, 27)                6939      \n",
      "                                                                 \n",
      "=================================================================\n",
      "Total params: 9,745,883\n",
      "Trainable params: 9,745,883\n",
      "Non-trainable params: 0\n",
      "_________________________________________________________________\n",
      "None\n"
     ]
    }
   ],
   "source": [
    "# Creating model\n",
    "embedding_vector_features=300\n",
    "model=Sequential()\n",
    "model.add(Embedding(voc_size,embedding_vector_features,input_length=sent_length))\n",
    "model.add(LSTM(1024, return_sequences=True))\n",
    "model.add(Dropout(0.2))\n",
    "model.add(LSTM(256))\n",
    "model.add(Dense(27,activation='sigmoid'))\n",
    "model.compile(loss='categorical_crossentropy',optimizer='adam',metrics=['accuracy'])\n",
    "print(model.summary())"
   ]
  },
  {
   "cell_type": "code",
   "execution_count": 43,
   "id": "22471417",
   "metadata": {
    "execution": {
     "iopub.execute_input": "2023-03-14T13:24:46.655306Z",
     "iopub.status.busy": "2023-03-14T13:24:46.654975Z",
     "iopub.status.idle": "2023-03-14T14:03:12.239302Z",
     "shell.execute_reply": "2023-03-14T14:03:12.238088Z"
    },
    "papermill": {
     "duration": 2305.601114,
     "end_time": "2023-03-14T14:03:12.241615",
     "exception": false,
     "start_time": "2023-03-14T13:24:46.640501",
     "status": "completed"
    },
    "tags": []
   },
   "outputs": [
    {
     "name": "stdout",
     "output_type": "stream",
     "text": [
      "Epoch 1/10\n",
      "1356/1356 [==============================] - 262s 184ms/step - loss: 2.2472 - accuracy: 0.3269 - val_loss: 2.1037 - val_accuracy: 0.4139\n",
      "Epoch 2/10\n",
      "1356/1356 [==============================] - 231s 171ms/step - loss: 1.9493 - accuracy: 0.4432 - val_loss: 1.8886 - val_accuracy: 0.4551\n",
      "Epoch 3/10\n",
      "1356/1356 [==============================] - 223s 164ms/step - loss: 1.7413 - accuracy: 0.4933 - val_loss: 1.8086 - val_accuracy: 0.4749\n",
      "Epoch 4/10\n",
      "1356/1356 [==============================] - 223s 165ms/step - loss: 1.5832 - accuracy: 0.5395 - val_loss: 1.7782 - val_accuracy: 0.4912\n",
      "Epoch 5/10\n",
      "1356/1356 [==============================] - 221s 163ms/step - loss: 1.4368 - accuracy: 0.5820 - val_loss: 1.7776 - val_accuracy: 0.4990\n",
      "Epoch 6/10\n",
      "1356/1356 [==============================] - 222s 163ms/step - loss: 1.3048 - accuracy: 0.6220 - val_loss: 1.7912 - val_accuracy: 0.5020\n",
      "Epoch 7/10\n",
      "1356/1356 [==============================] - 226s 167ms/step - loss: 1.1849 - accuracy: 0.6551 - val_loss: 1.8584 - val_accuracy: 0.4937\n",
      "Epoch 8/10\n",
      "1356/1356 [==============================] - 226s 166ms/step - loss: 1.0562 - accuracy: 0.6954 - val_loss: 1.9594 - val_accuracy: 0.4810\n",
      "Epoch 9/10\n",
      "1356/1356 [==============================] - 225s 166ms/step - loss: 0.9323 - accuracy: 0.7328 - val_loss: 2.0150 - val_accuracy: 0.4888\n",
      "Epoch 10/10\n",
      "1356/1356 [==============================] - 221s 163ms/step - loss: 0.8093 - accuracy: 0.7677 - val_loss: 2.1788 - val_accuracy: 0.4724\n"
     ]
    },
    {
     "data": {
      "text/plain": [
       "<keras.callbacks.History at 0x7f98183ca7d0>"
      ]
     },
     "execution_count": 43,
     "metadata": {},
     "output_type": "execute_result"
    }
   ],
   "source": [
    "model.fit(X_train, Y_train, validation_data=(X_test, Y_test), epochs=10, batch_size=32)"
   ]
  },
  {
   "cell_type": "markdown",
   "id": "7ab50057",
   "metadata": {
    "papermill": {
     "duration": 0.731754,
     "end_time": "2023-03-14T14:03:13.779797",
     "exception": false,
     "start_time": "2023-03-14T14:03:13.048043",
     "status": "completed"
    },
    "tags": []
   },
   "source": [
    "# Evaluate"
   ]
  },
  {
   "cell_type": "code",
   "execution_count": 44,
   "id": "72206263",
   "metadata": {
    "execution": {
     "iopub.execute_input": "2023-03-14T14:03:15.279819Z",
     "iopub.status.busy": "2023-03-14T14:03:15.279124Z",
     "iopub.status.idle": "2023-03-14T14:03:32.282190Z",
     "shell.execute_reply": "2023-03-14T14:03:32.281077Z"
    },
    "papermill": {
     "duration": 17.784996,
     "end_time": "2023-03-14T14:03:32.284803",
     "exception": false,
     "start_time": "2023-03-14T14:03:14.499807",
     "status": "completed"
    },
    "tags": []
   },
   "outputs": [
    {
     "name": "stdout",
     "output_type": "stream",
     "text": [
      "339/339 [==============================] - 17s 50ms/step - loss: 2.1788 - accuracy: 0.4724\n"
     ]
    },
    {
     "data": {
      "text/plain": [
       "[2.1787800788879395, 0.4723784923553467]"
      ]
     },
     "execution_count": 44,
     "metadata": {},
     "output_type": "execute_result"
    }
   ],
   "source": [
    "model.evaluate(X_test, Y_test)"
   ]
  },
  {
   "cell_type": "code",
   "execution_count": 45,
   "id": "ab550906",
   "metadata": {
    "execution": {
     "iopub.execute_input": "2023-03-14T14:03:33.923948Z",
     "iopub.status.busy": "2023-03-14T14:03:33.923590Z",
     "iopub.status.idle": "2023-03-14T14:03:33.930002Z",
     "shell.execute_reply": "2023-03-14T14:03:33.929056Z"
    },
    "papermill": {
     "duration": 0.810408,
     "end_time": "2023-03-14T14:03:33.932029",
     "exception": false,
     "start_time": "2023-03-14T14:03:33.121621",
     "status": "completed"
    },
    "tags": []
   },
   "outputs": [
    {
     "data": {
      "text/plain": [
       "(1, 250)"
      ]
     },
     "execution_count": 45,
     "metadata": {},
     "output_type": "execute_result"
    }
   ],
   "source": [
    "sample = X_test[0].reshape(1, 250)\n",
    "sample.shape"
   ]
  },
  {
   "cell_type": "code",
   "execution_count": 46,
   "id": "eb04f86c",
   "metadata": {
    "execution": {
     "iopub.execute_input": "2023-03-14T14:03:35.511616Z",
     "iopub.status.busy": "2023-03-14T14:03:35.511257Z",
     "iopub.status.idle": "2023-03-14T14:03:36.257808Z",
     "shell.execute_reply": "2023-03-14T14:03:36.256536Z"
    },
    "papermill": {
     "duration": 1.533798,
     "end_time": "2023-03-14T14:03:36.260475",
     "exception": false,
     "start_time": "2023-03-14T14:03:34.726677",
     "status": "completed"
    },
    "tags": []
   },
   "outputs": [
    {
     "name": "stdout",
     "output_type": "stream",
     "text": [
      "1/1 [==============================] - 1s 695ms/step\n"
     ]
    }
   ],
   "source": [
    "re = (model.predict(sample) > 0.98).astype(\"int32\")"
   ]
  },
  {
   "cell_type": "code",
   "execution_count": 47,
   "id": "b2d1047e",
   "metadata": {
    "execution": {
     "iopub.execute_input": "2023-03-14T14:03:37.813599Z",
     "iopub.status.busy": "2023-03-14T14:03:37.813240Z",
     "iopub.status.idle": "2023-03-14T14:03:37.819910Z",
     "shell.execute_reply": "2023-03-14T14:03:37.818829Z"
    },
    "papermill": {
     "duration": 0.800545,
     "end_time": "2023-03-14T14:03:37.823513",
     "exception": false,
     "start_time": "2023-03-14T14:03:37.022968",
     "status": "completed"
    },
    "tags": []
   },
   "outputs": [
    {
     "data": {
      "text/plain": [
       "array([[1, 0, 0, 0, 0, 0, 0, 0, 0, 0, 0, 0, 0, 0, 0, 0, 0, 0, 0, 0, 0, 0,\n",
       "        0, 0, 0, 0, 0]], dtype=int32)"
      ]
     },
     "execution_count": 47,
     "metadata": {},
     "output_type": "execute_result"
    }
   ],
   "source": [
    "re"
   ]
  },
  {
   "cell_type": "code",
   "execution_count": 48,
   "id": "29d52218",
   "metadata": {
    "execution": {
     "iopub.execute_input": "2023-03-14T14:03:39.399775Z",
     "iopub.status.busy": "2023-03-14T14:03:39.399419Z",
     "iopub.status.idle": "2023-03-14T14:03:39.406458Z",
     "shell.execute_reply": "2023-03-14T14:03:39.405375Z"
    },
    "papermill": {
     "duration": 0.756709,
     "end_time": "2023-03-14T14:03:39.408919",
     "exception": false,
     "start_time": "2023-03-14T14:03:38.652210",
     "status": "completed"
    },
    "tags": []
   },
   "outputs": [
    {
     "data": {
      "text/plain": [
       "array([0., 0., 0., 0., 0., 0., 1., 0., 0., 0., 0., 0., 0., 0., 0., 0., 0.,\n",
       "       0., 0., 0., 0., 0., 0., 0., 0., 0., 0.], dtype=float32)"
      ]
     },
     "execution_count": 48,
     "metadata": {},
     "output_type": "execute_result"
    }
   ],
   "source": [
    "Y_test[0]"
   ]
  },
  {
   "cell_type": "markdown",
   "id": "81f48c6c",
   "metadata": {
    "papermill": {
     "duration": 0.748572,
     "end_time": "2023-03-14T14:03:40.959190",
     "exception": false,
     "start_time": "2023-03-14T14:03:40.210618",
     "status": "completed"
    },
    "tags": []
   },
   "source": [
    "# save model"
   ]
  },
  {
   "cell_type": "code",
   "execution_count": 49,
   "id": "6a33c320",
   "metadata": {
    "execution": {
     "iopub.execute_input": "2023-03-14T14:03:42.484983Z",
     "iopub.status.busy": "2023-03-14T14:03:42.484368Z",
     "iopub.status.idle": "2023-03-14T14:03:42.732894Z",
     "shell.execute_reply": "2023-03-14T14:03:42.731854Z"
    },
    "papermill": {
     "duration": 1.039371,
     "end_time": "2023-03-14T14:03:42.735496",
     "exception": false,
     "start_time": "2023-03-14T14:03:41.696125",
     "status": "completed"
    },
    "tags": []
   },
   "outputs": [],
   "source": [
    "model.save('movie-genre-classification-v2.h5')"
   ]
  },
  {
   "cell_type": "code",
   "execution_count": null,
   "id": "b226c4f5",
   "metadata": {
    "papermill": {
     "duration": 0.744789,
     "end_time": "2023-03-14T14:03:44.489610",
     "exception": false,
     "start_time": "2023-03-14T14:03:43.744821",
     "status": "completed"
    },
    "tags": []
   },
   "outputs": [],
   "source": []
  }
 ],
 "metadata": {
  "kernelspec": {
   "display_name": "Python 3",
   "language": "python",
   "name": "python3"
  },
  "language_info": {
   "codemirror_mode": {
    "name": "ipython",
    "version": 3
   },
   "file_extension": ".py",
   "mimetype": "text/x-python",
   "name": "python",
   "nbconvert_exporter": "python",
   "pygments_lexer": "ipython3",
   "version": "3.7.12"
  },
  "papermill": {
   "default_parameters": {},
   "duration": 3198.883062,
   "end_time": "2023-03-14T14:03:48.659534",
   "environment_variables": {},
   "exception": null,
   "input_path": "__notebook__.ipynb",
   "output_path": "__notebook__.ipynb",
   "parameters": {},
   "start_time": "2023-03-14T13:10:29.776472",
   "version": "2.4.0"
  }
 },
 "nbformat": 4,
 "nbformat_minor": 5
}
