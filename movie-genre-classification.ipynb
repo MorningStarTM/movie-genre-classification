{
 "cells": [
  {
   "cell_type": "code",
   "execution_count": 1,
   "id": "77b21c08",
   "metadata": {
    "execution": {
     "iopub.execute_input": "2023-03-14T07:25:39.003920Z",
     "iopub.status.busy": "2023-03-14T07:25:39.002866Z",
     "iopub.status.idle": "2023-03-14T07:25:48.701521Z",
     "shell.execute_reply": "2023-03-14T07:25:48.700355Z"
    },
    "papermill": {
     "duration": 9.714135,
     "end_time": "2023-03-14T07:25:48.704688",
     "exception": false,
     "start_time": "2023-03-14T07:25:38.990553",
     "status": "completed"
    },
    "tags": []
   },
   "outputs": [],
   "source": [
    "import pandas as pd\n",
    "import numpy as np\n",
    "import re\n",
    "import nltk\n",
    "import tensorflow as tf\n",
    "from keras.utils import to_categorical\n",
    "from nltk.corpus import stopwords\n",
    "from nltk.stem import PorterStemmer, WordNetLemmatizer\n",
    "from nltk.corpus import wordnet\n",
    "from tensorflow.keras.preprocessing.text import Tokenizer\n",
    "from tensorflow.keras.layers import Dense, LSTM, ReLU, Flatten, Embedding, SpatialDropout1D, Dropout\n",
    "from tensorflow.keras.regularizers import l2\n",
    "from tensorflow.keras.preprocessing.sequence import pad_sequences\n",
    "from tensorflow.keras.preprocessing.text import one_hot\n",
    "from tensorflow.keras.models import Sequential\n",
    "from sklearn.model_selection import train_test_split\n",
    "from sklearn.metrics import confusion_matrix"
   ]
  },
  {
   "cell_type": "code",
   "execution_count": 2,
   "id": "f11e3b39",
   "metadata": {
    "execution": {
     "iopub.execute_input": "2023-03-14T07:25:48.728485Z",
     "iopub.status.busy": "2023-03-14T07:25:48.726338Z",
     "iopub.status.idle": "2023-03-14T07:25:48.901118Z",
     "shell.execute_reply": "2023-03-14T07:25:48.899882Z"
    },
    "papermill": {
     "duration": 0.190668,
     "end_time": "2023-03-14T07:25:48.905549",
     "exception": false,
     "start_time": "2023-03-14T07:25:48.714881",
     "status": "completed"
    },
    "tags": []
   },
   "outputs": [
    {
     "name": "stdout",
     "output_type": "stream",
     "text": [
      "[nltk_data] Downloading package stopwords to /usr/share/nltk_data...\n",
      "[nltk_data]   Package stopwords is already up-to-date!\n",
      "[nltk_data] Downloading package punkt to /usr/share/nltk_data...\n",
      "[nltk_data]   Package punkt is already up-to-date!\n"
     ]
    },
    {
     "data": {
      "text/plain": [
       "True"
      ]
     },
     "execution_count": 2,
     "metadata": {},
     "output_type": "execute_result"
    }
   ],
   "source": [
    "nltk.download('stopwords')\n",
    "nltk.download('punkt')"
   ]
  },
  {
   "cell_type": "code",
   "execution_count": 3,
   "id": "12a2964e",
   "metadata": {
    "execution": {
     "iopub.execute_input": "2023-03-14T07:25:48.927920Z",
     "iopub.status.busy": "2023-03-14T07:25:48.926984Z",
     "iopub.status.idle": "2023-03-14T07:25:49.750720Z",
     "shell.execute_reply": "2023-03-14T07:25:49.749649Z"
    },
    "papermill": {
     "duration": 0.838158,
     "end_time": "2023-03-14T07:25:49.753851",
     "exception": false,
     "start_time": "2023-03-14T07:25:48.915693",
     "status": "completed"
    },
    "tags": []
   },
   "outputs": [],
   "source": [
    "#reading data\n",
    "file = open(\"/kaggle/input/genre-classification-dataset-imdb/Genre Classification Dataset/train_data.txt\", encoding='utf-8', errors='ignore').read().split('\\n')"
   ]
  },
  {
   "cell_type": "code",
   "execution_count": 4,
   "id": "eb00e182",
   "metadata": {
    "execution": {
     "iopub.execute_input": "2023-03-14T07:25:49.775495Z",
     "iopub.status.busy": "2023-03-14T07:25:49.775185Z",
     "iopub.status.idle": "2023-03-14T07:25:49.782025Z",
     "shell.execute_reply": "2023-03-14T07:25:49.780872Z"
    },
    "papermill": {
     "duration": 0.022174,
     "end_time": "2023-03-14T07:25:49.785766",
     "exception": false,
     "start_time": "2023-03-14T07:25:49.763592",
     "status": "completed"
    },
    "tags": []
   },
   "outputs": [
    {
     "data": {
      "text/plain": [
       "54215"
      ]
     },
     "execution_count": 4,
     "metadata": {},
     "output_type": "execute_result"
    }
   ],
   "source": [
    "#size of data\n",
    "len(file)"
   ]
  },
  {
   "cell_type": "code",
   "execution_count": 5,
   "id": "a8abfc4a",
   "metadata": {
    "execution": {
     "iopub.execute_input": "2023-03-14T07:25:49.807090Z",
     "iopub.status.busy": "2023-03-14T07:25:49.806818Z",
     "iopub.status.idle": "2023-03-14T07:25:49.813259Z",
     "shell.execute_reply": "2023-03-14T07:25:49.812161Z"
    },
    "papermill": {
     "duration": 0.019779,
     "end_time": "2023-03-14T07:25:49.815643",
     "exception": false,
     "start_time": "2023-03-14T07:25:49.795864",
     "status": "completed"
    },
    "tags": []
   },
   "outputs": [
    {
     "data": {
      "text/plain": [
       "4"
      ]
     },
     "execution_count": 5,
     "metadata": {},
     "output_type": "execute_result"
    }
   ],
   "source": [
    "len(file[0].split(':::'))"
   ]
  },
  {
   "cell_type": "markdown",
   "id": "f10f5916",
   "metadata": {
    "papermill": {
     "duration": 0.009698,
     "end_time": "2023-03-14T07:25:49.835613",
     "exception": false,
     "start_time": "2023-03-14T07:25:49.825915",
     "status": "completed"
    },
    "tags": []
   },
   "source": [
    "# Creating Dataset"
   ]
  },
  {
   "cell_type": "code",
   "execution_count": 6,
   "id": "59752bd7",
   "metadata": {
    "execution": {
     "iopub.execute_input": "2023-03-14T07:25:49.857674Z",
     "iopub.status.busy": "2023-03-14T07:25:49.857370Z",
     "iopub.status.idle": "2023-03-14T07:25:49.866522Z",
     "shell.execute_reply": "2023-03-14T07:25:49.865474Z"
    },
    "papermill": {
     "duration": 0.023094,
     "end_time": "2023-03-14T07:25:49.868907",
     "exception": false,
     "start_time": "2023-03-14T07:25:49.845813",
     "status": "completed"
    },
    "tags": []
   },
   "outputs": [],
   "source": [
    "df = pd.DataFrame()"
   ]
  },
  {
   "cell_type": "code",
   "execution_count": 7,
   "id": "2ba38565",
   "metadata": {
    "execution": {
     "iopub.execute_input": "2023-03-14T07:25:49.891083Z",
     "iopub.status.busy": "2023-03-14T07:25:49.890228Z",
     "iopub.status.idle": "2023-03-14T07:25:49.896192Z",
     "shell.execute_reply": "2023-03-14T07:25:49.895068Z"
    },
    "papermill": {
     "duration": 0.019226,
     "end_time": "2023-03-14T07:25:49.898280",
     "exception": false,
     "start_time": "2023-03-14T07:25:49.879054",
     "status": "completed"
    },
    "tags": []
   },
   "outputs": [],
   "source": [
    "def split_data(texts):\n",
    "    genre = []\n",
    "    desc = []\n",
    "    for text in texts:\n",
    "        if len(text.split(':::')) == 4:\n",
    "            splited = text.split(\":::\")\n",
    "            genre.append(splited[-2])\n",
    "            desc.append(splited[-1])\n",
    "    return genre, desc"
   ]
  },
  {
   "cell_type": "code",
   "execution_count": 8,
   "id": "0b72391c",
   "metadata": {
    "execution": {
     "iopub.execute_input": "2023-03-14T07:25:49.920292Z",
     "iopub.status.busy": "2023-03-14T07:25:49.919421Z",
     "iopub.status.idle": "2023-03-14T07:25:50.030252Z",
     "shell.execute_reply": "2023-03-14T07:25:50.029147Z"
    },
    "papermill": {
     "duration": 0.124683,
     "end_time": "2023-03-14T07:25:50.033015",
     "exception": false,
     "start_time": "2023-03-14T07:25:49.908332",
     "status": "completed"
    },
    "tags": []
   },
   "outputs": [],
   "source": [
    "genre, desc = split_data(file)"
   ]
  },
  {
   "cell_type": "code",
   "execution_count": 9,
   "id": "37c03f24",
   "metadata": {
    "execution": {
     "iopub.execute_input": "2023-03-14T07:25:50.055566Z",
     "iopub.status.busy": "2023-03-14T07:25:50.055035Z",
     "iopub.status.idle": "2023-03-14T07:25:50.061600Z",
     "shell.execute_reply": "2023-03-14T07:25:50.060460Z"
    },
    "papermill": {
     "duration": 0.020329,
     "end_time": "2023-03-14T07:25:50.064070",
     "exception": false,
     "start_time": "2023-03-14T07:25:50.043741",
     "status": "completed"
    },
    "tags": []
   },
   "outputs": [
    {
     "data": {
      "text/plain": [
       "(54214, 54214)"
      ]
     },
     "execution_count": 9,
     "metadata": {},
     "output_type": "execute_result"
    }
   ],
   "source": [
    "#size of data\n",
    "len(genre), len(desc)"
   ]
  },
  {
   "cell_type": "code",
   "execution_count": 10,
   "id": "5437bbf0",
   "metadata": {
    "execution": {
     "iopub.execute_input": "2023-03-14T07:25:50.085994Z",
     "iopub.status.busy": "2023-03-14T07:25:50.085705Z",
     "iopub.status.idle": "2023-03-14T07:25:50.118583Z",
     "shell.execute_reply": "2023-03-14T07:25:50.117349Z"
    },
    "papermill": {
     "duration": 0.046541,
     "end_time": "2023-03-14T07:25:50.120916",
     "exception": false,
     "start_time": "2023-03-14T07:25:50.074375",
     "status": "completed"
    },
    "tags": []
   },
   "outputs": [],
   "source": [
    "#creating dataframe for data\n",
    "df['genre'] = genre\n",
    "df['desc'] = desc"
   ]
  },
  {
   "cell_type": "code",
   "execution_count": 11,
   "id": "f2516e3e",
   "metadata": {
    "execution": {
     "iopub.execute_input": "2023-03-14T07:25:50.143187Z",
     "iopub.status.busy": "2023-03-14T07:25:50.142339Z",
     "iopub.status.idle": "2023-03-14T07:25:50.155190Z",
     "shell.execute_reply": "2023-03-14T07:25:50.154079Z"
    },
    "papermill": {
     "duration": 0.026206,
     "end_time": "2023-03-14T07:25:50.157554",
     "exception": false,
     "start_time": "2023-03-14T07:25:50.131348",
     "status": "completed"
    },
    "tags": []
   },
   "outputs": [
    {
     "data": {
      "text/html": [
       "<div>\n",
       "<style scoped>\n",
       "    .dataframe tbody tr th:only-of-type {\n",
       "        vertical-align: middle;\n",
       "    }\n",
       "\n",
       "    .dataframe tbody tr th {\n",
       "        vertical-align: top;\n",
       "    }\n",
       "\n",
       "    .dataframe thead th {\n",
       "        text-align: right;\n",
       "    }\n",
       "</style>\n",
       "<table border=\"1\" class=\"dataframe\">\n",
       "  <thead>\n",
       "    <tr style=\"text-align: right;\">\n",
       "      <th></th>\n",
       "      <th>genre</th>\n",
       "      <th>desc</th>\n",
       "    </tr>\n",
       "  </thead>\n",
       "  <tbody>\n",
       "    <tr>\n",
       "      <th>0</th>\n",
       "      <td>drama</td>\n",
       "      <td>Listening in to a conversation between his do...</td>\n",
       "    </tr>\n",
       "    <tr>\n",
       "      <th>1</th>\n",
       "      <td>thriller</td>\n",
       "      <td>A brother and sister with a past incestuous r...</td>\n",
       "    </tr>\n",
       "    <tr>\n",
       "      <th>2</th>\n",
       "      <td>adult</td>\n",
       "      <td>As the bus empties the students for their fie...</td>\n",
       "    </tr>\n",
       "    <tr>\n",
       "      <th>3</th>\n",
       "      <td>drama</td>\n",
       "      <td>To help their unemployed father make ends mee...</td>\n",
       "    </tr>\n",
       "    <tr>\n",
       "      <th>4</th>\n",
       "      <td>drama</td>\n",
       "      <td>The film's title refers not only to the un-re...</td>\n",
       "    </tr>\n",
       "  </tbody>\n",
       "</table>\n",
       "</div>"
      ],
      "text/plain": [
       "        genre                                               desc\n",
       "0      drama    Listening in to a conversation between his do...\n",
       "1   thriller    A brother and sister with a past incestuous r...\n",
       "2      adult    As the bus empties the students for their fie...\n",
       "3      drama    To help their unemployed father make ends mee...\n",
       "4      drama    The film's title refers not only to the un-re..."
      ]
     },
     "execution_count": 11,
     "metadata": {},
     "output_type": "execute_result"
    }
   ],
   "source": [
    "df.head()"
   ]
  },
  {
   "cell_type": "code",
   "execution_count": 12,
   "id": "188447ed",
   "metadata": {
    "execution": {
     "iopub.execute_input": "2023-03-14T07:25:50.179749Z",
     "iopub.status.busy": "2023-03-14T07:25:50.178948Z",
     "iopub.status.idle": "2023-03-14T07:25:50.185974Z",
     "shell.execute_reply": "2023-03-14T07:25:50.184839Z"
    },
    "papermill": {
     "duration": 0.020524,
     "end_time": "2023-03-14T07:25:50.188211",
     "exception": false,
     "start_time": "2023-03-14T07:25:50.167687",
     "status": "completed"
    },
    "tags": []
   },
   "outputs": [
    {
     "data": {
      "text/plain": [
       "' Listening in to a conversation between his doctor and parents, 10-year-old Oscar learns what nobody has the courage to tell him. He only has a few weeks to live. Furious, he refuses to speak to anyone except straight-talking Rose, the lady in pink he meets on the hospital stairs. As Christmas approaches, Rose uses her fantastical experiences as a professional wrestler, her imagination, wit and charm to allow Oscar to live life and love to the full, in the company of his friends Pop Corn, Einstein, Bacon and childhood sweetheart Peggy Blue.'"
      ]
     },
     "execution_count": 12,
     "metadata": {},
     "output_type": "execute_result"
    }
   ],
   "source": [
    "df['desc'][0]"
   ]
  },
  {
   "cell_type": "markdown",
   "id": "0ff87286",
   "metadata": {
    "papermill": {
     "duration": 0.010318,
     "end_time": "2023-03-14T07:25:50.209311",
     "exception": false,
     "start_time": "2023-03-14T07:25:50.198993",
     "status": "completed"
    },
    "tags": []
   },
   "source": [
    "# Data Preprocessing"
   ]
  },
  {
   "cell_type": "code",
   "execution_count": 13,
   "id": "ac56f16c",
   "metadata": {
    "execution": {
     "iopub.execute_input": "2023-03-14T07:25:50.232143Z",
     "iopub.status.busy": "2023-03-14T07:25:50.231342Z",
     "iopub.status.idle": "2023-03-14T07:25:50.236473Z",
     "shell.execute_reply": "2023-03-14T07:25:50.235567Z"
    },
    "papermill": {
     "duration": 0.01877,
     "end_time": "2023-03-14T07:25:50.238676",
     "exception": false,
     "start_time": "2023-03-14T07:25:50.219906",
     "status": "completed"
    },
    "tags": []
   },
   "outputs": [],
   "source": [
    "#initialize the stemmer and lemmentizer\n",
    "stemmer = PorterStemmer()\n",
    "lemmatizer = WordNetLemmatizer()"
   ]
  },
  {
   "cell_type": "code",
   "execution_count": 14,
   "id": "3af83359",
   "metadata": {
    "execution": {
     "iopub.execute_input": "2023-03-14T07:25:50.261789Z",
     "iopub.status.busy": "2023-03-14T07:25:50.260879Z",
     "iopub.status.idle": "2023-03-14T07:25:50.268356Z",
     "shell.execute_reply": "2023-03-14T07:25:50.267442Z"
    },
    "papermill": {
     "duration": 0.021152,
     "end_time": "2023-03-14T07:25:50.270578",
     "exception": false,
     "start_time": "2023-03-14T07:25:50.249426",
     "status": "completed"
    },
    "tags": []
   },
   "outputs": [],
   "source": [
    "#filtering the text\n",
    "def full_form(text):\n",
    "    text = text.lower()\n",
    "    plain = re.sub(r'[-<>?\\.,!\"(\\)\\/[\\]]', ' ', text)\n",
    "    plain = plain.replace(\"don't\", \"do not\")\n",
    "    plain = plain.replace(\"won't\", \"will not\")\n",
    "    plain = plain.replace(\"haven't\", \"have not\")\n",
    "    plain = plain.replace(\"can't\", \"cannot\")\n",
    "    plain = plain.replace(\"she's\", \"she is\")\n",
    "    plain = plain.replace(\"he's\", \"he is\")\n",
    "    plain = plain.replace(\"there're\", \"there are\")\n",
    "    plain = plain.replace(\"they'd\", \"they would\")\n",
    "    plain = plain.replace(\"\\'ll\", \" will\")\n",
    "    return plain   "
   ]
  },
  {
   "cell_type": "code",
   "execution_count": 15,
   "id": "0d9f5799",
   "metadata": {
    "execution": {
     "iopub.execute_input": "2023-03-14T07:25:50.293845Z",
     "iopub.status.busy": "2023-03-14T07:25:50.292961Z",
     "iopub.status.idle": "2023-03-14T07:25:50.299550Z",
     "shell.execute_reply": "2023-03-14T07:25:50.298615Z"
    },
    "papermill": {
     "duration": 0.020374,
     "end_time": "2023-03-14T07:25:50.301726",
     "exception": false,
     "start_time": "2023-03-14T07:25:50.281352",
     "status": "completed"
    },
    "tags": []
   },
   "outputs": [],
   "source": [
    "#preprocessing  text \n",
    "def remove_stop_words(data):\n",
    "  corpus = []\n",
    "  for i in range(0, len(data)):\n",
    "    #split the sentence\n",
    "    plain = full_form(data[i])\n",
    "    sentence = plain.split()\n",
    "    \n",
    "    #check and stem the word\n",
    "    review_processed = [stemmer.stem(word) for word in sentence if not word in stopwords.words('english')]\n",
    "    #rebuild the sentence\n",
    "    review_joint = ' '.join(review_processed)\n",
    "    #add the sentence into list\n",
    "    corpus.append(review_joint)\n",
    "  return corpus"
   ]
  },
  {
   "cell_type": "code",
   "execution_count": 16,
   "id": "badeca75",
   "metadata": {
    "execution": {
     "iopub.execute_input": "2023-03-14T07:25:50.324750Z",
     "iopub.status.busy": "2023-03-14T07:25:50.323835Z",
     "iopub.status.idle": "2023-03-14T07:39:49.792423Z",
     "shell.execute_reply": "2023-03-14T07:39:49.791165Z"
    },
    "papermill": {
     "duration": 839.48337,
     "end_time": "2023-03-14T07:39:49.795594",
     "exception": false,
     "start_time": "2023-03-14T07:25:50.312224",
     "status": "completed"
    },
    "tags": []
   },
   "outputs": [],
   "source": [
    "processed_desc = remove_stop_words(df['desc'])"
   ]
  },
  {
   "cell_type": "code",
   "execution_count": 17,
   "id": "a52087d2",
   "metadata": {
    "execution": {
     "iopub.execute_input": "2023-03-14T07:39:49.818325Z",
     "iopub.status.busy": "2023-03-14T07:39:49.817963Z",
     "iopub.status.idle": "2023-03-14T07:39:49.825618Z",
     "shell.execute_reply": "2023-03-14T07:39:49.824572Z"
    },
    "papermill": {
     "duration": 0.02211,
     "end_time": "2023-03-14T07:39:49.828327",
     "exception": false,
     "start_time": "2023-03-14T07:39:49.806217",
     "status": "completed"
    },
    "tags": []
   },
   "outputs": [
    {
     "data": {
      "text/plain": [
       "[54,\n",
       " 15,\n",
       " 56,\n",
       " 109,\n",
       " 58,\n",
       " 170,\n",
       " 33,\n",
       " 31,\n",
       " 42,\n",
       " 43,\n",
       " 37,\n",
       " 18,\n",
       " 73,\n",
       " 29,\n",
       " 47,\n",
       " 26,\n",
       " 33,\n",
       " 48,\n",
       " 206,\n",
       " 28,\n",
       " 35,\n",
       " 19,\n",
       " 88,\n",
       " 46,\n",
       " 28,\n",
       " 30,\n",
       " 56,\n",
       " 28,\n",
       " 34,\n",
       " 74,\n",
       " 43,\n",
       " 63,\n",
       " 65,\n",
       " 18,\n",
       " 57,\n",
       " 41,\n",
       " 63,\n",
       " 41,\n",
       " 24,\n",
       " 57]"
      ]
     },
     "execution_count": 17,
     "metadata": {},
     "output_type": "execute_result"
    }
   ],
   "source": [
    "#sample length for getting overall idea for max length of sentence\n",
    "length = [len(processed_desc[i].split()) for i in range(40)]\n",
    "length"
   ]
  },
  {
   "cell_type": "code",
   "execution_count": 18,
   "id": "52dc474e",
   "metadata": {
    "execution": {
     "iopub.execute_input": "2023-03-14T07:39:49.850626Z",
     "iopub.status.busy": "2023-03-14T07:39:49.850369Z",
     "iopub.status.idle": "2023-03-14T07:39:49.855921Z",
     "shell.execute_reply": "2023-03-14T07:39:49.855048Z"
    },
    "papermill": {
     "duration": 0.019351,
     "end_time": "2023-03-14T07:39:49.857840",
     "exception": false,
     "start_time": "2023-03-14T07:39:49.838489",
     "status": "completed"
    },
    "tags": []
   },
   "outputs": [],
   "source": [
    "#filtering the genre\n",
    "def filter_text(text):\n",
    "    text = text.lower()\n",
    "    plain = re.sub(r'[-<>?\\.,@#$%&*!\"(\\)\\/[\\]]', '', text)\n",
    "    return plain"
   ]
  },
  {
   "cell_type": "code",
   "execution_count": 19,
   "id": "3ae8c284",
   "metadata": {
    "execution": {
     "iopub.execute_input": "2023-03-14T07:39:49.879796Z",
     "iopub.status.busy": "2023-03-14T07:39:49.879000Z",
     "iopub.status.idle": "2023-03-14T07:39:49.969594Z",
     "shell.execute_reply": "2023-03-14T07:39:49.968612Z"
    },
    "papermill": {
     "duration": 0.1041,
     "end_time": "2023-03-14T07:39:49.972140",
     "exception": false,
     "start_time": "2023-03-14T07:39:49.868040",
     "status": "completed"
    },
    "tags": []
   },
   "outputs": [],
   "source": [
    "filtered_genre = []\n",
    "for gnre in df['genre']:\n",
    "    filtered_genre.append(filter_text(gnre))"
   ]
  },
  {
   "cell_type": "code",
   "execution_count": 20,
   "id": "440eda53",
   "metadata": {
    "execution": {
     "iopub.execute_input": "2023-03-14T07:39:49.996296Z",
     "iopub.status.busy": "2023-03-14T07:39:49.995987Z",
     "iopub.status.idle": "2023-03-14T07:39:50.003347Z",
     "shell.execute_reply": "2023-03-14T07:39:50.002209Z"
    },
    "papermill": {
     "duration": 0.022306,
     "end_time": "2023-03-14T07:39:50.005895",
     "exception": false,
     "start_time": "2023-03-14T07:39:49.983589",
     "status": "completed"
    },
    "tags": []
   },
   "outputs": [
    {
     "data": {
      "text/plain": [
       "(54214, 54214)"
      ]
     },
     "execution_count": 20,
     "metadata": {},
     "output_type": "execute_result"
    }
   ],
   "source": [
    "len(filtered_genre), len(genre)"
   ]
  },
  {
   "cell_type": "code",
   "execution_count": 21,
   "id": "07667f07",
   "metadata": {
    "execution": {
     "iopub.execute_input": "2023-03-14T07:39:50.029148Z",
     "iopub.status.busy": "2023-03-14T07:39:50.028381Z",
     "iopub.status.idle": "2023-03-14T07:39:50.044587Z",
     "shell.execute_reply": "2023-03-14T07:39:50.043578Z"
    },
    "papermill": {
     "duration": 0.029943,
     "end_time": "2023-03-14T07:39:50.046792",
     "exception": false,
     "start_time": "2023-03-14T07:39:50.016849",
     "status": "completed"
    },
    "tags": []
   },
   "outputs": [],
   "source": [
    "df['preprocessed_desc'] = processed_desc\n",
    "df['preprocessed_genre'] = filtered_genre"
   ]
  },
  {
   "cell_type": "code",
   "execution_count": 22,
   "id": "445ff7d7",
   "metadata": {
    "execution": {
     "iopub.execute_input": "2023-03-14T07:39:50.070760Z",
     "iopub.status.busy": "2023-03-14T07:39:50.069108Z",
     "iopub.status.idle": "2023-03-14T07:39:50.079936Z",
     "shell.execute_reply": "2023-03-14T07:39:50.079069Z"
    },
    "papermill": {
     "duration": 0.024861,
     "end_time": "2023-03-14T07:39:50.081995",
     "exception": false,
     "start_time": "2023-03-14T07:39:50.057134",
     "status": "completed"
    },
    "tags": []
   },
   "outputs": [],
   "source": [
    "df['label'], _ = pd.factorize(df['preprocessed_genre'])"
   ]
  },
  {
   "cell_type": "code",
   "execution_count": 23,
   "id": "f5e5ed14",
   "metadata": {
    "execution": {
     "iopub.execute_input": "2023-03-14T07:39:50.103707Z",
     "iopub.status.busy": "2023-03-14T07:39:50.103365Z",
     "iopub.status.idle": "2023-03-14T07:39:50.109582Z",
     "shell.execute_reply": "2023-03-14T07:39:50.108581Z"
    },
    "papermill": {
     "duration": 0.019485,
     "end_time": "2023-03-14T07:39:50.111686",
     "exception": false,
     "start_time": "2023-03-14T07:39:50.092201",
     "status": "completed"
    },
    "tags": []
   },
   "outputs": [
    {
     "data": {
      "text/plain": [
       "(54214, 5)"
      ]
     },
     "execution_count": 23,
     "metadata": {},
     "output_type": "execute_result"
    }
   ],
   "source": [
    "df.shape"
   ]
  },
  {
   "cell_type": "code",
   "execution_count": 24,
   "id": "d9c7dd9a",
   "metadata": {
    "execution": {
     "iopub.execute_input": "2023-03-14T07:39:50.134023Z",
     "iopub.status.busy": "2023-03-14T07:39:50.133745Z",
     "iopub.status.idle": "2023-03-14T07:39:50.144341Z",
     "shell.execute_reply": "2023-03-14T07:39:50.143152Z"
    },
    "papermill": {
     "duration": 0.024257,
     "end_time": "2023-03-14T07:39:50.146440",
     "exception": false,
     "start_time": "2023-03-14T07:39:50.122183",
     "status": "completed"
    },
    "tags": []
   },
   "outputs": [
    {
     "data": {
      "text/plain": [
       "27"
      ]
     },
     "execution_count": 24,
     "metadata": {},
     "output_type": "execute_result"
    }
   ],
   "source": [
    "len(df['label'].unique())"
   ]
  },
  {
   "cell_type": "code",
   "execution_count": 25,
   "id": "2595ffeb",
   "metadata": {
    "execution": {
     "iopub.execute_input": "2023-03-14T07:39:50.168505Z",
     "iopub.status.busy": "2023-03-14T07:39:50.168249Z",
     "iopub.status.idle": "2023-03-14T07:39:50.183613Z",
     "shell.execute_reply": "2023-03-14T07:39:50.182618Z"
    },
    "papermill": {
     "duration": 0.029179,
     "end_time": "2023-03-14T07:39:50.185951",
     "exception": false,
     "start_time": "2023-03-14T07:39:50.156772",
     "status": "completed"
    },
    "tags": []
   },
   "outputs": [
    {
     "data": {
      "text/plain": [
       "(array([' drama ', ' thriller ', ' adult ', ' documentary ', ' comedy ',\n",
       "        ' crime ', ' realitytv ', ' horror ', ' sport ', ' animation ',\n",
       "        ' action ', ' fantasy ', ' short ', ' scifi ', ' music ',\n",
       "        ' adventure ', ' talkshow ', ' western ', ' family ', ' mystery ',\n",
       "        ' history ', ' news ', ' biography ', ' romance ', ' gameshow ',\n",
       "        ' musical ', ' war '], dtype=object),\n",
       " 27)"
      ]
     },
     "execution_count": 25,
     "metadata": {},
     "output_type": "execute_result"
    }
   ],
   "source": [
    "df['preprocessed_genre'].unique(), len(df['preprocessed_genre'].unique())"
   ]
  },
  {
   "cell_type": "markdown",
   "id": "75bb1c18",
   "metadata": {
    "papermill": {
     "duration": 0.010475,
     "end_time": "2023-03-14T07:39:50.207056",
     "exception": false,
     "start_time": "2023-03-14T07:39:50.196581",
     "status": "completed"
    },
    "tags": []
   },
   "source": [
    "# Embedding"
   ]
  },
  {
   "cell_type": "code",
   "execution_count": 26,
   "id": "78ec1dfe",
   "metadata": {
    "execution": {
     "iopub.execute_input": "2023-03-14T07:39:50.229568Z",
     "iopub.status.busy": "2023-03-14T07:39:50.229306Z",
     "iopub.status.idle": "2023-03-14T07:39:50.233478Z",
     "shell.execute_reply": "2023-03-14T07:39:50.232403Z"
    },
    "papermill": {
     "duration": 0.018048,
     "end_time": "2023-03-14T07:39:50.235517",
     "exception": false,
     "start_time": "2023-03-14T07:39:50.217469",
     "status": "completed"
    },
    "tags": []
   },
   "outputs": [],
   "source": [
    "#sentence length\n",
    "sent_length = 250\n",
    "#vocabulary size\n",
    "voc_size = 10000"
   ]
  },
  {
   "cell_type": "code",
   "execution_count": 27,
   "id": "5a26f2ae",
   "metadata": {
    "execution": {
     "iopub.execute_input": "2023-03-14T07:39:50.257938Z",
     "iopub.status.busy": "2023-03-14T07:39:50.257646Z",
     "iopub.status.idle": "2023-03-14T07:39:52.697347Z",
     "shell.execute_reply": "2023-03-14T07:39:52.696174Z"
    },
    "papermill": {
     "duration": 2.454838,
     "end_time": "2023-03-14T07:39:52.701178",
     "exception": false,
     "start_time": "2023-03-14T07:39:50.246340",
     "status": "completed"
    },
    "tags": []
   },
   "outputs": [],
   "source": [
    "#convert into one hot vector\n",
    "onehot_text = [one_hot(word, voc_size) for word in df['preprocessed_desc']]"
   ]
  },
  {
   "cell_type": "code",
   "execution_count": 28,
   "id": "4812fd2d",
   "metadata": {
    "execution": {
     "iopub.execute_input": "2023-03-14T07:39:52.739540Z",
     "iopub.status.busy": "2023-03-14T07:39:52.739149Z",
     "iopub.status.idle": "2023-03-14T07:39:52.750496Z",
     "shell.execute_reply": "2023-03-14T07:39:52.749498Z"
    },
    "papermill": {
     "duration": 0.033621,
     "end_time": "2023-03-14T07:39:52.753535",
     "exception": false,
     "start_time": "2023-03-14T07:39:52.719914",
     "status": "completed"
    },
    "tags": []
   },
   "outputs": [
    {
     "data": {
      "text/plain": [
       "(54, 54)"
      ]
     },
     "execution_count": 28,
     "metadata": {},
     "output_type": "execute_result"
    }
   ],
   "source": [
    "len(onehot_text[0]), len(df['preprocessed_desc'][0].split())   "
   ]
  },
  {
   "cell_type": "code",
   "execution_count": 29,
   "id": "02cde151",
   "metadata": {
    "execution": {
     "iopub.execute_input": "2023-03-14T07:39:52.790006Z",
     "iopub.status.busy": "2023-03-14T07:39:52.789611Z",
     "iopub.status.idle": "2023-03-14T07:39:53.152171Z",
     "shell.execute_reply": "2023-03-14T07:39:53.151114Z"
    },
    "papermill": {
     "duration": 0.383022,
     "end_time": "2023-03-14T07:39:53.154843",
     "exception": false,
     "start_time": "2023-03-14T07:39:52.771821",
     "status": "completed"
    },
    "tags": []
   },
   "outputs": [],
   "source": [
    "#embedding\n",
    "embedd_docs = pad_sequences(onehot_text, padding='pre', maxlen=sent_length)"
   ]
  },
  {
   "cell_type": "code",
   "execution_count": 30,
   "id": "6bdcd665",
   "metadata": {
    "execution": {
     "iopub.execute_input": "2023-03-14T07:39:53.178370Z",
     "iopub.status.busy": "2023-03-14T07:39:53.177721Z",
     "iopub.status.idle": "2023-03-14T07:39:53.189064Z",
     "shell.execute_reply": "2023-03-14T07:39:53.187958Z"
    },
    "papermill": {
     "duration": 0.025178,
     "end_time": "2023-03-14T07:39:53.191090",
     "exception": false,
     "start_time": "2023-03-14T07:39:53.165912",
     "status": "completed"
    },
    "tags": []
   },
   "outputs": [
    {
     "data": {
      "text/plain": [
       "array([   0,    0,    0,    0,    0,    0,    0,    0,    0,    0,    0,\n",
       "          0,    0,    0,    0,    0,    0,    0,    0,    0,    0,    0,\n",
       "          0,    0,    0,    0,    0,    0,    0,    0,    0,    0,    0,\n",
       "          0,    0,    0,    0,    0,    0,    0,    0,    0,    0,    0,\n",
       "          0,    0,    0,    0,    0,    0,    0,    0,    0,    0,    0,\n",
       "          0,    0,    0,    0,    0,    0,    0,    0,    0,    0,    0,\n",
       "          0,    0,    0,    0,    0,    0,    0,    0,    0,    0,    0,\n",
       "          0,    0,    0,    0,    0,    0,    0,    0,    0,    0,    0,\n",
       "          0,    0,    0,    0,    0,    0,    0,    0,    0,    0,    0,\n",
       "          0,    0,    0,    0,    0,    0,    0,    0,    0,    0,    0,\n",
       "          0,    0,    0,    0,    0,    0,    0,    0,    0,    0,    0,\n",
       "          0,    0,    0,    0,    0,    0,    0,    0,    0,    0,    0,\n",
       "          0,    0,    0,    0,    0,    0,    0,    0,    0,    0,    0,\n",
       "          0,    0,    0,    0,    0,    0,    0,    0,    0,    0,    0,\n",
       "          0,    0,    0,    0,    0,    0,    0,    0,    0,    0,    0,\n",
       "          0,    0,    0,    0,    0,    0,    0,    0,    0,    0,    0,\n",
       "          0,    0,    0,    0,    0,    0,    0,    0,    0,    0,    0,\n",
       "          0,    0,    0,    0,    0,    0,    0,    0,    0, 6547, 3608,\n",
       "       2035, 3226, 8694, 8644, 9550, 2374, 5347, 5872, 2021, 4475, 8412,\n",
       "       6507, 2874, 9736, 6546, 5244,  220, 2166, 8156, 7520, 7377, 7322,\n",
       "       7804,  802, 6835, 9648,  461, 7520, 5685, 1928,   76, 5888, 2502,\n",
       "        304, 4703,  812, 6702, 2374, 6507, 4255, 4274, 1551,  769, 6657,\n",
       "       3677, 4363, 9178, 2831, 6595, 9236, 6880, 9494], dtype=int32)"
      ]
     },
     "execution_count": 30,
     "metadata": {},
     "output_type": "execute_result"
    }
   ],
   "source": [
    "embedd_docs[0]"
   ]
  },
  {
   "cell_type": "code",
   "execution_count": 31,
   "id": "d5f5a878",
   "metadata": {
    "execution": {
     "iopub.execute_input": "2023-03-14T07:39:53.214218Z",
     "iopub.status.busy": "2023-03-14T07:39:53.213902Z",
     "iopub.status.idle": "2023-03-14T07:39:53.218127Z",
     "shell.execute_reply": "2023-03-14T07:39:53.217077Z"
    },
    "papermill": {
     "duration": 0.018167,
     "end_time": "2023-03-14T07:39:53.220107",
     "exception": false,
     "start_time": "2023-03-14T07:39:53.201940",
     "status": "completed"
    },
    "tags": []
   },
   "outputs": [],
   "source": [
    "y = df['label'].values"
   ]
  },
  {
   "cell_type": "code",
   "execution_count": 32,
   "id": "1c6a5034",
   "metadata": {
    "execution": {
     "iopub.execute_input": "2023-03-14T07:39:53.245042Z",
     "iopub.status.busy": "2023-03-14T07:39:53.243241Z",
     "iopub.status.idle": "2023-03-14T07:39:53.253063Z",
     "shell.execute_reply": "2023-03-14T07:39:53.252152Z"
    },
    "papermill": {
     "duration": 0.024248,
     "end_time": "2023-03-14T07:39:53.255343",
     "exception": false,
     "start_time": "2023-03-14T07:39:53.231095",
     "status": "completed"
    },
    "tags": []
   },
   "outputs": [],
   "source": [
    "#change y labels into categorical value [1] -> [1 0 0 0 0 0 0...0]\n",
    "y_label = to_categorical(y)"
   ]
  },
  {
   "cell_type": "code",
   "execution_count": 33,
   "id": "ad4bbddf",
   "metadata": {
    "execution": {
     "iopub.execute_input": "2023-03-14T07:39:53.278326Z",
     "iopub.status.busy": "2023-03-14T07:39:53.278068Z",
     "iopub.status.idle": "2023-03-14T07:39:53.283928Z",
     "shell.execute_reply": "2023-03-14T07:39:53.282815Z"
    },
    "papermill": {
     "duration": 0.019928,
     "end_time": "2023-03-14T07:39:53.286038",
     "exception": false,
     "start_time": "2023-03-14T07:39:53.266110",
     "status": "completed"
    },
    "tags": []
   },
   "outputs": [
    {
     "data": {
      "text/plain": [
       "(54214, 54214)"
      ]
     },
     "execution_count": 33,
     "metadata": {},
     "output_type": "execute_result"
    }
   ],
   "source": [
    "#shape of data\n",
    "len(embedd_docs), len(y_label)"
   ]
  },
  {
   "cell_type": "code",
   "execution_count": 34,
   "id": "23b82fa8",
   "metadata": {
    "execution": {
     "iopub.execute_input": "2023-03-14T07:39:53.309897Z",
     "iopub.status.busy": "2023-03-14T07:39:53.309280Z",
     "iopub.status.idle": "2023-03-14T07:39:53.337321Z",
     "shell.execute_reply": "2023-03-14T07:39:53.336390Z"
    },
    "papermill": {
     "duration": 0.042745,
     "end_time": "2023-03-14T07:39:53.339619",
     "exception": false,
     "start_time": "2023-03-14T07:39:53.296874",
     "status": "completed"
    },
    "tags": []
   },
   "outputs": [],
   "source": [
    "#convert into numpy array\n",
    "X_data = np.array(embedd_docs)\n",
    "y_data = np.array(y_label)"
   ]
  },
  {
   "cell_type": "code",
   "execution_count": 35,
   "id": "e128bbc2",
   "metadata": {
    "execution": {
     "iopub.execute_input": "2023-03-14T07:39:53.364310Z",
     "iopub.status.busy": "2023-03-14T07:39:53.362517Z",
     "iopub.status.idle": "2023-03-14T07:39:53.369620Z",
     "shell.execute_reply": "2023-03-14T07:39:53.368725Z"
    },
    "papermill": {
     "duration": 0.021132,
     "end_time": "2023-03-14T07:39:53.371655",
     "exception": false,
     "start_time": "2023-03-14T07:39:53.350523",
     "status": "completed"
    },
    "tags": []
   },
   "outputs": [
    {
     "data": {
      "text/plain": [
       "((54214, 250), (54214, 27))"
      ]
     },
     "execution_count": 35,
     "metadata": {},
     "output_type": "execute_result"
    }
   ],
   "source": [
    "X_data.shape, y_data.shape"
   ]
  },
  {
   "cell_type": "code",
   "execution_count": 36,
   "id": "f675a3ad",
   "metadata": {
    "execution": {
     "iopub.execute_input": "2023-03-14T07:39:53.395890Z",
     "iopub.status.busy": "2023-03-14T07:39:53.394955Z",
     "iopub.status.idle": "2023-03-14T07:39:53.436039Z",
     "shell.execute_reply": "2023-03-14T07:39:53.434838Z"
    },
    "papermill": {
     "duration": 0.056184,
     "end_time": "2023-03-14T07:39:53.439030",
     "exception": false,
     "start_time": "2023-03-14T07:39:53.382846",
     "status": "completed"
    },
    "tags": []
   },
   "outputs": [
    {
     "name": "stdout",
     "output_type": "stream",
     "text": [
      "(43371, 250) (43371, 27)\n",
      "(10843, 250) (10843, 27)\n"
     ]
    }
   ],
   "source": [
    "X_train, X_test, Y_train, Y_test = train_test_split(X_data,y_data, test_size = 0.2)\n",
    "print(X_train.shape,Y_train.shape)\n",
    "print(X_test.shape,Y_test.shape)"
   ]
  },
  {
   "cell_type": "code",
   "execution_count": 37,
   "id": "11233cf9",
   "metadata": {
    "execution": {
     "iopub.execute_input": "2023-03-14T07:39:53.464300Z",
     "iopub.status.busy": "2023-03-14T07:39:53.463305Z",
     "iopub.status.idle": "2023-03-14T07:39:53.469905Z",
     "shell.execute_reply": "2023-03-14T07:39:53.468743Z"
    },
    "papermill": {
     "duration": 0.022008,
     "end_time": "2023-03-14T07:39:53.472957",
     "exception": false,
     "start_time": "2023-03-14T07:39:53.450949",
     "status": "completed"
    },
    "tags": []
   },
   "outputs": [
    {
     "name": "stdout",
     "output_type": "stream",
     "text": [
      "[1. 0. 0. 0. 0. 0. 0. 0. 0. 0. 0. 0. 0. 0. 0. 0. 0. 0. 0. 0. 0. 0. 0. 0.\n",
      " 0. 0. 0.]\n",
      "27\n"
     ]
    }
   ],
   "source": [
    "print(Y_train[0])\n",
    "print(len(Y_train[0]))"
   ]
  },
  {
   "cell_type": "markdown",
   "id": "0c05fe04",
   "metadata": {
    "papermill": {
     "duration": 0.011226,
     "end_time": "2023-03-14T07:39:53.496758",
     "exception": false,
     "start_time": "2023-03-14T07:39:53.485532",
     "status": "completed"
    },
    "tags": []
   },
   "source": [
    "# Model"
   ]
  },
  {
   "cell_type": "code",
   "execution_count": 38,
   "id": "2fa04b97",
   "metadata": {
    "execution": {
     "iopub.execute_input": "2023-03-14T07:39:53.521346Z",
     "iopub.status.busy": "2023-03-14T07:39:53.520511Z",
     "iopub.status.idle": "2023-03-14T07:39:59.189397Z",
     "shell.execute_reply": "2023-03-14T07:39:59.188519Z"
    },
    "papermill": {
     "duration": 5.69204,
     "end_time": "2023-03-14T07:39:59.200187",
     "exception": false,
     "start_time": "2023-03-14T07:39:53.508147",
     "status": "completed"
    },
    "tags": []
   },
   "outputs": [
    {
     "name": "stdout",
     "output_type": "stream",
     "text": [
      "Model: \"sequential\"\n",
      "_________________________________________________________________\n",
      " Layer (type)                Output Shape              Param #   \n",
      "=================================================================\n",
      " embedding (Embedding)       (None, 250, 300)          3000000   \n",
      "                                                                 \n",
      " lstm (LSTM)                 (None, 250, 1024)         5427200   \n",
      "                                                                 \n",
      " dropout (Dropout)           (None, 250, 1024)         0         \n",
      "                                                                 \n",
      " lstm_1 (LSTM)               (None, 512)               3147776   \n",
      "                                                                 \n",
      " dense (Dense)               (None, 27)                13851     \n",
      "                                                                 \n",
      "=================================================================\n",
      "Total params: 11,588,827\n",
      "Trainable params: 11,588,827\n",
      "Non-trainable params: 0\n",
      "_________________________________________________________________\n",
      "None\n"
     ]
    }
   ],
   "source": [
    "# Creating model\n",
    "embedding_vector_features=300\n",
    "model=Sequential()\n",
    "model.add(Embedding(voc_size,embedding_vector_features,input_length=sent_length))\n",
    "model.add(LSTM(1024, return_sequences=True))\n",
    "model.add(Dropout(0.2))\n",
    "model.add(LSTM(512))\n",
    "model.add(Dense(27,activation='sigmoid'))\n",
    "model.compile(loss='categorical_crossentropy',optimizer='adam',metrics=['accuracy'])\n",
    "print(model.summary())"
   ]
  },
  {
   "cell_type": "code",
   "execution_count": 39,
   "id": "2fd5afc8",
   "metadata": {
    "execution": {
     "iopub.execute_input": "2023-03-14T07:39:59.227680Z",
     "iopub.status.busy": "2023-03-14T07:39:59.227351Z",
     "iopub.status.idle": "2023-03-14T08:26:24.712890Z",
     "shell.execute_reply": "2023-03-14T08:26:24.711739Z"
    },
    "papermill": {
     "duration": 2786.265353,
     "end_time": "2023-03-14T08:26:25.479471",
     "exception": false,
     "start_time": "2023-03-14T07:39:59.214118",
     "status": "completed"
    },
    "tags": []
   },
   "outputs": [
    {
     "name": "stdout",
     "output_type": "stream",
     "text": [
      "Epoch 1/10\n",
      "1356/1356 [==============================] - 308s 220ms/step - loss: 2.1663 - accuracy: 0.3666 - val_loss: 2.4174 - val_accuracy: 0.2473\n",
      "Epoch 2/10\n",
      "1356/1356 [==============================] - 272s 200ms/step - loss: 2.3760 - accuracy: 0.2460 - val_loss: 2.3863 - val_accuracy: 0.2511\n",
      "Epoch 3/10\n",
      "1356/1356 [==============================] - 271s 200ms/step - loss: 2.3677 - accuracy: 0.2490 - val_loss: 2.3829 - val_accuracy: 0.2506\n",
      "Epoch 4/10\n",
      "1356/1356 [==============================] - 270s 199ms/step - loss: 2.3690 - accuracy: 0.2479 - val_loss: 2.3872 - val_accuracy: 0.2505\n",
      "Epoch 5/10\n",
      "1356/1356 [==============================] - 270s 199ms/step - loss: 2.3680 - accuracy: 0.2484 - val_loss: 2.3897 - val_accuracy: 0.2467\n",
      "Epoch 6/10\n",
      "1356/1356 [==============================] - 269s 199ms/step - loss: 2.3703 - accuracy: 0.2453 - val_loss: 2.3765 - val_accuracy: 0.2462\n",
      "Epoch 7/10\n",
      "1356/1356 [==============================] - 269s 199ms/step - loss: 2.3675 - accuracy: 0.2459 - val_loss: 2.3994 - val_accuracy: 0.2502\n",
      "Epoch 8/10\n",
      "1356/1356 [==============================] - 270s 199ms/step - loss: 2.3645 - accuracy: 0.2480 - val_loss: 2.3888 - val_accuracy: 0.2501\n",
      "Epoch 9/10\n",
      "1356/1356 [==============================] - 269s 199ms/step - loss: 2.2775 - accuracy: 0.3215 - val_loss: 2.1099 - val_accuracy: 0.4145\n",
      "Epoch 10/10\n",
      "1356/1356 [==============================] - 270s 199ms/step - loss: 2.0357 - accuracy: 0.4260 - val_loss: 2.0364 - val_accuracy: 0.4256\n"
     ]
    },
    {
     "data": {
      "text/plain": [
       "<keras.callbacks.History at 0x7f95d1a41e50>"
      ]
     },
     "execution_count": 39,
     "metadata": {},
     "output_type": "execute_result"
    }
   ],
   "source": [
    "model.fit(X_train, Y_train, validation_data=(X_test, Y_test), epochs=10, batch_size=32)"
   ]
  },
  {
   "cell_type": "markdown",
   "id": "81d81a7f",
   "metadata": {
    "papermill": {
     "duration": 0.766449,
     "end_time": "2023-03-14T08:26:27.049286",
     "exception": false,
     "start_time": "2023-03-14T08:26:26.282837",
     "status": "completed"
    },
    "tags": []
   },
   "source": [
    "# Evaluate"
   ]
  },
  {
   "cell_type": "code",
   "execution_count": 40,
   "id": "d5b14555",
   "metadata": {
    "execution": {
     "iopub.execute_input": "2023-03-14T08:26:28.857616Z",
     "iopub.status.busy": "2023-03-14T08:26:28.856586Z",
     "iopub.status.idle": "2023-03-14T08:26:49.962166Z",
     "shell.execute_reply": "2023-03-14T08:26:49.960801Z"
    },
    "papermill": {
     "duration": 22.144391,
     "end_time": "2023-03-14T08:26:49.965013",
     "exception": false,
     "start_time": "2023-03-14T08:26:27.820622",
     "status": "completed"
    },
    "tags": []
   },
   "outputs": [
    {
     "name": "stdout",
     "output_type": "stream",
     "text": [
      "339/339 [==============================] - 21s 62ms/step - loss: 2.0364 - accuracy: 0.4256\n"
     ]
    },
    {
     "data": {
      "text/plain": [
       "[2.0363941192626953, 0.4256202280521393]"
      ]
     },
     "execution_count": 40,
     "metadata": {},
     "output_type": "execute_result"
    }
   ],
   "source": [
    "model.evaluate(X_test, Y_test)"
   ]
  },
  {
   "cell_type": "code",
   "execution_count": 41,
   "id": "d830a286",
   "metadata": {
    "execution": {
     "iopub.execute_input": "2023-03-14T08:26:51.735835Z",
     "iopub.status.busy": "2023-03-14T08:26:51.734810Z",
     "iopub.status.idle": "2023-03-14T08:26:51.744567Z",
     "shell.execute_reply": "2023-03-14T08:26:51.741885Z"
    },
    "papermill": {
     "duration": 0.842842,
     "end_time": "2023-03-14T08:26:51.747147",
     "exception": false,
     "start_time": "2023-03-14T08:26:50.904305",
     "status": "completed"
    },
    "tags": []
   },
   "outputs": [
    {
     "data": {
      "text/plain": [
       "(1, 250)"
      ]
     },
     "execution_count": 41,
     "metadata": {},
     "output_type": "execute_result"
    }
   ],
   "source": [
    "sample = X_test[0].reshape(1, 250)\n",
    "sample.shape"
   ]
  },
  {
   "cell_type": "code",
   "execution_count": 42,
   "id": "31384307",
   "metadata": {
    "execution": {
     "iopub.execute_input": "2023-03-14T08:26:53.364831Z",
     "iopub.status.busy": "2023-03-14T08:26:53.364420Z",
     "iopub.status.idle": "2023-03-14T08:26:54.153268Z",
     "shell.execute_reply": "2023-03-14T08:26:54.152084Z"
    },
    "papermill": {
     "duration": 1.565493,
     "end_time": "2023-03-14T08:26:54.155813",
     "exception": false,
     "start_time": "2023-03-14T08:26:52.590320",
     "status": "completed"
    },
    "tags": []
   },
   "outputs": [
    {
     "name": "stdout",
     "output_type": "stream",
     "text": [
      "1/1 [==============================] - 1s 738ms/step\n"
     ]
    }
   ],
   "source": [
    "re = (model.predict(sample) > 0.98).astype(\"int32\")"
   ]
  },
  {
   "cell_type": "code",
   "execution_count": 43,
   "id": "68af88de",
   "metadata": {
    "execution": {
     "iopub.execute_input": "2023-03-14T08:26:55.780875Z",
     "iopub.status.busy": "2023-03-14T08:26:55.780449Z",
     "iopub.status.idle": "2023-03-14T08:26:55.787395Z",
     "shell.execute_reply": "2023-03-14T08:26:55.786391Z"
    },
    "papermill": {
     "duration": 0.806202,
     "end_time": "2023-03-14T08:26:55.790177",
     "exception": false,
     "start_time": "2023-03-14T08:26:54.983975",
     "status": "completed"
    },
    "tags": []
   },
   "outputs": [
    {
     "data": {
      "text/plain": [
       "array([[0, 0, 0, 0, 0, 0, 0, 0, 0, 0, 0, 0, 0, 0, 0, 0, 0, 0, 0, 0, 0, 0,\n",
       "        0, 0, 0, 0, 0]], dtype=int32)"
      ]
     },
     "execution_count": 43,
     "metadata": {},
     "output_type": "execute_result"
    }
   ],
   "source": [
    "re"
   ]
  },
  {
   "cell_type": "code",
   "execution_count": 44,
   "id": "4f875ea1",
   "metadata": {
    "execution": {
     "iopub.execute_input": "2023-03-14T08:26:57.392175Z",
     "iopub.status.busy": "2023-03-14T08:26:57.391806Z",
     "iopub.status.idle": "2023-03-14T08:26:57.398704Z",
     "shell.execute_reply": "2023-03-14T08:26:57.397729Z"
    },
    "papermill": {
     "duration": 0.82702,
     "end_time": "2023-03-14T08:26:57.400720",
     "exception": false,
     "start_time": "2023-03-14T08:26:56.573700",
     "status": "completed"
    },
    "tags": []
   },
   "outputs": [
    {
     "data": {
      "text/plain": [
       "array([1., 0., 0., 0., 0., 0., 0., 0., 0., 0., 0., 0., 0., 0., 0., 0., 0.,\n",
       "       0., 0., 0., 0., 0., 0., 0., 0., 0., 0.], dtype=float32)"
      ]
     },
     "execution_count": 44,
     "metadata": {},
     "output_type": "execute_result"
    }
   ],
   "source": [
    "Y_test[0]"
   ]
  },
  {
   "cell_type": "markdown",
   "id": "968d3b9c",
   "metadata": {
    "papermill": {
     "duration": 0.767796,
     "end_time": "2023-03-14T08:26:58.996344",
     "exception": false,
     "start_time": "2023-03-14T08:26:58.228548",
     "status": "completed"
    },
    "tags": []
   },
   "source": [
    "# save model"
   ]
  },
  {
   "cell_type": "code",
   "execution_count": 45,
   "id": "ac371dab",
   "metadata": {
    "execution": {
     "iopub.execute_input": "2023-03-14T08:27:00.602909Z",
     "iopub.status.busy": "2023-03-14T08:27:00.602481Z",
     "iopub.status.idle": "2023-03-14T08:27:00.868653Z",
     "shell.execute_reply": "2023-03-14T08:27:00.867361Z"
    },
    "papermill": {
     "duration": 1.052807,
     "end_time": "2023-03-14T08:27:00.873977",
     "exception": false,
     "start_time": "2023-03-14T08:26:59.821170",
     "status": "completed"
    },
    "tags": []
   },
   "outputs": [],
   "source": [
    "model.save('movie-genre-classification-v2.h5')"
   ]
  },
  {
   "cell_type": "code",
   "execution_count": null,
   "id": "3e21ccf0",
   "metadata": {
    "papermill": {
     "duration": 0.816824,
     "end_time": "2023-03-14T08:27:02.685977",
     "exception": false,
     "start_time": "2023-03-14T08:27:01.869153",
     "status": "completed"
    },
    "tags": []
   },
   "outputs": [],
   "source": []
  }
 ],
 "metadata": {
  "kernelspec": {
   "display_name": "Python 3",
   "language": "python",
   "name": "python3"
  },
  "language_info": {
   "codemirror_mode": {
    "name": "ipython",
    "version": 3
   },
   "file_extension": ".py",
   "mimetype": "text/x-python",
   "name": "python",
   "nbconvert_exporter": "python",
   "pygments_lexer": "ipython3",
   "version": "3.7.12"
  },
  "papermill": {
   "default_parameters": {},
   "duration": 3698.52059,
   "end_time": "2023-03-14T08:27:06.965666",
   "environment_variables": {},
   "exception": null,
   "input_path": "__notebook__.ipynb",
   "output_path": "__notebook__.ipynb",
   "parameters": {},
   "start_time": "2023-03-14T07:25:28.445076",
   "version": "2.4.0"
  }
 },
 "nbformat": 4,
 "nbformat_minor": 5
}
