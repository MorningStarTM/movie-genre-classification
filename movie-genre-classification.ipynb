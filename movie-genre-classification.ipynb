{
 "cells": [
  {
   "cell_type": "code",
   "execution_count": 1,
   "id": "f0972af9",
   "metadata": {
    "execution": {
     "iopub.execute_input": "2023-03-10T20:12:08.456296Z",
     "iopub.status.busy": "2023-03-10T20:12:08.455776Z",
     "iopub.status.idle": "2023-03-10T20:12:18.824197Z",
     "shell.execute_reply": "2023-03-10T20:12:18.822811Z"
    },
    "papermill": {
     "duration": 10.386047,
     "end_time": "2023-03-10T20:12:18.828216",
     "exception": false,
     "start_time": "2023-03-10T20:12:08.442169",
     "status": "completed"
    },
    "tags": []
   },
   "outputs": [],
   "source": [
    "import pandas as pd\n",
    "import numpy as np\n",
    "import re\n",
    "import nltk\n",
    "import tensorflow as tf\n",
    "from keras.utils import to_categorical\n",
    "from nltk.corpus import stopwords\n",
    "from nltk.stem import PorterStemmer, WordNetLemmatizer\n",
    "from nltk.corpus import wordnet\n",
    "from tensorflow.keras.layers import Dense, LSTM, ReLU, Flatten, Embedding, SpatialDropout1D\n",
    "from tensorflow.keras.preprocessing.sequence import pad_sequences\n",
    "from tensorflow.keras.preprocessing.text import one_hot\n",
    "from tensorflow.keras.models import Sequential\n",
    "from sklearn.model_selection import train_test_split\n",
    "from sklearn.metrics import confusion_matrix"
   ]
  },
  {
   "cell_type": "code",
   "execution_count": 2,
   "id": "863cad3a",
   "metadata": {
    "execution": {
     "iopub.execute_input": "2023-03-10T20:12:18.861396Z",
     "iopub.status.busy": "2023-03-10T20:12:18.860197Z",
     "iopub.status.idle": "2023-03-10T20:12:19.042907Z",
     "shell.execute_reply": "2023-03-10T20:12:19.041647Z"
    },
    "papermill": {
     "duration": 0.201178,
     "end_time": "2023-03-10T20:12:19.045405",
     "exception": false,
     "start_time": "2023-03-10T20:12:18.844227",
     "status": "completed"
    },
    "tags": []
   },
   "outputs": [
    {
     "name": "stdout",
     "output_type": "stream",
     "text": [
      "[nltk_data] Downloading package stopwords to /usr/share/nltk_data...\n",
      "[nltk_data]   Package stopwords is already up-to-date!\n",
      "[nltk_data] Downloading package punkt to /usr/share/nltk_data...\n",
      "[nltk_data]   Package punkt is already up-to-date!\n"
     ]
    },
    {
     "data": {
      "text/plain": [
       "True"
      ]
     },
     "execution_count": 2,
     "metadata": {},
     "output_type": "execute_result"
    }
   ],
   "source": [
    "nltk.download('stopwords')\n",
    "nltk.download('punkt')"
   ]
  },
  {
   "cell_type": "code",
   "execution_count": 3,
   "id": "63b2c476",
   "metadata": {
    "execution": {
     "iopub.execute_input": "2023-03-10T20:12:19.067043Z",
     "iopub.status.busy": "2023-03-10T20:12:19.066195Z",
     "iopub.status.idle": "2023-03-10T20:12:20.042732Z",
     "shell.execute_reply": "2023-03-10T20:12:20.040366Z"
    },
    "papermill": {
     "duration": 0.991652,
     "end_time": "2023-03-10T20:12:20.046824",
     "exception": false,
     "start_time": "2023-03-10T20:12:19.055172",
     "status": "completed"
    },
    "tags": []
   },
   "outputs": [],
   "source": [
    "#reading data\n",
    "file = open(\"/kaggle/input/genre-classification-dataset-imdb/Genre Classification Dataset/train_data.txt\", encoding='utf-8', errors='ignore').read().split('\\n')"
   ]
  },
  {
   "cell_type": "code",
   "execution_count": 4,
   "id": "a3fdbe51",
   "metadata": {
    "execution": {
     "iopub.execute_input": "2023-03-10T20:12:20.069271Z",
     "iopub.status.busy": "2023-03-10T20:12:20.068866Z",
     "iopub.status.idle": "2023-03-10T20:12:20.075771Z",
     "shell.execute_reply": "2023-03-10T20:12:20.074641Z"
    },
    "papermill": {
     "duration": 0.020766,
     "end_time": "2023-03-10T20:12:20.078294",
     "exception": false,
     "start_time": "2023-03-10T20:12:20.057528",
     "status": "completed"
    },
    "tags": []
   },
   "outputs": [
    {
     "data": {
      "text/plain": [
       "54215"
      ]
     },
     "execution_count": 4,
     "metadata": {},
     "output_type": "execute_result"
    }
   ],
   "source": [
    "#size of data\n",
    "len(file)"
   ]
  },
  {
   "cell_type": "markdown",
   "id": "38835e9a",
   "metadata": {
    "papermill": {
     "duration": 0.009491,
     "end_time": "2023-03-10T20:12:20.098485",
     "exception": false,
     "start_time": "2023-03-10T20:12:20.088994",
     "status": "completed"
    },
    "tags": []
   },
   "source": [
    "# Creating Dataset"
   ]
  },
  {
   "cell_type": "code",
   "execution_count": 5,
   "id": "a6e3dd90",
   "metadata": {
    "execution": {
     "iopub.execute_input": "2023-03-10T20:12:20.120916Z",
     "iopub.status.busy": "2023-03-10T20:12:20.119721Z",
     "iopub.status.idle": "2023-03-10T20:12:20.129131Z",
     "shell.execute_reply": "2023-03-10T20:12:20.127747Z"
    },
    "papermill": {
     "duration": 0.023628,
     "end_time": "2023-03-10T20:12:20.131740",
     "exception": false,
     "start_time": "2023-03-10T20:12:20.108112",
     "status": "completed"
    },
    "tags": []
   },
   "outputs": [],
   "source": [
    "df = pd.DataFrame()"
   ]
  },
  {
   "cell_type": "code",
   "execution_count": 6,
   "id": "36d23dae",
   "metadata": {
    "execution": {
     "iopub.execute_input": "2023-03-10T20:12:20.153754Z",
     "iopub.status.busy": "2023-03-10T20:12:20.152630Z",
     "iopub.status.idle": "2023-03-10T20:12:20.159596Z",
     "shell.execute_reply": "2023-03-10T20:12:20.158415Z"
    },
    "papermill": {
     "duration": 0.02013,
     "end_time": "2023-03-10T20:12:20.161952",
     "exception": false,
     "start_time": "2023-03-10T20:12:20.141822",
     "status": "completed"
    },
    "tags": []
   },
   "outputs": [],
   "source": [
    "def split_data(texts):\n",
    "    genre = []\n",
    "    desc = []\n",
    "    for text in texts:\n",
    "        splited = text.split(\":::\")\n",
    "        genre.append(splited[-2])\n",
    "        desc.append(splited[-1])\n",
    "    return genre, desc"
   ]
  },
  {
   "cell_type": "code",
   "execution_count": 7,
   "id": "f7a30c13",
   "metadata": {
    "execution": {
     "iopub.execute_input": "2023-03-10T20:12:20.183985Z",
     "iopub.status.busy": "2023-03-10T20:12:20.182508Z",
     "iopub.status.idle": "2023-03-10T20:12:20.202600Z",
     "shell.execute_reply": "2023-03-10T20:12:20.201503Z"
    },
    "papermill": {
     "duration": 0.034057,
     "end_time": "2023-03-10T20:12:20.205453",
     "exception": false,
     "start_time": "2023-03-10T20:12:20.171396",
     "status": "completed"
    },
    "tags": []
   },
   "outputs": [],
   "source": [
    "genre, desc = split_data(file[0:10000])"
   ]
  },
  {
   "cell_type": "code",
   "execution_count": 8,
   "id": "49d5241c",
   "metadata": {
    "execution": {
     "iopub.execute_input": "2023-03-10T20:12:20.227818Z",
     "iopub.status.busy": "2023-03-10T20:12:20.227363Z",
     "iopub.status.idle": "2023-03-10T20:12:20.236491Z",
     "shell.execute_reply": "2023-03-10T20:12:20.235151Z"
    },
    "papermill": {
     "duration": 0.024049,
     "end_time": "2023-03-10T20:12:20.239467",
     "exception": false,
     "start_time": "2023-03-10T20:12:20.215418",
     "status": "completed"
    },
    "tags": []
   },
   "outputs": [
    {
     "data": {
      "text/plain": [
       "(10000, 10000)"
      ]
     },
     "execution_count": 8,
     "metadata": {},
     "output_type": "execute_result"
    }
   ],
   "source": [
    "#size of data\n",
    "len(genre), len(desc)"
   ]
  },
  {
   "cell_type": "code",
   "execution_count": 9,
   "id": "d428c446",
   "metadata": {
    "execution": {
     "iopub.execute_input": "2023-03-10T20:12:20.260737Z",
     "iopub.status.busy": "2023-03-10T20:12:20.259631Z",
     "iopub.status.idle": "2023-03-10T20:12:20.282375Z",
     "shell.execute_reply": "2023-03-10T20:12:20.281298Z"
    },
    "papermill": {
     "duration": 0.036011,
     "end_time": "2023-03-10T20:12:20.284810",
     "exception": false,
     "start_time": "2023-03-10T20:12:20.248799",
     "status": "completed"
    },
    "tags": []
   },
   "outputs": [],
   "source": [
    "#creating dataframe for data\n",
    "df['genre'] = genre\n",
    "df['desc'] = desc"
   ]
  },
  {
   "cell_type": "code",
   "execution_count": 10,
   "id": "9e70a411",
   "metadata": {
    "execution": {
     "iopub.execute_input": "2023-03-10T20:12:20.305471Z",
     "iopub.status.busy": "2023-03-10T20:12:20.304843Z",
     "iopub.status.idle": "2023-03-10T20:12:20.321155Z",
     "shell.execute_reply": "2023-03-10T20:12:20.319738Z"
    },
    "papermill": {
     "duration": 0.030502,
     "end_time": "2023-03-10T20:12:20.324692",
     "exception": false,
     "start_time": "2023-03-10T20:12:20.294190",
     "status": "completed"
    },
    "tags": []
   },
   "outputs": [
    {
     "data": {
      "text/html": [
       "<div>\n",
       "<style scoped>\n",
       "    .dataframe tbody tr th:only-of-type {\n",
       "        vertical-align: middle;\n",
       "    }\n",
       "\n",
       "    .dataframe tbody tr th {\n",
       "        vertical-align: top;\n",
       "    }\n",
       "\n",
       "    .dataframe thead th {\n",
       "        text-align: right;\n",
       "    }\n",
       "</style>\n",
       "<table border=\"1\" class=\"dataframe\">\n",
       "  <thead>\n",
       "    <tr style=\"text-align: right;\">\n",
       "      <th></th>\n",
       "      <th>genre</th>\n",
       "      <th>desc</th>\n",
       "    </tr>\n",
       "  </thead>\n",
       "  <tbody>\n",
       "    <tr>\n",
       "      <th>0</th>\n",
       "      <td>drama</td>\n",
       "      <td>Listening in to a conversation between his do...</td>\n",
       "    </tr>\n",
       "    <tr>\n",
       "      <th>1</th>\n",
       "      <td>thriller</td>\n",
       "      <td>A brother and sister with a past incestuous r...</td>\n",
       "    </tr>\n",
       "    <tr>\n",
       "      <th>2</th>\n",
       "      <td>adult</td>\n",
       "      <td>As the bus empties the students for their fie...</td>\n",
       "    </tr>\n",
       "    <tr>\n",
       "      <th>3</th>\n",
       "      <td>drama</td>\n",
       "      <td>To help their unemployed father make ends mee...</td>\n",
       "    </tr>\n",
       "    <tr>\n",
       "      <th>4</th>\n",
       "      <td>drama</td>\n",
       "      <td>The film's title refers not only to the un-re...</td>\n",
       "    </tr>\n",
       "  </tbody>\n",
       "</table>\n",
       "</div>"
      ],
      "text/plain": [
       "        genre                                               desc\n",
       "0      drama    Listening in to a conversation between his do...\n",
       "1   thriller    A brother and sister with a past incestuous r...\n",
       "2      adult    As the bus empties the students for their fie...\n",
       "3      drama    To help their unemployed father make ends mee...\n",
       "4      drama    The film's title refers not only to the un-re..."
      ]
     },
     "execution_count": 10,
     "metadata": {},
     "output_type": "execute_result"
    }
   ],
   "source": [
    "df.head()"
   ]
  },
  {
   "cell_type": "code",
   "execution_count": 11,
   "id": "d200ec35",
   "metadata": {
    "execution": {
     "iopub.execute_input": "2023-03-10T20:12:20.346516Z",
     "iopub.status.busy": "2023-03-10T20:12:20.346133Z",
     "iopub.status.idle": "2023-03-10T20:12:20.355277Z",
     "shell.execute_reply": "2023-03-10T20:12:20.353969Z"
    },
    "papermill": {
     "duration": 0.022693,
     "end_time": "2023-03-10T20:12:20.357660",
     "exception": false,
     "start_time": "2023-03-10T20:12:20.334967",
     "status": "completed"
    },
    "tags": []
   },
   "outputs": [
    {
     "data": {
      "text/plain": [
       "' Listening in to a conversation between his doctor and parents, 10-year-old Oscar learns what nobody has the courage to tell him. He only has a few weeks to live. Furious, he refuses to speak to anyone except straight-talking Rose, the lady in pink he meets on the hospital stairs. As Christmas approaches, Rose uses her fantastical experiences as a professional wrestler, her imagination, wit and charm to allow Oscar to live life and love to the full, in the company of his friends Pop Corn, Einstein, Bacon and childhood sweetheart Peggy Blue.'"
      ]
     },
     "execution_count": 11,
     "metadata": {},
     "output_type": "execute_result"
    }
   ],
   "source": [
    "df['desc'][0]"
   ]
  },
  {
   "cell_type": "markdown",
   "id": "38de3467",
   "metadata": {
    "papermill": {
     "duration": 0.009745,
     "end_time": "2023-03-10T20:12:20.376725",
     "exception": false,
     "start_time": "2023-03-10T20:12:20.366980",
     "status": "completed"
    },
    "tags": []
   },
   "source": [
    "# Data Preprocessing"
   ]
  },
  {
   "cell_type": "code",
   "execution_count": 12,
   "id": "0bbdbabe",
   "metadata": {
    "execution": {
     "iopub.execute_input": "2023-03-10T20:12:20.397870Z",
     "iopub.status.busy": "2023-03-10T20:12:20.397429Z",
     "iopub.status.idle": "2023-03-10T20:12:20.402517Z",
     "shell.execute_reply": "2023-03-10T20:12:20.401406Z"
    },
    "papermill": {
     "duration": 0.018445,
     "end_time": "2023-03-10T20:12:20.404882",
     "exception": false,
     "start_time": "2023-03-10T20:12:20.386437",
     "status": "completed"
    },
    "tags": []
   },
   "outputs": [],
   "source": [
    "#initialize the stemmer and lemmentizer\n",
    "stemmer = PorterStemmer()\n",
    "lemmatizer = WordNetLemmatizer()"
   ]
  },
  {
   "cell_type": "code",
   "execution_count": 13,
   "id": "3c2e56e0",
   "metadata": {
    "execution": {
     "iopub.execute_input": "2023-03-10T20:12:20.427858Z",
     "iopub.status.busy": "2023-03-10T20:12:20.426658Z",
     "iopub.status.idle": "2023-03-10T20:12:20.435788Z",
     "shell.execute_reply": "2023-03-10T20:12:20.434543Z"
    },
    "papermill": {
     "duration": 0.023947,
     "end_time": "2023-03-10T20:12:20.438549",
     "exception": false,
     "start_time": "2023-03-10T20:12:20.414602",
     "status": "completed"
    },
    "tags": []
   },
   "outputs": [],
   "source": [
    "#filtering the text\n",
    "def full_form(text):\n",
    "    text = text.lower()\n",
    "    plain = re.sub(r'[-<>?\\.,!\"(\\)\\/[\\]]', ' ', text)\n",
    "    plain = plain.replace(\"don't\", \"do not\")\n",
    "    plain = plain.replace(\"won't\", \"will not\")\n",
    "    plain = plain.replace(\"haven't\", \"have not\")\n",
    "    plain = plain.replace(\"can't\", \"cannot\")\n",
    "    plain = plain.replace(\"she's\", \"she is\")\n",
    "    plain = plain.replace(\"he's\", \"he is\")\n",
    "    plain = plain.replace(\"there're\", \"there are\")\n",
    "    plain = plain.replace(\"they'd\", \"they would\")\n",
    "    plain = plain.replace(\"\\'ll\", \" will\")\n",
    "    return plain   "
   ]
  },
  {
   "cell_type": "code",
   "execution_count": 14,
   "id": "11e29e28",
   "metadata": {
    "execution": {
     "iopub.execute_input": "2023-03-10T20:12:20.461000Z",
     "iopub.status.busy": "2023-03-10T20:12:20.459421Z",
     "iopub.status.idle": "2023-03-10T20:12:20.466506Z",
     "shell.execute_reply": "2023-03-10T20:12:20.465515Z"
    },
    "papermill": {
     "duration": 0.02051,
     "end_time": "2023-03-10T20:12:20.468981",
     "exception": false,
     "start_time": "2023-03-10T20:12:20.448471",
     "status": "completed"
    },
    "tags": []
   },
   "outputs": [],
   "source": [
    "#preprocessing  text \n",
    "def remove_stop_words(data):\n",
    "  corpus = []\n",
    "  for i in range(0, len(data)):\n",
    "    #split the sentence\n",
    "    plain = full_form(data[i])\n",
    "    sentence = plain.split()\n",
    "    \n",
    "    #check and stem the word\n",
    "    review_processed = [stemmer.stem(word) for word in sentence if not word in stopwords.words('english')]\n",
    "    #rebuild the sentence\n",
    "    review_joint = ' '.join(review_processed)\n",
    "    #add the sentence into list\n",
    "    corpus.append(review_joint)\n",
    "  return corpus"
   ]
  },
  {
   "cell_type": "code",
   "execution_count": 15,
   "id": "fe47ac8e",
   "metadata": {
    "execution": {
     "iopub.execute_input": "2023-03-10T20:12:20.490934Z",
     "iopub.status.busy": "2023-03-10T20:12:20.490422Z",
     "iopub.status.idle": "2023-03-10T20:15:02.057622Z",
     "shell.execute_reply": "2023-03-10T20:15:02.056430Z"
    },
    "papermill": {
     "duration": 161.581138,
     "end_time": "2023-03-10T20:15:02.060365",
     "exception": false,
     "start_time": "2023-03-10T20:12:20.479227",
     "status": "completed"
    },
    "tags": []
   },
   "outputs": [],
   "source": [
    "processed_desc = remove_stop_words(df['desc'])"
   ]
  },
  {
   "cell_type": "code",
   "execution_count": 16,
   "id": "03e0d919",
   "metadata": {
    "execution": {
     "iopub.execute_input": "2023-03-10T20:15:02.082567Z",
     "iopub.status.busy": "2023-03-10T20:15:02.081548Z",
     "iopub.status.idle": "2023-03-10T20:15:02.091996Z",
     "shell.execute_reply": "2023-03-10T20:15:02.091038Z"
    },
    "papermill": {
     "duration": 0.023548,
     "end_time": "2023-03-10T20:15:02.094320",
     "exception": false,
     "start_time": "2023-03-10T20:15:02.070772",
     "status": "completed"
    },
    "tags": []
   },
   "outputs": [
    {
     "data": {
      "text/plain": [
       "[54,\n",
       " 15,\n",
       " 56,\n",
       " 109,\n",
       " 58,\n",
       " 170,\n",
       " 33,\n",
       " 31,\n",
       " 42,\n",
       " 43,\n",
       " 37,\n",
       " 18,\n",
       " 73,\n",
       " 29,\n",
       " 47,\n",
       " 26,\n",
       " 33,\n",
       " 48,\n",
       " 206,\n",
       " 28,\n",
       " 35,\n",
       " 19,\n",
       " 88,\n",
       " 46,\n",
       " 28,\n",
       " 30,\n",
       " 56,\n",
       " 28,\n",
       " 34,\n",
       " 74,\n",
       " 43,\n",
       " 63,\n",
       " 65,\n",
       " 18,\n",
       " 57,\n",
       " 41,\n",
       " 63,\n",
       " 41,\n",
       " 24,\n",
       " 57]"
      ]
     },
     "execution_count": 16,
     "metadata": {},
     "output_type": "execute_result"
    }
   ],
   "source": [
    "#sample length for getting overall idea for max length of sentence\n",
    "length = [len(processed_desc[i].split()) for i in range(40)]\n",
    "length"
   ]
  },
  {
   "cell_type": "code",
   "execution_count": 17,
   "id": "56dd65e3",
   "metadata": {
    "execution": {
     "iopub.execute_input": "2023-03-10T20:15:02.115588Z",
     "iopub.status.busy": "2023-03-10T20:15:02.115196Z",
     "iopub.status.idle": "2023-03-10T20:15:02.120986Z",
     "shell.execute_reply": "2023-03-10T20:15:02.119755Z"
    },
    "papermill": {
     "duration": 0.019637,
     "end_time": "2023-03-10T20:15:02.123473",
     "exception": false,
     "start_time": "2023-03-10T20:15:02.103836",
     "status": "completed"
    },
    "tags": []
   },
   "outputs": [],
   "source": [
    "#filtering the genre\n",
    "def filter_text(text):\n",
    "    text = text.lower()\n",
    "    plain = re.sub(r'[-<>?\\.,@#$%&*!\"(\\)\\/[\\]]', '', text)\n",
    "    return plain"
   ]
  },
  {
   "cell_type": "code",
   "execution_count": 18,
   "id": "2f7ee2ab",
   "metadata": {
    "execution": {
     "iopub.execute_input": "2023-03-10T20:15:02.146874Z",
     "iopub.status.busy": "2023-03-10T20:15:02.145838Z",
     "iopub.status.idle": "2023-03-10T20:15:02.168330Z",
     "shell.execute_reply": "2023-03-10T20:15:02.167128Z"
    },
    "papermill": {
     "duration": 0.036413,
     "end_time": "2023-03-10T20:15:02.170834",
     "exception": false,
     "start_time": "2023-03-10T20:15:02.134421",
     "status": "completed"
    },
    "tags": []
   },
   "outputs": [],
   "source": [
    "filtered_genre = []\n",
    "for gnre in df['genre']:\n",
    "    filtered_genre.append(filter_text(gnre))"
   ]
  },
  {
   "cell_type": "code",
   "execution_count": 19,
   "id": "172a1a79",
   "metadata": {
    "execution": {
     "iopub.execute_input": "2023-03-10T20:15:02.192729Z",
     "iopub.status.busy": "2023-03-10T20:15:02.191560Z",
     "iopub.status.idle": "2023-03-10T20:15:02.199261Z",
     "shell.execute_reply": "2023-03-10T20:15:02.198155Z"
    },
    "papermill": {
     "duration": 0.020882,
     "end_time": "2023-03-10T20:15:02.201492",
     "exception": false,
     "start_time": "2023-03-10T20:15:02.180610",
     "status": "completed"
    },
    "tags": []
   },
   "outputs": [
    {
     "data": {
      "text/plain": [
       "(10000, 10000)"
      ]
     },
     "execution_count": 19,
     "metadata": {},
     "output_type": "execute_result"
    }
   ],
   "source": [
    "len(filtered_genre), len(genre)"
   ]
  },
  {
   "cell_type": "code",
   "execution_count": 20,
   "id": "3699ab74",
   "metadata": {
    "execution": {
     "iopub.execute_input": "2023-03-10T20:15:02.224596Z",
     "iopub.status.busy": "2023-03-10T20:15:02.223773Z",
     "iopub.status.idle": "2023-03-10T20:15:02.233080Z",
     "shell.execute_reply": "2023-03-10T20:15:02.231744Z"
    },
    "papermill": {
     "duration": 0.024146,
     "end_time": "2023-03-10T20:15:02.235636",
     "exception": false,
     "start_time": "2023-03-10T20:15:02.211490",
     "status": "completed"
    },
    "tags": []
   },
   "outputs": [],
   "source": [
    "df['preprocessed_desc'] = processed_desc\n",
    "df['preprocessed_genre'] = filtered_genre"
   ]
  },
  {
   "cell_type": "code",
   "execution_count": 21,
   "id": "0880c74d",
   "metadata": {
    "execution": {
     "iopub.execute_input": "2023-03-10T20:15:02.259056Z",
     "iopub.status.busy": "2023-03-10T20:15:02.257791Z",
     "iopub.status.idle": "2023-03-10T20:15:02.265366Z",
     "shell.execute_reply": "2023-03-10T20:15:02.264160Z"
    },
    "papermill": {
     "duration": 0.021803,
     "end_time": "2023-03-10T20:15:02.267807",
     "exception": false,
     "start_time": "2023-03-10T20:15:02.246004",
     "status": "completed"
    },
    "tags": []
   },
   "outputs": [
    {
     "data": {
      "text/plain": [
       "(10000, 4)"
      ]
     },
     "execution_count": 21,
     "metadata": {},
     "output_type": "execute_result"
    }
   ],
   "source": [
    "df.shape"
   ]
  },
  {
   "cell_type": "markdown",
   "id": "4d464134",
   "metadata": {
    "papermill": {
     "duration": 0.010409,
     "end_time": "2023-03-10T20:15:02.288923",
     "exception": false,
     "start_time": "2023-03-10T20:15:02.278514",
     "status": "completed"
    },
    "tags": []
   },
   "source": [
    "# Vectorization"
   ]
  },
  {
   "cell_type": "code",
   "execution_count": 22,
   "id": "7c891a0d",
   "metadata": {
    "execution": {
     "iopub.execute_input": "2023-03-10T20:15:02.311279Z",
     "iopub.status.busy": "2023-03-10T20:15:02.310292Z",
     "iopub.status.idle": "2023-03-10T20:15:02.315720Z",
     "shell.execute_reply": "2023-03-10T20:15:02.314714Z"
    },
    "papermill": {
     "duration": 0.018932,
     "end_time": "2023-03-10T20:15:02.318230",
     "exception": false,
     "start_time": "2023-03-10T20:15:02.299298",
     "status": "completed"
    },
    "tags": []
   },
   "outputs": [],
   "source": [
    "#vocabulary size\n",
    "voc_size = 10000"
   ]
  },
  {
   "cell_type": "code",
   "execution_count": 23,
   "id": "6cb289e3",
   "metadata": {
    "execution": {
     "iopub.execute_input": "2023-03-10T20:15:02.342113Z",
     "iopub.status.busy": "2023-03-10T20:15:02.341352Z",
     "iopub.status.idle": "2023-03-10T20:15:02.738143Z",
     "shell.execute_reply": "2023-03-10T20:15:02.736922Z"
    },
    "papermill": {
     "duration": 0.412113,
     "end_time": "2023-03-10T20:15:02.741189",
     "exception": false,
     "start_time": "2023-03-10T20:15:02.329076",
     "status": "completed"
    },
    "tags": []
   },
   "outputs": [],
   "source": [
    "#convert into one hot vector\n",
    "onehot_text = [one_hot(word, voc_size) for word in df['preprocessed_desc']]"
   ]
  },
  {
   "cell_type": "code",
   "execution_count": 24,
   "id": "80c14471",
   "metadata": {
    "execution": {
     "iopub.execute_input": "2023-03-10T20:15:02.764840Z",
     "iopub.status.busy": "2023-03-10T20:15:02.764394Z",
     "iopub.status.idle": "2023-03-10T20:15:02.771142Z",
     "shell.execute_reply": "2023-03-10T20:15:02.769905Z"
    },
    "papermill": {
     "duration": 0.023744,
     "end_time": "2023-03-10T20:15:02.775738",
     "exception": false,
     "start_time": "2023-03-10T20:15:02.751994",
     "status": "completed"
    },
    "tags": []
   },
   "outputs": [
    {
     "name": "stdout",
     "output_type": "stream",
     "text": [
      "54\n",
      "54\n"
     ]
    }
   ],
   "source": [
    "print(len(onehot_text[0]))\n",
    "print(len(df['preprocessed_desc'][0].split()))"
   ]
  },
  {
   "cell_type": "code",
   "execution_count": 25,
   "id": "a7e4eade",
   "metadata": {
    "execution": {
     "iopub.execute_input": "2023-03-10T20:15:02.798121Z",
     "iopub.status.busy": "2023-03-10T20:15:02.797703Z",
     "iopub.status.idle": "2023-03-10T20:15:02.805877Z",
     "shell.execute_reply": "2023-03-10T20:15:02.804626Z"
    },
    "papermill": {
     "duration": 0.02243,
     "end_time": "2023-03-10T20:15:02.808409",
     "exception": false,
     "start_time": "2023-03-10T20:15:02.785979",
     "status": "completed"
    },
    "tags": []
   },
   "outputs": [
    {
     "data": {
      "text/plain": [
       "27"
      ]
     },
     "execution_count": 25,
     "metadata": {},
     "output_type": "execute_result"
    }
   ],
   "source": [
    "#unique values of genre\n",
    "len(df['preprocessed_genre'].unique())"
   ]
  },
  {
   "cell_type": "code",
   "execution_count": 26,
   "id": "19ec405e",
   "metadata": {
    "execution": {
     "iopub.execute_input": "2023-03-10T20:15:02.832500Z",
     "iopub.status.busy": "2023-03-10T20:15:02.832065Z",
     "iopub.status.idle": "2023-03-10T20:15:02.925750Z",
     "shell.execute_reply": "2023-03-10T20:15:02.924475Z"
    },
    "papermill": {
     "duration": 0.109856,
     "end_time": "2023-03-10T20:15:02.928956",
     "exception": false,
     "start_time": "2023-03-10T20:15:02.819100",
     "status": "completed"
    },
    "tags": []
   },
   "outputs": [],
   "source": [
    "#y train data\n",
    "onehot_genre = [one_hot(char,27) for char in df['preprocessed_genre']]"
   ]
  },
  {
   "cell_type": "code",
   "execution_count": 27,
   "id": "29afb33b",
   "metadata": {
    "execution": {
     "iopub.execute_input": "2023-03-10T20:15:02.957221Z",
     "iopub.status.busy": "2023-03-10T20:15:02.956609Z",
     "iopub.status.idle": "2023-03-10T20:15:02.969163Z",
     "shell.execute_reply": "2023-03-10T20:15:02.967389Z"
    },
    "papermill": {
     "duration": 0.034249,
     "end_time": "2023-03-10T20:15:02.973884",
     "exception": false,
     "start_time": "2023-03-10T20:15:02.939635",
     "status": "completed"
    },
    "tags": []
   },
   "outputs": [
    {
     "name": "stdout",
     "output_type": "stream",
     "text": [
      "0 - [11] -->  drama \n",
      "1 - [17] -->  thriller \n",
      "2 - [17] -->  adult \n",
      "3 - [11] -->  drama \n",
      "4 - [11] -->  drama \n",
      "5 - [16] -->  documentary \n",
      "6 - [23] -->  comedy \n",
      "7 - [7] -->  crime \n",
      "8 - [3] -->  realitytv \n",
      "9 - [7] -->  horror \n",
      "10 - [16] -->  documentary \n",
      "11 - [11] -->  drama \n",
      "12 - [16] -->  documentary \n",
      "13 - [17] -->  thriller \n",
      "14 - [11] -->  drama \n",
      "15 - [11] -->  drama \n",
      "16 - [23] -->  comedy \n",
      "17 - [16] -->  documentary \n",
      "18 - [23] -->  sport \n",
      "19 - [1] -->  animation \n",
      "20 - [11] -->  drama \n",
      "21 - [23] -->  comedy \n",
      "22 - [23] -->  comedy \n",
      "23 - [11] -->  drama \n",
      "24 - [3] -->  action \n",
      "25 - [24] -->  fantasy \n",
      "26 - [1] -->  short \n",
      "27 - [19] -->  scifi \n",
      "28 - [17] -->  thriller \n",
      "29 - [16] -->  documentary \n",
      "30 - [7] -->  horror \n",
      "31 - [16] -->  documentary \n",
      "32 - [3] -->  action \n",
      "33 - [16] -->  documentary \n",
      "34 - [15] -->  music \n",
      "35 - [23] -->  comedy \n",
      "36 - [11] -->  drama \n",
      "37 - [11] -->  drama \n",
      "38 - [23] -->  comedy \n",
      "39 - [23] -->  comedy \n"
     ]
    }
   ],
   "source": [
    "for i in range(40):\n",
    "    print(f'{i} - {onehot_genre[i]} --> {filtered_genre[i]}')"
   ]
  },
  {
   "cell_type": "markdown",
   "id": "bf04b8fe",
   "metadata": {
    "papermill": {
     "duration": 0.010445,
     "end_time": "2023-03-10T20:15:02.996558",
     "exception": false,
     "start_time": "2023-03-10T20:15:02.986113",
     "status": "completed"
    },
    "tags": []
   },
   "source": [
    "# Embedding"
   ]
  },
  {
   "cell_type": "code",
   "execution_count": 28,
   "id": "71194a5b",
   "metadata": {
    "execution": {
     "iopub.execute_input": "2023-03-10T20:15:03.020150Z",
     "iopub.status.busy": "2023-03-10T20:15:03.019750Z",
     "iopub.status.idle": "2023-03-10T20:15:03.024942Z",
     "shell.execute_reply": "2023-03-10T20:15:03.023641Z"
    },
    "papermill": {
     "duration": 0.020031,
     "end_time": "2023-03-10T20:15:03.027579",
     "exception": false,
     "start_time": "2023-03-10T20:15:03.007548",
     "status": "completed"
    },
    "tags": []
   },
   "outputs": [],
   "source": [
    "#sentence length\n",
    "sent_length = 250"
   ]
  },
  {
   "cell_type": "code",
   "execution_count": 29,
   "id": "b229ab89",
   "metadata": {
    "execution": {
     "iopub.execute_input": "2023-03-10T20:15:03.052420Z",
     "iopub.status.busy": "2023-03-10T20:15:03.051191Z",
     "iopub.status.idle": "2023-03-10T20:15:03.113313Z",
     "shell.execute_reply": "2023-03-10T20:15:03.112157Z"
    },
    "papermill": {
     "duration": 0.077878,
     "end_time": "2023-03-10T20:15:03.116168",
     "exception": false,
     "start_time": "2023-03-10T20:15:03.038290",
     "status": "completed"
    },
    "tags": []
   },
   "outputs": [],
   "source": [
    "#embedding\n",
    "embedd_docs = pad_sequences(onehot_text, padding='pre', maxlen=sent_length)"
   ]
  },
  {
   "cell_type": "code",
   "execution_count": 30,
   "id": "1bddced0",
   "metadata": {
    "execution": {
     "iopub.execute_input": "2023-03-10T20:15:03.139690Z",
     "iopub.status.busy": "2023-03-10T20:15:03.139233Z",
     "iopub.status.idle": "2023-03-10T20:15:03.146862Z",
     "shell.execute_reply": "2023-03-10T20:15:03.145658Z"
    },
    "papermill": {
     "duration": 0.02225,
     "end_time": "2023-03-10T20:15:03.149289",
     "exception": false,
     "start_time": "2023-03-10T20:15:03.127039",
     "status": "completed"
    },
    "tags": []
   },
   "outputs": [
    {
     "data": {
      "text/plain": [
       "250"
      ]
     },
     "execution_count": 30,
     "metadata": {},
     "output_type": "execute_result"
    }
   ],
   "source": [
    "embedd_docs.shape[1]"
   ]
  },
  {
   "cell_type": "code",
   "execution_count": 31,
   "id": "e287e576",
   "metadata": {
    "execution": {
     "iopub.execute_input": "2023-03-10T20:15:03.172876Z",
     "iopub.status.busy": "2023-03-10T20:15:03.171761Z",
     "iopub.status.idle": "2023-03-10T20:15:03.179527Z",
     "shell.execute_reply": "2023-03-10T20:15:03.178391Z"
    },
    "papermill": {
     "duration": 0.021749,
     "end_time": "2023-03-10T20:15:03.181875",
     "exception": false,
     "start_time": "2023-03-10T20:15:03.160126",
     "status": "completed"
    },
    "tags": []
   },
   "outputs": [
    {
     "data": {
      "text/plain": [
       "(10000, 10000)"
      ]
     },
     "execution_count": 31,
     "metadata": {},
     "output_type": "execute_result"
    }
   ],
   "source": [
    "#shape of data\n",
    "len(embedd_docs), len(onehot_genre)"
   ]
  },
  {
   "cell_type": "code",
   "execution_count": 32,
   "id": "3df5476c",
   "metadata": {
    "execution": {
     "iopub.execute_input": "2023-03-10T20:15:03.205429Z",
     "iopub.status.busy": "2023-03-10T20:15:03.204373Z",
     "iopub.status.idle": "2023-03-10T20:15:03.218885Z",
     "shell.execute_reply": "2023-03-10T20:15:03.217729Z"
    },
    "papermill": {
     "duration": 0.028864,
     "end_time": "2023-03-10T20:15:03.221583",
     "exception": false,
     "start_time": "2023-03-10T20:15:03.192719",
     "status": "completed"
    },
    "tags": []
   },
   "outputs": [],
   "source": [
    "#convert into numpy array\n",
    "X_data = np.array(embedd_docs)\n",
    "y_data = np.array(onehot_genre)"
   ]
  },
  {
   "cell_type": "code",
   "execution_count": 33,
   "id": "055fa42d",
   "metadata": {
    "execution": {
     "iopub.execute_input": "2023-03-10T20:15:03.246840Z",
     "iopub.status.busy": "2023-03-10T20:15:03.245523Z",
     "iopub.status.idle": "2023-03-10T20:15:03.253463Z",
     "shell.execute_reply": "2023-03-10T20:15:03.252315Z"
    },
    "papermill": {
     "duration": 0.023038,
     "end_time": "2023-03-10T20:15:03.255884",
     "exception": false,
     "start_time": "2023-03-10T20:15:03.232846",
     "status": "completed"
    },
    "tags": []
   },
   "outputs": [
    {
     "data": {
      "text/plain": [
       "((10000, 250), (10000, 1))"
      ]
     },
     "execution_count": 33,
     "metadata": {},
     "output_type": "execute_result"
    }
   ],
   "source": [
    "X_data.shape, y_data.shape"
   ]
  },
  {
   "cell_type": "code",
   "execution_count": 34,
   "id": "edb48866",
   "metadata": {
    "execution": {
     "iopub.execute_input": "2023-03-10T20:15:03.279992Z",
     "iopub.status.busy": "2023-03-10T20:15:03.278951Z",
     "iopub.status.idle": "2023-03-10T20:15:03.292855Z",
     "shell.execute_reply": "2023-03-10T20:15:03.291719Z"
    },
    "papermill": {
     "duration": 0.028775,
     "end_time": "2023-03-10T20:15:03.295875",
     "exception": false,
     "start_time": "2023-03-10T20:15:03.267100",
     "status": "completed"
    },
    "tags": []
   },
   "outputs": [],
   "source": [
    "#split dataset for training and testing\n",
    "X_train, X_test, y_train, y_test = train_test_split(X_data, y_data, test_size=0.3)"
   ]
  },
  {
   "cell_type": "code",
   "execution_count": 35,
   "id": "f7676339",
   "metadata": {
    "execution": {
     "iopub.execute_input": "2023-03-10T20:15:03.318632Z",
     "iopub.status.busy": "2023-03-10T20:15:03.318196Z",
     "iopub.status.idle": "2023-03-10T20:15:03.325392Z",
     "shell.execute_reply": "2023-03-10T20:15:03.324210Z"
    },
    "papermill": {
     "duration": 0.021971,
     "end_time": "2023-03-10T20:15:03.328058",
     "exception": false,
     "start_time": "2023-03-10T20:15:03.306087",
     "status": "completed"
    },
    "tags": []
   },
   "outputs": [],
   "source": [
    "#make y train array like categorical [000000100000]\n",
    "y_train = to_categorical(y_train, num_classes=27)\n",
    "y_test = to_categorical(y_test, num_classes=27)"
   ]
  },
  {
   "cell_type": "code",
   "execution_count": 36,
   "id": "f78ec5b1",
   "metadata": {
    "execution": {
     "iopub.execute_input": "2023-03-10T20:15:03.352391Z",
     "iopub.status.busy": "2023-03-10T20:15:03.351246Z",
     "iopub.status.idle": "2023-03-10T20:15:03.358716Z",
     "shell.execute_reply": "2023-03-10T20:15:03.356986Z"
    },
    "papermill": {
     "duration": 0.021739,
     "end_time": "2023-03-10T20:15:03.361093",
     "exception": false,
     "start_time": "2023-03-10T20:15:03.339354",
     "status": "completed"
    },
    "tags": []
   },
   "outputs": [
    {
     "name": "stdout",
     "output_type": "stream",
     "text": [
      "training: (7000, 250) - (7000, 27)\n",
      "testing: (3000, 250) - (3000, 27)\n"
     ]
    }
   ],
   "source": [
    "#shape of train and test data\n",
    "print(f'training: {X_train.shape} - {y_train.shape}')\n",
    "print(f'testing: {X_test.shape} - {y_test.shape}')"
   ]
  },
  {
   "cell_type": "markdown",
   "id": "85b78a66",
   "metadata": {
    "papermill": {
     "duration": 0.010487,
     "end_time": "2023-03-10T20:15:03.383432",
     "exception": false,
     "start_time": "2023-03-10T20:15:03.372945",
     "status": "completed"
    },
    "tags": []
   },
   "source": [
    "# Model"
   ]
  },
  {
   "cell_type": "code",
   "execution_count": 37,
   "id": "7fdd5cbd",
   "metadata": {
    "execution": {
     "iopub.execute_input": "2023-03-10T20:15:03.407908Z",
     "iopub.status.busy": "2023-03-10T20:15:03.406653Z",
     "iopub.status.idle": "2023-03-10T20:15:08.059100Z",
     "shell.execute_reply": "2023-03-10T20:15:08.057977Z"
    },
    "papermill": {
     "duration": 4.677571,
     "end_time": "2023-03-10T20:15:08.071977",
     "exception": false,
     "start_time": "2023-03-10T20:15:03.394406",
     "status": "completed"
    },
    "tags": []
   },
   "outputs": [
    {
     "name": "stdout",
     "output_type": "stream",
     "text": [
      "Model: \"sequential\"\n",
      "_________________________________________________________________\n",
      " Layer (type)                Output Shape              Param #   \n",
      "=================================================================\n",
      " embedding (Embedding)       (None, 250, 200)          2000000   \n",
      "                                                                 \n",
      " lstm (LSTM)                 (None, 250, 512)          1460224   \n",
      "                                                                 \n",
      " spatial_dropout1d (SpatialD  (None, 250, 512)         0         \n",
      " ropout1D)                                                       \n",
      "                                                                 \n",
      " lstm_1 (LSTM)               (None, 100)               245200    \n",
      "                                                                 \n",
      " dense (Dense)               (None, 27)                2727      \n",
      "                                                                 \n",
      "=================================================================\n",
      "Total params: 3,708,151\n",
      "Trainable params: 3,708,151\n",
      "Non-trainable params: 0\n",
      "_________________________________________________________________\n"
     ]
    }
   ],
   "source": [
    "#embed vector that represents each token by 40 featured vector\n",
    "embed_vect = 200\n",
    "model = Sequential()\n",
    "model.add(Embedding(voc_size, embed_vect, input_length=sent_length))\n",
    "model.add(LSTM(512, return_sequences=True, input_shape=(250,1)))\n",
    "#model.add(LSTM(512, return_sequences=True))\n",
    "model.add(SpatialDropout1D(0.2))\n",
    "model.add(LSTM(100, dropout=0.1, recurrent_dropout=0.2))\n",
    "model.add(Dense(27, activation='softmax'))\n",
    "model.compile(loss='categorical_crossentropy', optimizer='adam', metrics=['accuracy'])\n",
    "model.summary()\n",
    "\n"
   ]
  },
  {
   "cell_type": "code",
   "execution_count": 38,
   "id": "83706dc5",
   "metadata": {
    "execution": {
     "iopub.execute_input": "2023-03-10T20:15:08.099156Z",
     "iopub.status.busy": "2023-03-10T20:15:08.098327Z",
     "iopub.status.idle": "2023-03-10T21:53:35.394555Z",
     "shell.execute_reply": "2023-03-10T21:53:35.393435Z"
    },
    "papermill": {
     "duration": 5907.312065,
     "end_time": "2023-03-10T21:53:35.397003",
     "exception": false,
     "start_time": "2023-03-10T20:15:08.084938",
     "status": "completed"
    },
    "tags": []
   },
   "outputs": [
    {
     "name": "stdout",
     "output_type": "stream",
     "text": [
      "Epoch 1/10\n",
      "438/438 [==============================] - 628s 1s/step - loss: 2.1536 - accuracy: 0.2400 - val_loss: 2.1189 - val_accuracy: 0.2570\n",
      "Epoch 2/10\n",
      "438/438 [==============================] - 600s 1s/step - loss: 2.1124 - accuracy: 0.2634 - val_loss: 2.1129 - val_accuracy: 0.2820\n",
      "Epoch 3/10\n",
      "438/438 [==============================] - 612s 1s/step - loss: 1.9414 - accuracy: 0.3807 - val_loss: 1.9624 - val_accuracy: 0.3777\n",
      "Epoch 4/10\n",
      "438/438 [==============================] - 593s 1s/step - loss: 1.6103 - accuracy: 0.4991 - val_loss: 2.0643 - val_accuracy: 0.3713\n",
      "Epoch 5/10\n",
      "438/438 [==============================] - 574s 1s/step - loss: 1.3458 - accuracy: 0.5944 - val_loss: 2.1721 - val_accuracy: 0.3617\n",
      "Epoch 6/10\n",
      "438/438 [==============================] - 576s 1s/step - loss: 1.1136 - accuracy: 0.6621 - val_loss: 2.4527 - val_accuracy: 0.3163\n",
      "Epoch 7/10\n",
      "438/438 [==============================] - 577s 1s/step - loss: 0.9220 - accuracy: 0.7263 - val_loss: 2.6580 - val_accuracy: 0.3050\n",
      "Epoch 8/10\n",
      "438/438 [==============================] - 572s 1s/step - loss: 0.7448 - accuracy: 0.7779 - val_loss: 2.9065 - val_accuracy: 0.3027\n",
      "Epoch 9/10\n",
      "438/438 [==============================] - 574s 1s/step - loss: 0.5695 - accuracy: 0.8319 - val_loss: 3.0887 - val_accuracy: 0.3113\n",
      "Epoch 10/10\n",
      "438/438 [==============================] - 577s 1s/step - loss: 0.4490 - accuracy: 0.8683 - val_loss: 3.4059 - val_accuracy: 0.3317\n"
     ]
    },
    {
     "data": {
      "text/plain": [
       "<keras.callbacks.History at 0x7f153c288d90>"
      ]
     },
     "execution_count": 38,
     "metadata": {},
     "output_type": "execute_result"
    }
   ],
   "source": [
    "model.fit(X_train, y_train, validation_data=(X_test, y_test), epochs=10, batch_size=16)"
   ]
  },
  {
   "cell_type": "code",
   "execution_count": 39,
   "id": "f251140d",
   "metadata": {
    "execution": {
     "iopub.execute_input": "2023-03-10T21:53:35.923814Z",
     "iopub.status.busy": "2023-03-10T21:53:35.923377Z",
     "iopub.status.idle": "2023-03-10T21:53:44.408654Z",
     "shell.execute_reply": "2023-03-10T21:53:44.407563Z"
    },
    "papermill": {
     "duration": 8.751146,
     "end_time": "2023-03-10T21:53:44.411088",
     "exception": false,
     "start_time": "2023-03-10T21:53:35.659942",
     "status": "completed"
    },
    "tags": []
   },
   "outputs": [
    {
     "name": "stdout",
     "output_type": "stream",
     "text": [
      "94/94 [==============================] - 8s 89ms/step - loss: 3.4059 - accuracy: 0.3317\n"
     ]
    },
    {
     "data": {
      "text/plain": [
       "[3.4058990478515625, 0.3316666781902313]"
      ]
     },
     "execution_count": 39,
     "metadata": {},
     "output_type": "execute_result"
    }
   ],
   "source": [
    "model.evaluate(X_test, y_test)"
   ]
  },
  {
   "cell_type": "code",
   "execution_count": null,
   "id": "4b612091",
   "metadata": {
    "papermill": {
     "duration": 0.270203,
     "end_time": "2023-03-10T21:53:44.950517",
     "exception": false,
     "start_time": "2023-03-10T21:53:44.680314",
     "status": "completed"
    },
    "tags": []
   },
   "outputs": [],
   "source": []
  }
 ],
 "metadata": {
  "kernelspec": {
   "display_name": "Python 3",
   "language": "python",
   "name": "python3"
  },
  "language_info": {
   "codemirror_mode": {
    "name": "ipython",
    "version": 3
   },
   "file_extension": ".py",
   "mimetype": "text/x-python",
   "name": "python",
   "nbconvert_exporter": "python",
   "pygments_lexer": "ipython3",
   "version": "3.7.12"
  },
  "papermill": {
   "default_parameters": {},
   "duration": 6110.902645,
   "end_time": "2023-03-10T21:53:48.479963",
   "environment_variables": {},
   "exception": null,
   "input_path": "__notebook__.ipynb",
   "output_path": "__notebook__.ipynb",
   "parameters": {},
   "start_time": "2023-03-10T20:11:57.577318",
   "version": "2.4.0"
  }
 },
 "nbformat": 4,
 "nbformat_minor": 5
}
