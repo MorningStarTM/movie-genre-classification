{
 "cells": [
  {
   "cell_type": "code",
   "execution_count": 1,
   "id": "c5a728b3",
   "metadata": {
    "execution": {
     "iopub.execute_input": "2023-03-09T22:05:08.593094Z",
     "iopub.status.busy": "2023-03-09T22:05:08.592051Z",
     "iopub.status.idle": "2023-03-09T22:05:25.333613Z",
     "shell.execute_reply": "2023-03-09T22:05:25.332477Z"
    },
    "papermill": {
     "duration": 16.755134,
     "end_time": "2023-03-09T22:05:25.336639",
     "exception": false,
     "start_time": "2023-03-09T22:05:08.581505",
     "status": "completed"
    },
    "tags": []
   },
   "outputs": [],
   "source": [
    "import pandas as pd\n",
    "import numpy as np\n",
    "import re\n",
    "import nltk\n",
    "import tensorflow as tf\n",
    "from keras.utils import to_categorical\n",
    "from nltk.corpus import stopwords\n",
    "from nltk.stem import PorterStemmer, WordNetLemmatizer\n",
    "from nltk.corpus import wordnet\n",
    "from tensorflow.keras.layers import Dense, LSTM, ReLU, Flatten, Embedding, SpatialDropout1D\n",
    "from tensorflow.keras.preprocessing.sequence import pad_sequences\n",
    "from tensorflow.keras.preprocessing.text import one_hot\n",
    "from tensorflow.keras.models import Sequential\n",
    "from sklearn.model_selection import train_test_split\n",
    "from sklearn.metrics import confusion_matrix"
   ]
  },
  {
   "cell_type": "code",
   "execution_count": 2,
   "id": "fc848eb7",
   "metadata": {
    "execution": {
     "iopub.execute_input": "2023-03-09T22:05:25.352231Z",
     "iopub.status.busy": "2023-03-09T22:05:25.351612Z",
     "iopub.status.idle": "2023-03-09T22:05:25.890864Z",
     "shell.execute_reply": "2023-03-09T22:05:25.888142Z"
    },
    "papermill": {
     "duration": 0.549645,
     "end_time": "2023-03-09T22:05:25.893519",
     "exception": false,
     "start_time": "2023-03-09T22:05:25.343874",
     "status": "completed"
    },
    "tags": []
   },
   "outputs": [
    {
     "name": "stdout",
     "output_type": "stream",
     "text": [
      "[nltk_data] Downloading package stopwords to /usr/share/nltk_data...\n",
      "[nltk_data]   Package stopwords is already up-to-date!\n",
      "[nltk_data] Downloading package punkt to /usr/share/nltk_data...\n",
      "[nltk_data]   Package punkt is already up-to-date!\n"
     ]
    },
    {
     "data": {
      "text/plain": [
       "True"
      ]
     },
     "execution_count": 2,
     "metadata": {},
     "output_type": "execute_result"
    }
   ],
   "source": [
    "nltk.download('stopwords')\n",
    "nltk.download('punkt')"
   ]
  },
  {
   "cell_type": "code",
   "execution_count": 3,
   "id": "36670b49",
   "metadata": {
    "execution": {
     "iopub.execute_input": "2023-03-09T22:05:25.909119Z",
     "iopub.status.busy": "2023-03-09T22:05:25.908418Z",
     "iopub.status.idle": "2023-03-09T22:05:26.496531Z",
     "shell.execute_reply": "2023-03-09T22:05:26.495457Z"
    },
    "papermill": {
     "duration": 0.598793,
     "end_time": "2023-03-09T22:05:26.499425",
     "exception": false,
     "start_time": "2023-03-09T22:05:25.900632",
     "status": "completed"
    },
    "tags": []
   },
   "outputs": [],
   "source": [
    "#reading data\n",
    "file = open(\"/kaggle/input/genre-classification-dataset-imdb/Genre Classification Dataset/train_data.txt\", encoding='utf-8', errors='ignore').read().split('\\n')"
   ]
  },
  {
   "cell_type": "code",
   "execution_count": 4,
   "id": "7bae9e19",
   "metadata": {
    "execution": {
     "iopub.execute_input": "2023-03-09T22:05:26.516955Z",
     "iopub.status.busy": "2023-03-09T22:05:26.515333Z",
     "iopub.status.idle": "2023-03-09T22:05:26.524240Z",
     "shell.execute_reply": "2023-03-09T22:05:26.523101Z"
    },
    "papermill": {
     "duration": 0.01917,
     "end_time": "2023-03-09T22:05:26.526337",
     "exception": false,
     "start_time": "2023-03-09T22:05:26.507167",
     "status": "completed"
    },
    "tags": []
   },
   "outputs": [
    {
     "data": {
      "text/plain": [
       "54215"
      ]
     },
     "execution_count": 4,
     "metadata": {},
     "output_type": "execute_result"
    }
   ],
   "source": [
    "#size of data\n",
    "len(file)"
   ]
  },
  {
   "cell_type": "markdown",
   "id": "153a91b8",
   "metadata": {
    "papermill": {
     "duration": 0.006582,
     "end_time": "2023-03-09T22:05:26.540276",
     "exception": false,
     "start_time": "2023-03-09T22:05:26.533694",
     "status": "completed"
    },
    "tags": []
   },
   "source": [
    "# Data Preprocessing"
   ]
  },
  {
   "cell_type": "code",
   "execution_count": 5,
   "id": "684e7534",
   "metadata": {
    "execution": {
     "iopub.execute_input": "2023-03-09T22:05:26.555248Z",
     "iopub.status.busy": "2023-03-09T22:05:26.554888Z",
     "iopub.status.idle": "2023-03-09T22:05:26.560610Z",
     "shell.execute_reply": "2023-03-09T22:05:26.559704Z"
    },
    "papermill": {
     "duration": 0.015583,
     "end_time": "2023-03-09T22:05:26.562774",
     "exception": false,
     "start_time": "2023-03-09T22:05:26.547191",
     "status": "completed"
    },
    "tags": []
   },
   "outputs": [],
   "source": [
    "#initialize the stemmer and lemmentizer\n",
    "stemmer = PorterStemmer()\n",
    "lemmatizer = WordNetLemmatizer()"
   ]
  },
  {
   "cell_type": "code",
   "execution_count": 6,
   "id": "2f684050",
   "metadata": {
    "execution": {
     "iopub.execute_input": "2023-03-09T22:05:26.578123Z",
     "iopub.status.busy": "2023-03-09T22:05:26.577430Z",
     "iopub.status.idle": "2023-03-09T22:05:26.583773Z",
     "shell.execute_reply": "2023-03-09T22:05:26.582841Z"
    },
    "papermill": {
     "duration": 0.016418,
     "end_time": "2023-03-09T22:05:26.585988",
     "exception": false,
     "start_time": "2023-03-09T22:05:26.569570",
     "status": "completed"
    },
    "tags": []
   },
   "outputs": [],
   "source": [
    "def split_data(texts):\n",
    "    genre = []\n",
    "    desc = []\n",
    "    for text in texts:\n",
    "        splited = text.split(\":::\")\n",
    "        genre.append(splited[-2])\n",
    "        desc.append(splited[-1])\n",
    "    return genre, desc"
   ]
  },
  {
   "cell_type": "code",
   "execution_count": 7,
   "id": "db97932c",
   "metadata": {
    "execution": {
     "iopub.execute_input": "2023-03-09T22:05:26.601221Z",
     "iopub.status.busy": "2023-03-09T22:05:26.600950Z",
     "iopub.status.idle": "2023-03-09T22:05:26.607028Z",
     "shell.execute_reply": "2023-03-09T22:05:26.606021Z"
    },
    "papermill": {
     "duration": 0.016089,
     "end_time": "2023-03-09T22:05:26.609162",
     "exception": false,
     "start_time": "2023-03-09T22:05:26.593073",
     "status": "completed"
    },
    "tags": []
   },
   "outputs": [],
   "source": [
    "#filtering the text\n",
    "def full_form(text):\n",
    "    text = text.lower()\n",
    "    plain = re.sub(r'[-<>?\\.,!\"(\\)\\/[\\]]', ' ', text)\n",
    "    plain = plain.replace(\"don't\", \"do not\")\n",
    "    plain = plain.replace(\"won't\", \"will not\")\n",
    "    plain = plain.replace(\"haven't\", \"have not\")\n",
    "    plain = plain.replace(\"can't\", \"cannot\")\n",
    "    plain = plain.replace(\"she's\", \"she is\")\n",
    "    plain = plain.replace(\"he's\", \"he is\")\n",
    "    plain = plain.replace(\"there're\", \"there are\")\n",
    "    plain = plain.replace(\"they'd\", \"they would\")\n",
    "    plain = plain.replace(\"\\'ll\", \" will\")\n",
    "    return plain   "
   ]
  },
  {
   "cell_type": "code",
   "execution_count": 8,
   "id": "942fb16b",
   "metadata": {
    "execution": {
     "iopub.execute_input": "2023-03-09T22:05:26.624307Z",
     "iopub.status.busy": "2023-03-09T22:05:26.623467Z",
     "iopub.status.idle": "2023-03-09T22:05:26.629947Z",
     "shell.execute_reply": "2023-03-09T22:05:26.628966Z"
    },
    "papermill": {
     "duration": 0.016272,
     "end_time": "2023-03-09T22:05:26.632000",
     "exception": false,
     "start_time": "2023-03-09T22:05:26.615728",
     "status": "completed"
    },
    "tags": []
   },
   "outputs": [],
   "source": [
    "#preprocessing  text \n",
    "def remove_stop_words(data):\n",
    "  corpus = []\n",
    "  for i in range(0, len(data)):\n",
    "    #split the sentence\n",
    "    plain = full_form(data[i])\n",
    "    sentence = plain.split()\n",
    "    \n",
    "    #check and stem the word\n",
    "    review_processed = [stemmer.stem(word) for word in sentence if not word in stopwords.words('english')]\n",
    "    #rebuild the sentence\n",
    "    review_joint = ' '.join(review_processed)\n",
    "    #add the sentence into list\n",
    "    corpus.append(review_joint)\n",
    "  return corpus"
   ]
  },
  {
   "cell_type": "code",
   "execution_count": 9,
   "id": "5e2bed23",
   "metadata": {
    "execution": {
     "iopub.execute_input": "2023-03-09T22:05:26.647072Z",
     "iopub.status.busy": "2023-03-09T22:05:26.646281Z",
     "iopub.status.idle": "2023-03-09T22:05:26.657193Z",
     "shell.execute_reply": "2023-03-09T22:05:26.656281Z"
    },
    "papermill": {
     "duration": 0.020622,
     "end_time": "2023-03-09T22:05:26.659305",
     "exception": false,
     "start_time": "2023-03-09T22:05:26.638683",
     "status": "completed"
    },
    "tags": []
   },
   "outputs": [],
   "source": [
    "genre, desc = split_data(file[0:5000])"
   ]
  },
  {
   "cell_type": "code",
   "execution_count": 10,
   "id": "6b1302a1",
   "metadata": {
    "execution": {
     "iopub.execute_input": "2023-03-09T22:05:26.675106Z",
     "iopub.status.busy": "2023-03-09T22:05:26.674306Z",
     "iopub.status.idle": "2023-03-09T22:06:43.922676Z",
     "shell.execute_reply": "2023-03-09T22:06:43.921583Z"
    },
    "papermill": {
     "duration": 77.259088,
     "end_time": "2023-03-09T22:06:43.925599",
     "exception": false,
     "start_time": "2023-03-09T22:05:26.666511",
     "status": "completed"
    },
    "tags": []
   },
   "outputs": [],
   "source": [
    "processed_desc = remove_stop_words(desc)"
   ]
  },
  {
   "cell_type": "code",
   "execution_count": 11,
   "id": "e82c3923",
   "metadata": {
    "execution": {
     "iopub.execute_input": "2023-03-09T22:06:43.942700Z",
     "iopub.status.busy": "2023-03-09T22:06:43.942334Z",
     "iopub.status.idle": "2023-03-09T22:06:43.951741Z",
     "shell.execute_reply": "2023-03-09T22:06:43.950661Z"
    },
    "papermill": {
     "duration": 0.020132,
     "end_time": "2023-03-09T22:06:43.954000",
     "exception": false,
     "start_time": "2023-03-09T22:06:43.933868",
     "status": "completed"
    },
    "tags": []
   },
   "outputs": [
    {
     "data": {
      "text/plain": [
       "[54,\n",
       " 15,\n",
       " 56,\n",
       " 109,\n",
       " 58,\n",
       " 170,\n",
       " 33,\n",
       " 31,\n",
       " 42,\n",
       " 43,\n",
       " 37,\n",
       " 18,\n",
       " 73,\n",
       " 29,\n",
       " 47,\n",
       " 26,\n",
       " 33,\n",
       " 48,\n",
       " 206,\n",
       " 28,\n",
       " 35,\n",
       " 19,\n",
       " 88,\n",
       " 46,\n",
       " 28,\n",
       " 30,\n",
       " 56,\n",
       " 28,\n",
       " 34,\n",
       " 74,\n",
       " 43,\n",
       " 63,\n",
       " 65,\n",
       " 18,\n",
       " 57,\n",
       " 41,\n",
       " 63,\n",
       " 41,\n",
       " 24,\n",
       " 57]"
      ]
     },
     "execution_count": 11,
     "metadata": {},
     "output_type": "execute_result"
    }
   ],
   "source": [
    "#sample length for getting overall idea for max length of sentence\n",
    "length = [len(processed_desc[i].split()) for i in range(40)]\n",
    "length"
   ]
  },
  {
   "cell_type": "code",
   "execution_count": 12,
   "id": "f23b8d5f",
   "metadata": {
    "execution": {
     "iopub.execute_input": "2023-03-09T22:06:43.970218Z",
     "iopub.status.busy": "2023-03-09T22:06:43.969943Z",
     "iopub.status.idle": "2023-03-09T22:06:43.975612Z",
     "shell.execute_reply": "2023-03-09T22:06:43.974691Z"
    },
    "papermill": {
     "duration": 0.016492,
     "end_time": "2023-03-09T22:06:43.977808",
     "exception": false,
     "start_time": "2023-03-09T22:06:43.961316",
     "status": "completed"
    },
    "tags": []
   },
   "outputs": [],
   "source": [
    "#filtering the genre\n",
    "def filter_text(text):\n",
    "    text = text.lower()\n",
    "    plain = re.sub(r'[-<>?\\.,!\"(\\)\\/[\\]]', '', text)\n",
    "    return plain"
   ]
  },
  {
   "cell_type": "code",
   "execution_count": 13,
   "id": "6d8a2605",
   "metadata": {
    "execution": {
     "iopub.execute_input": "2023-03-09T22:06:43.993807Z",
     "iopub.status.busy": "2023-03-09T22:06:43.992973Z",
     "iopub.status.idle": "2023-03-09T22:06:44.004983Z",
     "shell.execute_reply": "2023-03-09T22:06:44.003985Z"
    },
    "papermill": {
     "duration": 0.02212,
     "end_time": "2023-03-09T22:06:44.007157",
     "exception": false,
     "start_time": "2023-03-09T22:06:43.985037",
     "status": "completed"
    },
    "tags": []
   },
   "outputs": [],
   "source": [
    "filtered_genre = []\n",
    "for gnre in genre:\n",
    "    filtered_genre.append(filter_text(gnre))"
   ]
  },
  {
   "cell_type": "code",
   "execution_count": 14,
   "id": "4e86bcc4",
   "metadata": {
    "execution": {
     "iopub.execute_input": "2023-03-09T22:06:44.023877Z",
     "iopub.status.busy": "2023-03-09T22:06:44.023082Z",
     "iopub.status.idle": "2023-03-09T22:06:44.029791Z",
     "shell.execute_reply": "2023-03-09T22:06:44.028707Z"
    },
    "papermill": {
     "duration": 0.017623,
     "end_time": "2023-03-09T22:06:44.032158",
     "exception": false,
     "start_time": "2023-03-09T22:06:44.014535",
     "status": "completed"
    },
    "tags": []
   },
   "outputs": [
    {
     "data": {
      "text/plain": [
       "(5000, 5000)"
      ]
     },
     "execution_count": 14,
     "metadata": {},
     "output_type": "execute_result"
    }
   ],
   "source": [
    "len(filtered_genre), len(genre)"
   ]
  },
  {
   "cell_type": "markdown",
   "id": "498aa928",
   "metadata": {
    "papermill": {
     "duration": 0.007256,
     "end_time": "2023-03-09T22:06:44.046771",
     "exception": false,
     "start_time": "2023-03-09T22:06:44.039515",
     "status": "completed"
    },
    "tags": []
   },
   "source": [
    "# Vectorization"
   ]
  },
  {
   "cell_type": "code",
   "execution_count": 15,
   "id": "2e5d4a6d",
   "metadata": {
    "execution": {
     "iopub.execute_input": "2023-03-09T22:06:44.062631Z",
     "iopub.status.busy": "2023-03-09T22:06:44.062321Z",
     "iopub.status.idle": "2023-03-09T22:06:44.066213Z",
     "shell.execute_reply": "2023-03-09T22:06:44.065137Z"
    },
    "papermill": {
     "duration": 0.014516,
     "end_time": "2023-03-09T22:06:44.068512",
     "exception": false,
     "start_time": "2023-03-09T22:06:44.053996",
     "status": "completed"
    },
    "tags": []
   },
   "outputs": [],
   "source": [
    "#vocabulary size\n",
    "voc_size = 10000"
   ]
  },
  {
   "cell_type": "code",
   "execution_count": 16,
   "id": "1c370afa",
   "metadata": {
    "execution": {
     "iopub.execute_input": "2023-03-09T22:06:44.084703Z",
     "iopub.status.busy": "2023-03-09T22:06:44.084361Z",
     "iopub.status.idle": "2023-03-09T22:06:44.267431Z",
     "shell.execute_reply": "2023-03-09T22:06:44.266474Z"
    },
    "papermill": {
     "duration": 0.193952,
     "end_time": "2023-03-09T22:06:44.269863",
     "exception": false,
     "start_time": "2023-03-09T22:06:44.075911",
     "status": "completed"
    },
    "tags": []
   },
   "outputs": [],
   "source": [
    "#convert into one hot vector\n",
    "onehot_text = [one_hot(word, voc_size) for word in processed_desc]"
   ]
  },
  {
   "cell_type": "code",
   "execution_count": 17,
   "id": "a3dd87a9",
   "metadata": {
    "execution": {
     "iopub.execute_input": "2023-03-09T22:06:44.286023Z",
     "iopub.status.busy": "2023-03-09T22:06:44.285752Z",
     "iopub.status.idle": "2023-03-09T22:06:44.292943Z",
     "shell.execute_reply": "2023-03-09T22:06:44.291946Z"
    },
    "papermill": {
     "duration": 0.017698,
     "end_time": "2023-03-09T22:06:44.295111",
     "exception": false,
     "start_time": "2023-03-09T22:06:44.277413",
     "status": "completed"
    },
    "tags": []
   },
   "outputs": [
    {
     "data": {
      "text/plain": [
       "27"
      ]
     },
     "execution_count": 17,
     "metadata": {},
     "output_type": "execute_result"
    }
   ],
   "source": [
    "#unique genre count\n",
    "unique_count_genre = len(set(genre))\n",
    "unique_count_genre"
   ]
  },
  {
   "cell_type": "code",
   "execution_count": 18,
   "id": "0c155489",
   "metadata": {
    "execution": {
     "iopub.execute_input": "2023-03-09T22:06:44.310731Z",
     "iopub.status.busy": "2023-03-09T22:06:44.310435Z",
     "iopub.status.idle": "2023-03-09T22:06:44.359455Z",
     "shell.execute_reply": "2023-03-09T22:06:44.358569Z"
    },
    "papermill": {
     "duration": 0.059771,
     "end_time": "2023-03-09T22:06:44.362058",
     "exception": false,
     "start_time": "2023-03-09T22:06:44.302287",
     "status": "completed"
    },
    "tags": []
   },
   "outputs": [],
   "source": [
    "#y train data\n",
    "onehot_genre = [one_hot(char,27) for char in filtered_genre]"
   ]
  },
  {
   "cell_type": "code",
   "execution_count": 19,
   "id": "107cb267",
   "metadata": {
    "execution": {
     "iopub.execute_input": "2023-03-09T22:06:44.378050Z",
     "iopub.status.busy": "2023-03-09T22:06:44.377779Z",
     "iopub.status.idle": "2023-03-09T22:06:44.383440Z",
     "shell.execute_reply": "2023-03-09T22:06:44.382252Z"
    },
    "papermill": {
     "duration": 0.018261,
     "end_time": "2023-03-09T22:06:44.387850",
     "exception": false,
     "start_time": "2023-03-09T22:06:44.369589",
     "status": "completed"
    },
    "tags": []
   },
   "outputs": [
    {
     "name": "stdout",
     "output_type": "stream",
     "text": [
      "0 - [6] -->  drama \n",
      "1 - [19] -->  thriller \n",
      "2 - [8] -->  adult \n",
      "3 - [6] -->  drama \n",
      "4 - [6] -->  drama \n",
      "5 - [18] -->  documentary \n",
      "6 - [6] -->  comedy \n",
      "7 - [5] -->  crime \n",
      "8 - [1] -->  realitytv \n",
      "9 - [23] -->  horror \n",
      "10 - [18] -->  documentary \n",
      "11 - [6] -->  drama \n",
      "12 - [18] -->  documentary \n",
      "13 - [19] -->  thriller \n",
      "14 - [6] -->  drama \n",
      "15 - [6] -->  drama \n",
      "16 - [6] -->  comedy \n",
      "17 - [18] -->  documentary \n",
      "18 - [25] -->  sport \n",
      "19 - [13] -->  animation \n",
      "20 - [6] -->  drama \n",
      "21 - [6] -->  comedy \n",
      "22 - [6] -->  comedy \n",
      "23 - [6] -->  drama \n",
      "24 - [12] -->  action \n",
      "25 - [16] -->  fantasy \n",
      "26 - [22] -->  short \n",
      "27 - [11] -->  scifi \n",
      "28 - [19] -->  thriller \n",
      "29 - [18] -->  documentary \n",
      "30 - [23] -->  horror \n",
      "31 - [18] -->  documentary \n",
      "32 - [12] -->  action \n",
      "33 - [18] -->  documentary \n",
      "34 - [17] -->  music \n",
      "35 - [6] -->  comedy \n",
      "36 - [6] -->  drama \n",
      "37 - [6] -->  drama \n",
      "38 - [6] -->  comedy \n",
      "39 - [6] -->  comedy \n"
     ]
    }
   ],
   "source": [
    "for i in range(40):\n",
    "    print(f'{i} - {onehot_genre[i]} --> {filtered_genre[i]}')"
   ]
  },
  {
   "cell_type": "markdown",
   "id": "64393f4c",
   "metadata": {
    "papermill": {
     "duration": 0.00737,
     "end_time": "2023-03-09T22:06:44.402722",
     "exception": false,
     "start_time": "2023-03-09T22:06:44.395352",
     "status": "completed"
    },
    "tags": []
   },
   "source": [
    "# Embedding"
   ]
  },
  {
   "cell_type": "code",
   "execution_count": 20,
   "id": "bea26d1c",
   "metadata": {
    "execution": {
     "iopub.execute_input": "2023-03-09T22:06:44.419133Z",
     "iopub.status.busy": "2023-03-09T22:06:44.418168Z",
     "iopub.status.idle": "2023-03-09T22:06:44.423172Z",
     "shell.execute_reply": "2023-03-09T22:06:44.422179Z"
    },
    "papermill": {
     "duration": 0.015342,
     "end_time": "2023-03-09T22:06:44.425255",
     "exception": false,
     "start_time": "2023-03-09T22:06:44.409913",
     "status": "completed"
    },
    "tags": []
   },
   "outputs": [],
   "source": [
    "#sentence length\n",
    "sent_length = 250"
   ]
  },
  {
   "cell_type": "code",
   "execution_count": 21,
   "id": "b69d0464",
   "metadata": {
    "execution": {
     "iopub.execute_input": "2023-03-09T22:06:44.444246Z",
     "iopub.status.busy": "2023-03-09T22:06:44.443339Z",
     "iopub.status.idle": "2023-03-09T22:06:44.475780Z",
     "shell.execute_reply": "2023-03-09T22:06:44.474829Z"
    },
    "papermill": {
     "duration": 0.044555,
     "end_time": "2023-03-09T22:06:44.477842",
     "exception": false,
     "start_time": "2023-03-09T22:06:44.433287",
     "status": "completed"
    },
    "tags": []
   },
   "outputs": [],
   "source": [
    "#embedding\n",
    "embedd_docs = pad_sequences(onehot_text, padding='post', maxlen=sent_length)"
   ]
  },
  {
   "cell_type": "code",
   "execution_count": 22,
   "id": "010dda66",
   "metadata": {
    "execution": {
     "iopub.execute_input": "2023-03-09T22:06:44.494032Z",
     "iopub.status.busy": "2023-03-09T22:06:44.493231Z",
     "iopub.status.idle": "2023-03-09T22:06:44.499972Z",
     "shell.execute_reply": "2023-03-09T22:06:44.498900Z"
    },
    "papermill": {
     "duration": 0.016987,
     "end_time": "2023-03-09T22:06:44.502244",
     "exception": false,
     "start_time": "2023-03-09T22:06:44.485257",
     "status": "completed"
    },
    "tags": []
   },
   "outputs": [
    {
     "data": {
      "text/plain": [
       "250"
      ]
     },
     "execution_count": 22,
     "metadata": {},
     "output_type": "execute_result"
    }
   ],
   "source": [
    "embedd_docs.shape[1]"
   ]
  },
  {
   "cell_type": "code",
   "execution_count": 23,
   "id": "4ee6cf6f",
   "metadata": {
    "execution": {
     "iopub.execute_input": "2023-03-09T22:06:44.519003Z",
     "iopub.status.busy": "2023-03-09T22:06:44.518152Z",
     "iopub.status.idle": "2023-03-09T22:06:44.525013Z",
     "shell.execute_reply": "2023-03-09T22:06:44.523830Z"
    },
    "papermill": {
     "duration": 0.017284,
     "end_time": "2023-03-09T22:06:44.527090",
     "exception": false,
     "start_time": "2023-03-09T22:06:44.509806",
     "status": "completed"
    },
    "tags": []
   },
   "outputs": [
    {
     "data": {
      "text/plain": [
       "(5000, 5000)"
      ]
     },
     "execution_count": 23,
     "metadata": {},
     "output_type": "execute_result"
    }
   ],
   "source": [
    "#shape of data\n",
    "len(embedd_docs), len(onehot_genre)"
   ]
  },
  {
   "cell_type": "code",
   "execution_count": 24,
   "id": "78ce5a15",
   "metadata": {
    "execution": {
     "iopub.execute_input": "2023-03-09T22:06:44.544002Z",
     "iopub.status.busy": "2023-03-09T22:06:44.543273Z",
     "iopub.status.idle": "2023-03-09T22:06:44.552510Z",
     "shell.execute_reply": "2023-03-09T22:06:44.551597Z"
    },
    "papermill": {
     "duration": 0.019931,
     "end_time": "2023-03-09T22:06:44.554560",
     "exception": false,
     "start_time": "2023-03-09T22:06:44.534629",
     "status": "completed"
    },
    "tags": []
   },
   "outputs": [],
   "source": [
    "#convert into numpy array\n",
    "X_data = np.array(embedd_docs)\n",
    "y_data = np.array(onehot_genre)"
   ]
  },
  {
   "cell_type": "code",
   "execution_count": 25,
   "id": "27322285",
   "metadata": {
    "execution": {
     "iopub.execute_input": "2023-03-09T22:06:44.571263Z",
     "iopub.status.busy": "2023-03-09T22:06:44.571002Z",
     "iopub.status.idle": "2023-03-09T22:06:44.577873Z",
     "shell.execute_reply": "2023-03-09T22:06:44.576937Z"
    },
    "papermill": {
     "duration": 0.018239,
     "end_time": "2023-03-09T22:06:44.579966",
     "exception": false,
     "start_time": "2023-03-09T22:06:44.561727",
     "status": "completed"
    },
    "tags": []
   },
   "outputs": [
    {
     "data": {
      "text/plain": [
       "((5000, 250), (5000, 1))"
      ]
     },
     "execution_count": 25,
     "metadata": {},
     "output_type": "execute_result"
    }
   ],
   "source": [
    "X_data.shape, y_data.shape"
   ]
  },
  {
   "cell_type": "code",
   "execution_count": 26,
   "id": "0245e4b2",
   "metadata": {
    "execution": {
     "iopub.execute_input": "2023-03-09T22:06:44.596757Z",
     "iopub.status.busy": "2023-03-09T22:06:44.595869Z",
     "iopub.status.idle": "2023-03-09T22:06:44.609779Z",
     "shell.execute_reply": "2023-03-09T22:06:44.608911Z"
    },
    "papermill": {
     "duration": 0.024391,
     "end_time": "2023-03-09T22:06:44.611846",
     "exception": false,
     "start_time": "2023-03-09T22:06:44.587455",
     "status": "completed"
    },
    "tags": []
   },
   "outputs": [],
   "source": [
    "#split dataset for training and testing\n",
    "X_train, X_test, y_train, y_test = train_test_split(X_data, y_data, test_size=0.3, random_state=42)"
   ]
  },
  {
   "cell_type": "code",
   "execution_count": 27,
   "id": "337dcd12",
   "metadata": {
    "execution": {
     "iopub.execute_input": "2023-03-09T22:06:44.628012Z",
     "iopub.status.busy": "2023-03-09T22:06:44.627755Z",
     "iopub.status.idle": "2023-03-09T22:06:44.632959Z",
     "shell.execute_reply": "2023-03-09T22:06:44.632004Z"
    },
    "papermill": {
     "duration": 0.015868,
     "end_time": "2023-03-09T22:06:44.635272",
     "exception": false,
     "start_time": "2023-03-09T22:06:44.619404",
     "status": "completed"
    },
    "tags": []
   },
   "outputs": [],
   "source": [
    "#make y train array like categorical [000000100000]\n",
    "y_train = to_categorical(y_train, num_classes=27)\n",
    "y_test = to_categorical(y_test, num_classes=27)"
   ]
  },
  {
   "cell_type": "code",
   "execution_count": 28,
   "id": "be1b5820",
   "metadata": {
    "execution": {
     "iopub.execute_input": "2023-03-09T22:06:44.651701Z",
     "iopub.status.busy": "2023-03-09T22:06:44.650940Z",
     "iopub.status.idle": "2023-03-09T22:06:44.656937Z",
     "shell.execute_reply": "2023-03-09T22:06:44.655617Z"
    },
    "papermill": {
     "duration": 0.016369,
     "end_time": "2023-03-09T22:06:44.659114",
     "exception": false,
     "start_time": "2023-03-09T22:06:44.642745",
     "status": "completed"
    },
    "tags": []
   },
   "outputs": [
    {
     "name": "stdout",
     "output_type": "stream",
     "text": [
      "training: (3500, 250) - (3500, 27)\n",
      "testing: (1500, 250) - (1500, 27)\n"
     ]
    }
   ],
   "source": [
    "#shape of train and test data\n",
    "print(f'training: {X_train.shape} - {y_train.shape}')\n",
    "print(f'testing: {X_test.shape} - {y_test.shape}')"
   ]
  },
  {
   "cell_type": "markdown",
   "id": "aff52373",
   "metadata": {
    "papermill": {
     "duration": 0.007249,
     "end_time": "2023-03-09T22:06:44.673958",
     "exception": false,
     "start_time": "2023-03-09T22:06:44.666709",
     "status": "completed"
    },
    "tags": []
   },
   "source": [
    "# Model"
   ]
  },
  {
   "cell_type": "code",
   "execution_count": 29,
   "id": "629214be",
   "metadata": {
    "execution": {
     "iopub.execute_input": "2023-03-09T22:06:44.690808Z",
     "iopub.status.busy": "2023-03-09T22:06:44.690036Z",
     "iopub.status.idle": "2023-03-09T22:06:50.706274Z",
     "shell.execute_reply": "2023-03-09T22:06:50.705509Z"
    },
    "papermill": {
     "duration": 6.05021,
     "end_time": "2023-03-09T22:06:50.731491",
     "exception": false,
     "start_time": "2023-03-09T22:06:44.681281",
     "status": "completed"
    },
    "tags": []
   },
   "outputs": [
    {
     "name": "stdout",
     "output_type": "stream",
     "text": [
      "Model: \"sequential\"\n",
      "_________________________________________________________________\n",
      " Layer (type)                Output Shape              Param #   \n",
      "=================================================================\n",
      " lstm (LSTM)                 (None, 250, 512)          1052672   \n",
      "                                                                 \n",
      " spatial_dropout1d (SpatialD  (None, 250, 512)         0         \n",
      " ropout1D)                                                       \n",
      "                                                                 \n",
      " lstm_1 (LSTM)               (None, 100)               245200    \n",
      "                                                                 \n",
      " dense (Dense)               (None, 27)                2727      \n",
      "                                                                 \n",
      "=================================================================\n",
      "Total params: 1,300,599\n",
      "Trainable params: 1,300,599\n",
      "Non-trainable params: 0\n",
      "_________________________________________________________________\n"
     ]
    }
   ],
   "source": [
    "#embed vector that represents each token by 40 featured vector\n",
    "embed_vect = 50\n",
    "model = Sequential()\n",
    "model.add(LSTM(512, return_sequences=True, input_shape=(250,1)))\n",
    "#model.add(LSTM(512, return_sequences=True))\n",
    "model.add(SpatialDropout1D(0.2))\n",
    "model.add(LSTM(100, dropout=0.1, recurrent_dropout=0.2))\n",
    "model.add(Dense(27, activation='softmax'))\n",
    "model.compile(loss='categorical_crossentropy', optimizer='adam', metrics=['accuracy'])\n",
    "model.summary()"
   ]
  },
  {
   "cell_type": "code",
   "execution_count": 30,
   "id": "060f8dff",
   "metadata": {
    "execution": {
     "iopub.execute_input": "2023-03-09T22:06:50.761328Z",
     "iopub.status.busy": "2023-03-09T22:06:50.760940Z",
     "iopub.status.idle": "2023-03-09T22:51:39.212206Z",
     "shell.execute_reply": "2023-03-09T22:51:39.211196Z"
    },
    "papermill": {
     "duration": 2688.46802,
     "end_time": "2023-03-09T22:51:39.214901",
     "exception": false,
     "start_time": "2023-03-09T22:06:50.746881",
     "status": "completed"
    },
    "tags": []
   },
   "outputs": [
    {
     "name": "stdout",
     "output_type": "stream",
     "text": [
      "Epoch 1/10\n",
      "219/219 [==============================] - 281s 1s/step - loss: 2.0712 - accuracy: 0.3823 - val_loss: 2.0116 - val_accuracy: 0.3873\n",
      "Epoch 2/10\n",
      "219/219 [==============================] - 271s 1s/step - loss: 2.0112 - accuracy: 0.3911 - val_loss: 2.0137 - val_accuracy: 0.3873\n",
      "Epoch 3/10\n",
      "219/219 [==============================] - 269s 1s/step - loss: 2.0059 - accuracy: 0.3920 - val_loss: 2.0103 - val_accuracy: 0.3873\n",
      "Epoch 4/10\n",
      "219/219 [==============================] - 268s 1s/step - loss: 2.0053 - accuracy: 0.3911 - val_loss: 2.0143 - val_accuracy: 0.3873\n",
      "Epoch 5/10\n",
      "219/219 [==============================] - 265s 1s/step - loss: 2.0018 - accuracy: 0.3917 - val_loss: 2.0134 - val_accuracy: 0.3873\n",
      "Epoch 6/10\n",
      "219/219 [==============================] - 263s 1s/step - loss: 2.0021 - accuracy: 0.3923 - val_loss: 2.0065 - val_accuracy: 0.3873\n",
      "Epoch 7/10\n",
      "219/219 [==============================] - 269s 1s/step - loss: 2.0026 - accuracy: 0.3920 - val_loss: 2.0073 - val_accuracy: 0.3873\n",
      "Epoch 8/10\n",
      "219/219 [==============================] - 267s 1s/step - loss: 2.0014 - accuracy: 0.3920 - val_loss: 2.0111 - val_accuracy: 0.3873\n",
      "Epoch 9/10\n",
      "219/219 [==============================] - 270s 1s/step - loss: 2.0023 - accuracy: 0.3920 - val_loss: 2.0051 - val_accuracy: 0.3873\n",
      "Epoch 10/10\n",
      "219/219 [==============================] - 265s 1s/step - loss: 2.0021 - accuracy: 0.3920 - val_loss: 2.0070 - val_accuracy: 0.3873\n"
     ]
    },
    {
     "data": {
      "text/plain": [
       "<keras.callbacks.History at 0x7f04f41dc210>"
      ]
     },
     "execution_count": 30,
     "metadata": {},
     "output_type": "execute_result"
    }
   ],
   "source": [
    "model.fit(X_train, y_train, validation_data=(X_test, y_test), epochs=10, batch_size=16)"
   ]
  },
  {
   "cell_type": "code",
   "execution_count": null,
   "id": "f312da6f",
   "metadata": {
    "papermill": {
     "duration": 0.121266,
     "end_time": "2023-03-09T22:51:39.460067",
     "exception": false,
     "start_time": "2023-03-09T22:51:39.338801",
     "status": "completed"
    },
    "tags": []
   },
   "outputs": [],
   "source": []
  }
 ],
 "metadata": {
  "kernelspec": {
   "display_name": "Python 3",
   "language": "python",
   "name": "python3"
  },
  "language_info": {
   "codemirror_mode": {
    "name": "ipython",
    "version": 3
   },
   "file_extension": ".py",
   "mimetype": "text/x-python",
   "name": "python",
   "nbconvert_exporter": "python",
   "pygments_lexer": "ipython3",
   "version": "3.7.12"
  },
  "papermill": {
   "default_parameters": {},
   "duration": 2807.135812,
   "end_time": "2023-03-09T22:51:42.902130",
   "environment_variables": {},
   "exception": null,
   "input_path": "__notebook__.ipynb",
   "output_path": "__notebook__.ipynb",
   "parameters": {},
   "start_time": "2023-03-09T22:04:55.766318",
   "version": "2.4.0"
  }
 },
 "nbformat": 4,
 "nbformat_minor": 5
}
