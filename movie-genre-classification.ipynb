{
 "cells": [
  {
   "cell_type": "code",
   "execution_count": 1,
   "id": "26bd19fe",
   "metadata": {
    "execution": {
     "iopub.execute_input": "2023-03-11T11:47:13.118681Z",
     "iopub.status.busy": "2023-03-11T11:47:13.117826Z",
     "iopub.status.idle": "2023-03-11T11:47:29.117110Z",
     "shell.execute_reply": "2023-03-11T11:47:29.115975Z"
    },
    "papermill": {
     "duration": 16.012434,
     "end_time": "2023-03-11T11:47:29.119861",
     "exception": false,
     "start_time": "2023-03-11T11:47:13.107427",
     "status": "completed"
    },
    "tags": []
   },
   "outputs": [],
   "source": [
    "import pandas as pd\n",
    "import numpy as np\n",
    "import re\n",
    "import nltk\n",
    "import tensorflow as tf\n",
    "from keras.utils import to_categorical\n",
    "from nltk.corpus import stopwords\n",
    "from nltk.stem import PorterStemmer, WordNetLemmatizer\n",
    "from nltk.corpus import wordnet\n",
    "from tensorflow.keras.preprocessing.text import Tokenizer\n",
    "from tensorflow.keras.layers import Dense, LSTM, ReLU, Flatten, Embedding, SpatialDropout1D\n",
    "from tensorflow.keras.regularizers import l2\n",
    "from tensorflow.keras.preprocessing.sequence import pad_sequences\n",
    "from tensorflow.keras.preprocessing.text import one_hot\n",
    "from tensorflow.keras.models import Sequential\n",
    "from sklearn.model_selection import train_test_split\n",
    "from sklearn.metrics import confusion_matrix"
   ]
  },
  {
   "cell_type": "code",
   "execution_count": 2,
   "id": "6c8892b3",
   "metadata": {
    "execution": {
     "iopub.execute_input": "2023-03-11T11:47:29.137919Z",
     "iopub.status.busy": "2023-03-11T11:47:29.136397Z",
     "iopub.status.idle": "2023-03-11T11:47:29.398093Z",
     "shell.execute_reply": "2023-03-11T11:47:29.396857Z"
    },
    "papermill": {
     "duration": 0.273356,
     "end_time": "2023-03-11T11:47:29.401208",
     "exception": false,
     "start_time": "2023-03-11T11:47:29.127852",
     "status": "completed"
    },
    "tags": []
   },
   "outputs": [
    {
     "name": "stdout",
     "output_type": "stream",
     "text": [
      "[nltk_data] Downloading package stopwords to /usr/share/nltk_data...\n",
      "[nltk_data]   Package stopwords is already up-to-date!\n",
      "[nltk_data] Downloading package punkt to /usr/share/nltk_data...\n",
      "[nltk_data]   Package punkt is already up-to-date!\n"
     ]
    },
    {
     "data": {
      "text/plain": [
       "True"
      ]
     },
     "execution_count": 2,
     "metadata": {},
     "output_type": "execute_result"
    }
   ],
   "source": [
    "nltk.download('stopwords')\n",
    "nltk.download('punkt')"
   ]
  },
  {
   "cell_type": "code",
   "execution_count": 3,
   "id": "80d3bc1c",
   "metadata": {
    "execution": {
     "iopub.execute_input": "2023-03-11T11:47:29.418181Z",
     "iopub.status.busy": "2023-03-11T11:47:29.417427Z",
     "iopub.status.idle": "2023-03-11T11:47:30.376027Z",
     "shell.execute_reply": "2023-03-11T11:47:30.374867Z"
    },
    "papermill": {
     "duration": 0.969515,
     "end_time": "2023-03-11T11:47:30.378605",
     "exception": false,
     "start_time": "2023-03-11T11:47:29.409090",
     "status": "completed"
    },
    "tags": []
   },
   "outputs": [],
   "source": [
    "#reading data\n",
    "file = open(\"/kaggle/input/genre-classification-dataset-imdb/Genre Classification Dataset/train_data.txt\", encoding='utf-8', errors='ignore').read().split('\\n')"
   ]
  },
  {
   "cell_type": "code",
   "execution_count": 4,
   "id": "76a75ca2",
   "metadata": {
    "execution": {
     "iopub.execute_input": "2023-03-11T11:47:30.395621Z",
     "iopub.status.busy": "2023-03-11T11:47:30.395279Z",
     "iopub.status.idle": "2023-03-11T11:47:30.401627Z",
     "shell.execute_reply": "2023-03-11T11:47:30.400451Z"
    },
    "papermill": {
     "duration": 0.017389,
     "end_time": "2023-03-11T11:47:30.404113",
     "exception": false,
     "start_time": "2023-03-11T11:47:30.386724",
     "status": "completed"
    },
    "tags": []
   },
   "outputs": [
    {
     "data": {
      "text/plain": [
       "54215"
      ]
     },
     "execution_count": 4,
     "metadata": {},
     "output_type": "execute_result"
    }
   ],
   "source": [
    "#size of data\n",
    "len(file)"
   ]
  },
  {
   "cell_type": "code",
   "execution_count": 5,
   "id": "8f951e6d",
   "metadata": {
    "execution": {
     "iopub.execute_input": "2023-03-11T11:47:30.420676Z",
     "iopub.status.busy": "2023-03-11T11:47:30.420389Z",
     "iopub.status.idle": "2023-03-11T11:47:30.426819Z",
     "shell.execute_reply": "2023-03-11T11:47:30.425852Z"
    },
    "papermill": {
     "duration": 0.016867,
     "end_time": "2023-03-11T11:47:30.428845",
     "exception": false,
     "start_time": "2023-03-11T11:47:30.411978",
     "status": "completed"
    },
    "tags": []
   },
   "outputs": [
    {
     "data": {
      "text/plain": [
       "4"
      ]
     },
     "execution_count": 5,
     "metadata": {},
     "output_type": "execute_result"
    }
   ],
   "source": [
    "len(file[0].split(':::'))"
   ]
  },
  {
   "cell_type": "markdown",
   "id": "1d849c7e",
   "metadata": {
    "papermill": {
     "duration": 0.007715,
     "end_time": "2023-03-11T11:47:30.444154",
     "exception": false,
     "start_time": "2023-03-11T11:47:30.436439",
     "status": "completed"
    },
    "tags": []
   },
   "source": [
    "# Creating Dataset"
   ]
  },
  {
   "cell_type": "code",
   "execution_count": 6,
   "id": "adae2401",
   "metadata": {
    "execution": {
     "iopub.execute_input": "2023-03-11T11:47:30.461066Z",
     "iopub.status.busy": "2023-03-11T11:47:30.460798Z",
     "iopub.status.idle": "2023-03-11T11:47:30.471080Z",
     "shell.execute_reply": "2023-03-11T11:47:30.470174Z"
    },
    "papermill": {
     "duration": 0.021186,
     "end_time": "2023-03-11T11:47:30.473095",
     "exception": false,
     "start_time": "2023-03-11T11:47:30.451909",
     "status": "completed"
    },
    "tags": []
   },
   "outputs": [],
   "source": [
    "df = pd.DataFrame()"
   ]
  },
  {
   "cell_type": "code",
   "execution_count": 7,
   "id": "b7275c40",
   "metadata": {
    "execution": {
     "iopub.execute_input": "2023-03-11T11:47:30.489756Z",
     "iopub.status.busy": "2023-03-11T11:47:30.489150Z",
     "iopub.status.idle": "2023-03-11T11:47:30.495026Z",
     "shell.execute_reply": "2023-03-11T11:47:30.494064Z"
    },
    "papermill": {
     "duration": 0.016591,
     "end_time": "2023-03-11T11:47:30.497217",
     "exception": false,
     "start_time": "2023-03-11T11:47:30.480626",
     "status": "completed"
    },
    "tags": []
   },
   "outputs": [],
   "source": [
    "def split_data(texts):\n",
    "    genre = []\n",
    "    desc = []\n",
    "    for text in texts:\n",
    "        if len(text.split(':::')) == 4:\n",
    "            splited = text.split(\":::\")\n",
    "            genre.append(splited[-2])\n",
    "            desc.append(splited[-1])\n",
    "    return genre, desc"
   ]
  },
  {
   "cell_type": "code",
   "execution_count": 8,
   "id": "1fe4a680",
   "metadata": {
    "execution": {
     "iopub.execute_input": "2023-03-11T11:47:30.513793Z",
     "iopub.status.busy": "2023-03-11T11:47:30.513153Z",
     "iopub.status.idle": "2023-03-11T11:47:30.617894Z",
     "shell.execute_reply": "2023-03-11T11:47:30.616897Z"
    },
    "papermill": {
     "duration": 0.115635,
     "end_time": "2023-03-11T11:47:30.620514",
     "exception": false,
     "start_time": "2023-03-11T11:47:30.504879",
     "status": "completed"
    },
    "tags": []
   },
   "outputs": [],
   "source": [
    "genre, desc = split_data(file)"
   ]
  },
  {
   "cell_type": "code",
   "execution_count": 9,
   "id": "69ba993c",
   "metadata": {
    "execution": {
     "iopub.execute_input": "2023-03-11T11:47:30.638085Z",
     "iopub.status.busy": "2023-03-11T11:47:30.637790Z",
     "iopub.status.idle": "2023-03-11T11:47:30.644288Z",
     "shell.execute_reply": "2023-03-11T11:47:30.643209Z"
    },
    "papermill": {
     "duration": 0.018457,
     "end_time": "2023-03-11T11:47:30.647654",
     "exception": false,
     "start_time": "2023-03-11T11:47:30.629197",
     "status": "completed"
    },
    "tags": []
   },
   "outputs": [
    {
     "data": {
      "text/plain": [
       "(54214, 54214)"
      ]
     },
     "execution_count": 9,
     "metadata": {},
     "output_type": "execute_result"
    }
   ],
   "source": [
    "#size of data\n",
    "len(genre), len(desc)"
   ]
  },
  {
   "cell_type": "code",
   "execution_count": 10,
   "id": "cc9259b0",
   "metadata": {
    "execution": {
     "iopub.execute_input": "2023-03-11T11:47:30.664020Z",
     "iopub.status.busy": "2023-03-11T11:47:30.663740Z",
     "iopub.status.idle": "2023-03-11T11:47:30.702511Z",
     "shell.execute_reply": "2023-03-11T11:47:30.701448Z"
    },
    "papermill": {
     "duration": 0.049542,
     "end_time": "2023-03-11T11:47:30.704756",
     "exception": false,
     "start_time": "2023-03-11T11:47:30.655214",
     "status": "completed"
    },
    "tags": []
   },
   "outputs": [],
   "source": [
    "#creating dataframe for data\n",
    "df['genre'] = genre\n",
    "df['desc'] = desc"
   ]
  },
  {
   "cell_type": "code",
   "execution_count": 11,
   "id": "3880a4af",
   "metadata": {
    "execution": {
     "iopub.execute_input": "2023-03-11T11:47:30.722040Z",
     "iopub.status.busy": "2023-03-11T11:47:30.721709Z",
     "iopub.status.idle": "2023-03-11T11:47:30.735511Z",
     "shell.execute_reply": "2023-03-11T11:47:30.734414Z"
    },
    "papermill": {
     "duration": 0.025083,
     "end_time": "2023-03-11T11:47:30.737649",
     "exception": false,
     "start_time": "2023-03-11T11:47:30.712566",
     "status": "completed"
    },
    "tags": []
   },
   "outputs": [
    {
     "data": {
      "text/html": [
       "<div>\n",
       "<style scoped>\n",
       "    .dataframe tbody tr th:only-of-type {\n",
       "        vertical-align: middle;\n",
       "    }\n",
       "\n",
       "    .dataframe tbody tr th {\n",
       "        vertical-align: top;\n",
       "    }\n",
       "\n",
       "    .dataframe thead th {\n",
       "        text-align: right;\n",
       "    }\n",
       "</style>\n",
       "<table border=\"1\" class=\"dataframe\">\n",
       "  <thead>\n",
       "    <tr style=\"text-align: right;\">\n",
       "      <th></th>\n",
       "      <th>genre</th>\n",
       "      <th>desc</th>\n",
       "    </tr>\n",
       "  </thead>\n",
       "  <tbody>\n",
       "    <tr>\n",
       "      <th>0</th>\n",
       "      <td>drama</td>\n",
       "      <td>Listening in to a conversation between his do...</td>\n",
       "    </tr>\n",
       "    <tr>\n",
       "      <th>1</th>\n",
       "      <td>thriller</td>\n",
       "      <td>A brother and sister with a past incestuous r...</td>\n",
       "    </tr>\n",
       "    <tr>\n",
       "      <th>2</th>\n",
       "      <td>adult</td>\n",
       "      <td>As the bus empties the students for their fie...</td>\n",
       "    </tr>\n",
       "    <tr>\n",
       "      <th>3</th>\n",
       "      <td>drama</td>\n",
       "      <td>To help their unemployed father make ends mee...</td>\n",
       "    </tr>\n",
       "    <tr>\n",
       "      <th>4</th>\n",
       "      <td>drama</td>\n",
       "      <td>The film's title refers not only to the un-re...</td>\n",
       "    </tr>\n",
       "  </tbody>\n",
       "</table>\n",
       "</div>"
      ],
      "text/plain": [
       "        genre                                               desc\n",
       "0      drama    Listening in to a conversation between his do...\n",
       "1   thriller    A brother and sister with a past incestuous r...\n",
       "2      adult    As the bus empties the students for their fie...\n",
       "3      drama    To help their unemployed father make ends mee...\n",
       "4      drama    The film's title refers not only to the un-re..."
      ]
     },
     "execution_count": 11,
     "metadata": {},
     "output_type": "execute_result"
    }
   ],
   "source": [
    "df.head()"
   ]
  },
  {
   "cell_type": "code",
   "execution_count": 12,
   "id": "86d272cc",
   "metadata": {
    "execution": {
     "iopub.execute_input": "2023-03-11T11:47:30.756182Z",
     "iopub.status.busy": "2023-03-11T11:47:30.755362Z",
     "iopub.status.idle": "2023-03-11T11:47:30.761924Z",
     "shell.execute_reply": "2023-03-11T11:47:30.760768Z"
    },
    "papermill": {
     "duration": 0.017976,
     "end_time": "2023-03-11T11:47:30.763980",
     "exception": false,
     "start_time": "2023-03-11T11:47:30.746004",
     "status": "completed"
    },
    "tags": []
   },
   "outputs": [
    {
     "data": {
      "text/plain": [
       "' Listening in to a conversation between his doctor and parents, 10-year-old Oscar learns what nobody has the courage to tell him. He only has a few weeks to live. Furious, he refuses to speak to anyone except straight-talking Rose, the lady in pink he meets on the hospital stairs. As Christmas approaches, Rose uses her fantastical experiences as a professional wrestler, her imagination, wit and charm to allow Oscar to live life and love to the full, in the company of his friends Pop Corn, Einstein, Bacon and childhood sweetheart Peggy Blue.'"
      ]
     },
     "execution_count": 12,
     "metadata": {},
     "output_type": "execute_result"
    }
   ],
   "source": [
    "df['desc'][0]"
   ]
  },
  {
   "cell_type": "markdown",
   "id": "de192092",
   "metadata": {
    "papermill": {
     "duration": 0.007804,
     "end_time": "2023-03-11T11:47:30.779997",
     "exception": false,
     "start_time": "2023-03-11T11:47:30.772193",
     "status": "completed"
    },
    "tags": []
   },
   "source": [
    "# Data Preprocessing"
   ]
  },
  {
   "cell_type": "code",
   "execution_count": 13,
   "id": "26caf8f1",
   "metadata": {
    "execution": {
     "iopub.execute_input": "2023-03-11T11:47:30.797297Z",
     "iopub.status.busy": "2023-03-11T11:47:30.796633Z",
     "iopub.status.idle": "2023-03-11T11:47:30.800864Z",
     "shell.execute_reply": "2023-03-11T11:47:30.799894Z"
    },
    "papermill": {
     "duration": 0.015079,
     "end_time": "2023-03-11T11:47:30.803187",
     "exception": false,
     "start_time": "2023-03-11T11:47:30.788108",
     "status": "completed"
    },
    "tags": []
   },
   "outputs": [],
   "source": [
    "#initialize the stemmer and lemmentizer\n",
    "stemmer = PorterStemmer()\n",
    "lemmatizer = WordNetLemmatizer()"
   ]
  },
  {
   "cell_type": "code",
   "execution_count": 14,
   "id": "78a45677",
   "metadata": {
    "execution": {
     "iopub.execute_input": "2023-03-11T11:47:30.820245Z",
     "iopub.status.busy": "2023-03-11T11:47:30.819550Z",
     "iopub.status.idle": "2023-03-11T11:47:30.825972Z",
     "shell.execute_reply": "2023-03-11T11:47:30.824954Z"
    },
    "papermill": {
     "duration": 0.017126,
     "end_time": "2023-03-11T11:47:30.828071",
     "exception": false,
     "start_time": "2023-03-11T11:47:30.810945",
     "status": "completed"
    },
    "tags": []
   },
   "outputs": [],
   "source": [
    "#filtering the text\n",
    "def full_form(text):\n",
    "    text = text.lower()\n",
    "    plain = re.sub(r'[-<>?\\.,!\"(\\)\\/[\\]]', ' ', text)\n",
    "    plain = plain.replace(\"don't\", \"do not\")\n",
    "    plain = plain.replace(\"won't\", \"will not\")\n",
    "    plain = plain.replace(\"haven't\", \"have not\")\n",
    "    plain = plain.replace(\"can't\", \"cannot\")\n",
    "    plain = plain.replace(\"she's\", \"she is\")\n",
    "    plain = plain.replace(\"he's\", \"he is\")\n",
    "    plain = plain.replace(\"there're\", \"there are\")\n",
    "    plain = plain.replace(\"they'd\", \"they would\")\n",
    "    plain = plain.replace(\"\\'ll\", \" will\")\n",
    "    return plain   "
   ]
  },
  {
   "cell_type": "code",
   "execution_count": 15,
   "id": "5c92e017",
   "metadata": {
    "execution": {
     "iopub.execute_input": "2023-03-11T11:47:30.845320Z",
     "iopub.status.busy": "2023-03-11T11:47:30.844449Z",
     "iopub.status.idle": "2023-03-11T11:47:30.850723Z",
     "shell.execute_reply": "2023-03-11T11:47:30.849829Z"
    },
    "papermill": {
     "duration": 0.017187,
     "end_time": "2023-03-11T11:47:30.852978",
     "exception": false,
     "start_time": "2023-03-11T11:47:30.835791",
     "status": "completed"
    },
    "tags": []
   },
   "outputs": [],
   "source": [
    "#preprocessing  text \n",
    "def remove_stop_words(data):\n",
    "  corpus = []\n",
    "  for i in range(0, len(data)):\n",
    "    #split the sentence\n",
    "    plain = full_form(data[i])\n",
    "    sentence = plain.split()\n",
    "    \n",
    "    #check and stem the word\n",
    "    review_processed = [stemmer.stem(word) for word in sentence if not word in stopwords.words('english')]\n",
    "    #rebuild the sentence\n",
    "    review_joint = ' '.join(review_processed)\n",
    "    #add the sentence into list\n",
    "    corpus.append(review_joint)\n",
    "  return corpus"
   ]
  },
  {
   "cell_type": "code",
   "execution_count": 16,
   "id": "f1bd0200",
   "metadata": {
    "execution": {
     "iopub.execute_input": "2023-03-11T11:47:30.870283Z",
     "iopub.status.busy": "2023-03-11T11:47:30.869427Z",
     "iopub.status.idle": "2023-03-11T12:00:46.156419Z",
     "shell.execute_reply": "2023-03-11T12:00:46.155181Z"
    },
    "papermill": {
     "duration": 795.299174,
     "end_time": "2023-03-11T12:00:46.159915",
     "exception": false,
     "start_time": "2023-03-11T11:47:30.860741",
     "status": "completed"
    },
    "tags": []
   },
   "outputs": [],
   "source": [
    "processed_desc = remove_stop_words(df['desc'])"
   ]
  },
  {
   "cell_type": "code",
   "execution_count": 17,
   "id": "739d790a",
   "metadata": {
    "execution": {
     "iopub.execute_input": "2023-03-11T12:00:46.186548Z",
     "iopub.status.busy": "2023-03-11T12:00:46.186096Z",
     "iopub.status.idle": "2023-03-11T12:00:46.197036Z",
     "shell.execute_reply": "2023-03-11T12:00:46.196197Z"
    },
    "papermill": {
     "duration": 0.026694,
     "end_time": "2023-03-11T12:00:46.199675",
     "exception": false,
     "start_time": "2023-03-11T12:00:46.172981",
     "status": "completed"
    },
    "tags": []
   },
   "outputs": [
    {
     "data": {
      "text/plain": [
       "[54,\n",
       " 15,\n",
       " 56,\n",
       " 109,\n",
       " 58,\n",
       " 170,\n",
       " 33,\n",
       " 31,\n",
       " 42,\n",
       " 43,\n",
       " 37,\n",
       " 18,\n",
       " 73,\n",
       " 29,\n",
       " 47,\n",
       " 26,\n",
       " 33,\n",
       " 48,\n",
       " 206,\n",
       " 28,\n",
       " 35,\n",
       " 19,\n",
       " 88,\n",
       " 46,\n",
       " 28,\n",
       " 30,\n",
       " 56,\n",
       " 28,\n",
       " 34,\n",
       " 74,\n",
       " 43,\n",
       " 63,\n",
       " 65,\n",
       " 18,\n",
       " 57,\n",
       " 41,\n",
       " 63,\n",
       " 41,\n",
       " 24,\n",
       " 57]"
      ]
     },
     "execution_count": 17,
     "metadata": {},
     "output_type": "execute_result"
    }
   ],
   "source": [
    "#sample length for getting overall idea for max length of sentence\n",
    "length = [len(processed_desc[i].split()) for i in range(40)]\n",
    "length"
   ]
  },
  {
   "cell_type": "code",
   "execution_count": 18,
   "id": "4ba0e855",
   "metadata": {
    "execution": {
     "iopub.execute_input": "2023-03-11T12:00:46.224582Z",
     "iopub.status.busy": "2023-03-11T12:00:46.224257Z",
     "iopub.status.idle": "2023-03-11T12:00:46.228890Z",
     "shell.execute_reply": "2023-03-11T12:00:46.228018Z"
    },
    "papermill": {
     "duration": 0.021551,
     "end_time": "2023-03-11T12:00:46.232898",
     "exception": false,
     "start_time": "2023-03-11T12:00:46.211347",
     "status": "completed"
    },
    "tags": []
   },
   "outputs": [],
   "source": [
    "#filtering the genre\n",
    "def filter_text(text):\n",
    "    text = text.lower()\n",
    "    plain = re.sub(r'[-<>?\\.,@#$%&*!\"(\\)\\/[\\]]', '', text)\n",
    "    return plain"
   ]
  },
  {
   "cell_type": "code",
   "execution_count": 19,
   "id": "8d2bdb76",
   "metadata": {
    "execution": {
     "iopub.execute_input": "2023-03-11T12:00:46.257467Z",
     "iopub.status.busy": "2023-03-11T12:00:46.257171Z",
     "iopub.status.idle": "2023-03-11T12:00:46.393292Z",
     "shell.execute_reply": "2023-03-11T12:00:46.392451Z"
    },
    "papermill": {
     "duration": 0.151339,
     "end_time": "2023-03-11T12:00:46.395914",
     "exception": false,
     "start_time": "2023-03-11T12:00:46.244575",
     "status": "completed"
    },
    "tags": []
   },
   "outputs": [],
   "source": [
    "filtered_genre = []\n",
    "for gnre in df['genre']:\n",
    "    filtered_genre.append(filter_text(gnre))"
   ]
  },
  {
   "cell_type": "code",
   "execution_count": 20,
   "id": "dcc292b6",
   "metadata": {
    "execution": {
     "iopub.execute_input": "2023-03-11T12:00:46.420787Z",
     "iopub.status.busy": "2023-03-11T12:00:46.420460Z",
     "iopub.status.idle": "2023-03-11T12:00:46.426322Z",
     "shell.execute_reply": "2023-03-11T12:00:46.425510Z"
    },
    "papermill": {
     "duration": 0.023649,
     "end_time": "2023-03-11T12:00:46.431662",
     "exception": false,
     "start_time": "2023-03-11T12:00:46.408013",
     "status": "completed"
    },
    "tags": []
   },
   "outputs": [
    {
     "data": {
      "text/plain": [
       "(54214, 54214)"
      ]
     },
     "execution_count": 20,
     "metadata": {},
     "output_type": "execute_result"
    }
   ],
   "source": [
    "len(filtered_genre), len(genre)"
   ]
  },
  {
   "cell_type": "code",
   "execution_count": 21,
   "id": "6e28f4ac",
   "metadata": {
    "execution": {
     "iopub.execute_input": "2023-03-11T12:00:46.456664Z",
     "iopub.status.busy": "2023-03-11T12:00:46.456339Z",
     "iopub.status.idle": "2023-03-11T12:00:46.477786Z",
     "shell.execute_reply": "2023-03-11T12:00:46.476953Z"
    },
    "papermill": {
     "duration": 0.037013,
     "end_time": "2023-03-11T12:00:46.480520",
     "exception": false,
     "start_time": "2023-03-11T12:00:46.443507",
     "status": "completed"
    },
    "tags": []
   },
   "outputs": [],
   "source": [
    "df['preprocessed_desc'] = processed_desc\n",
    "df['preprocessed_genre'] = filtered_genre"
   ]
  },
  {
   "cell_type": "code",
   "execution_count": 22,
   "id": "067f5eb4",
   "metadata": {
    "execution": {
     "iopub.execute_input": "2023-03-11T12:00:46.505414Z",
     "iopub.status.busy": "2023-03-11T12:00:46.503897Z",
     "iopub.status.idle": "2023-03-11T12:00:46.510739Z",
     "shell.execute_reply": "2023-03-11T12:00:46.509655Z"
    },
    "papermill": {
     "duration": 0.017959,
     "end_time": "2023-03-11T12:00:46.512768",
     "exception": false,
     "start_time": "2023-03-11T12:00:46.494809",
     "status": "completed"
    },
    "tags": []
   },
   "outputs": [
    {
     "data": {
      "text/plain": [
       "(54214, 4)"
      ]
     },
     "execution_count": 22,
     "metadata": {},
     "output_type": "execute_result"
    }
   ],
   "source": [
    "df.shape"
   ]
  },
  {
   "cell_type": "markdown",
   "id": "a095337f",
   "metadata": {
    "papermill": {
     "duration": 0.007843,
     "end_time": "2023-03-11T12:00:46.528566",
     "exception": false,
     "start_time": "2023-03-11T12:00:46.520723",
     "status": "completed"
    },
    "tags": []
   },
   "source": [
    "# Embedding"
   ]
  },
  {
   "cell_type": "code",
   "execution_count": 23,
   "id": "8dcd2620",
   "metadata": {
    "execution": {
     "iopub.execute_input": "2023-03-11T12:00:46.546798Z",
     "iopub.status.busy": "2023-03-11T12:00:46.545743Z",
     "iopub.status.idle": "2023-03-11T12:00:46.551409Z",
     "shell.execute_reply": "2023-03-11T12:00:46.550523Z"
    },
    "papermill": {
     "duration": 0.016979,
     "end_time": "2023-03-11T12:00:46.553695",
     "exception": false,
     "start_time": "2023-03-11T12:00:46.536716",
     "status": "completed"
    },
    "tags": []
   },
   "outputs": [],
   "source": [
    "#sentence length\n",
    "sent_length = 250\n",
    "#vocabulary size\n",
    "voc_size = 10000"
   ]
  },
  {
   "cell_type": "code",
   "execution_count": 24,
   "id": "00d102ac",
   "metadata": {
    "execution": {
     "iopub.execute_input": "2023-03-11T12:00:46.571924Z",
     "iopub.status.busy": "2023-03-11T12:00:46.571560Z",
     "iopub.status.idle": "2023-03-11T12:00:51.257782Z",
     "shell.execute_reply": "2023-03-11T12:00:51.255707Z"
    },
    "papermill": {
     "duration": 4.699074,
     "end_time": "2023-03-11T12:00:51.261194",
     "exception": false,
     "start_time": "2023-03-11T12:00:46.562120",
     "status": "completed"
    },
    "tags": []
   },
   "outputs": [
    {
     "name": "stdout",
     "output_type": "stream",
     "text": [
      "Found 138537 unique tokens.\n"
     ]
    }
   ],
   "source": [
    "#tokenize\n",
    "tokenizer = Tokenizer(num_words=voc_size, filters='!\"#$%&()*+,-./:;<=>?@[\\]^_`{|}~', lower=True)\n",
    "tokenizer.fit_on_texts(df['desc'].values)\n",
    "word_index = tokenizer.word_index\n",
    "print('Found %s unique tokens.' % len(word_index))"
   ]
  },
  {
   "cell_type": "code",
   "execution_count": 25,
   "id": "ef2c5bdf",
   "metadata": {
    "execution": {
     "iopub.execute_input": "2023-03-11T12:00:51.284673Z",
     "iopub.status.busy": "2023-03-11T12:00:51.284280Z",
     "iopub.status.idle": "2023-03-11T12:00:54.980935Z",
     "shell.execute_reply": "2023-03-11T12:00:54.978649Z"
    },
    "papermill": {
     "duration": 3.709797,
     "end_time": "2023-03-11T12:00:54.983485",
     "exception": false,
     "start_time": "2023-03-11T12:00:51.273688",
     "status": "completed"
    },
    "tags": []
   },
   "outputs": [
    {
     "name": "stdout",
     "output_type": "stream",
     "text": [
      "Shape of data tensor: (54214, 250)\n"
     ]
    }
   ],
   "source": [
    "X = tokenizer.texts_to_sequences(df['desc'].values)\n",
    "X = pad_sequences(X, maxlen=sent_length)\n",
    "print('Shape of data tensor:', X.shape)    \n"
   ]
  },
  {
   "cell_type": "code",
   "execution_count": 26,
   "id": "401cf408",
   "metadata": {
    "execution": {
     "iopub.execute_input": "2023-03-11T12:00:55.001546Z",
     "iopub.status.busy": "2023-03-11T12:00:55.001166Z",
     "iopub.status.idle": "2023-03-11T12:00:55.032692Z",
     "shell.execute_reply": "2023-03-11T12:00:55.031390Z"
    },
    "papermill": {
     "duration": 0.043574,
     "end_time": "2023-03-11T12:00:55.035590",
     "exception": false,
     "start_time": "2023-03-11T12:00:54.992016",
     "status": "completed"
    },
    "tags": []
   },
   "outputs": [
    {
     "name": "stdout",
     "output_type": "stream",
     "text": [
      "Shape of label tensor: (54214, 27)\n"
     ]
    }
   ],
   "source": [
    "Y = pd.get_dummies(df['genre']).values\n",
    "print('Shape of label tensor:', Y.shape)"
   ]
  },
  {
   "cell_type": "code",
   "execution_count": 27,
   "id": "ad01796c",
   "metadata": {
    "execution": {
     "iopub.execute_input": "2023-03-11T12:00:55.054015Z",
     "iopub.status.busy": "2023-03-11T12:00:55.053714Z",
     "iopub.status.idle": "2023-03-11T12:00:55.094149Z",
     "shell.execute_reply": "2023-03-11T12:00:55.092538Z"
    },
    "papermill": {
     "duration": 0.052769,
     "end_time": "2023-03-11T12:00:55.097172",
     "exception": false,
     "start_time": "2023-03-11T12:00:55.044403",
     "status": "completed"
    },
    "tags": []
   },
   "outputs": [
    {
     "name": "stdout",
     "output_type": "stream",
     "text": [
      "(43371, 250) (43371, 27)\n",
      "(10843, 250) (10843, 27)\n"
     ]
    }
   ],
   "source": [
    "X_train, X_test, Y_train, Y_test = train_test_split(X,Y, test_size = 0.2, random_state = 42)\n",
    "print(X_train.shape,Y_train.shape)\n",
    "print(X_test.shape,Y_test.shape)"
   ]
  },
  {
   "cell_type": "markdown",
   "id": "af33379d",
   "metadata": {
    "papermill": {
     "duration": 0.00801,
     "end_time": "2023-03-11T12:00:55.114288",
     "exception": false,
     "start_time": "2023-03-11T12:00:55.106278",
     "status": "completed"
    },
    "tags": []
   },
   "source": [
    "# Model"
   ]
  },
  {
   "cell_type": "code",
   "execution_count": 28,
   "id": "791ae9cc",
   "metadata": {
    "execution": {
     "iopub.execute_input": "2023-03-11T12:00:55.132761Z",
     "iopub.status.busy": "2023-03-11T12:00:55.132005Z",
     "iopub.status.idle": "2023-03-11T12:01:00.679845Z",
     "shell.execute_reply": "2023-03-11T12:01:00.679029Z"
    },
    "papermill": {
     "duration": 5.567141,
     "end_time": "2023-03-11T12:01:00.690063",
     "exception": false,
     "start_time": "2023-03-11T12:00:55.122922",
     "status": "completed"
    },
    "tags": []
   },
   "outputs": [
    {
     "name": "stdout",
     "output_type": "stream",
     "text": [
      "Model: \"sequential\"\n",
      "_________________________________________________________________\n",
      " Layer (type)                Output Shape              Param #   \n",
      "=================================================================\n",
      " embedding (Embedding)       (None, 250, 200)          2000000   \n",
      "                                                                 \n",
      " spatial_dropout1d (SpatialD  (None, 250, 200)         0         \n",
      " ropout1D)                                                       \n",
      "                                                                 \n",
      " lstm (LSTM)                 (None, 100)               120400    \n",
      "                                                                 \n",
      " dense (Dense)               (None, 27)                2727      \n",
      "                                                                 \n",
      "=================================================================\n",
      "Total params: 2,123,127\n",
      "Trainable params: 2,123,127\n",
      "Non-trainable params: 0\n",
      "_________________________________________________________________\n"
     ]
    }
   ],
   "source": [
    "#embed vector that represents each token by 40 featured vector\n",
    "embed_vect = 200\n",
    "model = Sequential()\n",
    "model.add(Embedding(voc_size, embed_vect, input_length=sent_length))\n",
    "#model.add(LSTM(512, return_sequences=True))\n",
    "model.add(SpatialDropout1D(0.2))\n",
    "model.add(LSTM(100, dropout=0.1, recurrent_dropout=0.2))\n",
    "model.add(Dense(27, activation='softmax'))\n",
    "model.compile(loss='categorical_crossentropy', optimizer='adam', metrics=['accuracy'])\n",
    "model.summary()\n",
    "\n"
   ]
  },
  {
   "cell_type": "code",
   "execution_count": 29,
   "id": "a5b757c8",
   "metadata": {
    "execution": {
     "iopub.execute_input": "2023-03-11T12:01:00.711284Z",
     "iopub.status.busy": "2023-03-11T12:01:00.710977Z",
     "iopub.status.idle": "2023-03-11T13:15:49.995495Z",
     "shell.execute_reply": "2023-03-11T13:15:49.994385Z"
    },
    "papermill": {
     "duration": 4489.511707,
     "end_time": "2023-03-11T13:15:50.212052",
     "exception": false,
     "start_time": "2023-03-11T12:01:00.700345",
     "status": "completed"
    },
    "tags": []
   },
   "outputs": [
    {
     "name": "stdout",
     "output_type": "stream",
     "text": [
      "Epoch 1/3\n",
      "1356/1356 [==============================] - 1536s 1s/step - loss: 2.0658 - accuracy: 0.4084 - val_loss: 1.7964 - val_accuracy: 0.4731\n",
      "Epoch 2/3\n",
      "1356/1356 [==============================] - 1476s 1s/step - loss: 1.5589 - accuracy: 0.5539 - val_loss: 1.5282 - val_accuracy: 0.5489\n",
      "Epoch 3/3\n",
      "1356/1356 [==============================] - 1477s 1s/step - loss: 1.2585 - accuracy: 0.6347 - val_loss: 1.4969 - val_accuracy: 0.5628\n"
     ]
    },
    {
     "data": {
      "text/plain": [
       "<keras.callbacks.History at 0x7f7936344f50>"
      ]
     },
     "execution_count": 29,
     "metadata": {},
     "output_type": "execute_result"
    }
   ],
   "source": [
    "model.fit(X_train, Y_train, validation_data=(X_test, Y_test), epochs=3, batch_size=32)"
   ]
  },
  {
   "cell_type": "markdown",
   "id": "9861cbca",
   "metadata": {
    "papermill": {
     "duration": 0.224063,
     "end_time": "2023-03-11T13:15:50.659265",
     "exception": false,
     "start_time": "2023-03-11T13:15:50.435202",
     "status": "completed"
    },
    "tags": []
   },
   "source": [
    "# Evaluate"
   ]
  },
  {
   "cell_type": "code",
   "execution_count": 30,
   "id": "20b40aa1",
   "metadata": {
    "execution": {
     "iopub.execute_input": "2023-03-11T13:15:51.107672Z",
     "iopub.status.busy": "2023-03-11T13:15:51.106578Z",
     "iopub.status.idle": "2023-03-11T13:16:14.148992Z",
     "shell.execute_reply": "2023-03-11T13:16:14.147875Z"
    },
    "papermill": {
     "duration": 23.268531,
     "end_time": "2023-03-11T13:16:14.151296",
     "exception": false,
     "start_time": "2023-03-11T13:15:50.882765",
     "status": "completed"
    },
    "tags": []
   },
   "outputs": [
    {
     "name": "stdout",
     "output_type": "stream",
     "text": [
      "339/339 [==============================] - 23s 68ms/step - loss: 1.4969 - accuracy: 0.5628\n"
     ]
    },
    {
     "data": {
      "text/plain": [
       "[1.496853232383728, 0.5627593994140625]"
      ]
     },
     "execution_count": 30,
     "metadata": {},
     "output_type": "execute_result"
    }
   ],
   "source": [
    "model.evaluate(X_test, Y_test)"
   ]
  },
  {
   "cell_type": "code",
   "execution_count": 31,
   "id": "b5fe6ed8",
   "metadata": {
    "execution": {
     "iopub.execute_input": "2023-03-11T13:16:14.688937Z",
     "iopub.status.busy": "2023-03-11T13:16:14.687948Z",
     "iopub.status.idle": "2023-03-11T13:16:14.695318Z",
     "shell.execute_reply": "2023-03-11T13:16:14.694343Z"
    },
    "papermill": {
     "duration": 0.302847,
     "end_time": "2023-03-11T13:16:14.697396",
     "exception": false,
     "start_time": "2023-03-11T13:16:14.394549",
     "status": "completed"
    },
    "tags": []
   },
   "outputs": [
    {
     "data": {
      "text/plain": [
       "(' Listening in to a conversation between his doctor and parents, 10-year-old Oscar learns what nobody has the courage to tell him. He only has a few weeks to live. Furious, he refuses to speak to anyone except straight-talking Rose, the lady in pink he meets on the hospital stairs. As Christmas approaches, Rose uses her fantastical experiences as a professional wrestler, her imagination, wit and charm to allow Oscar to live life and love to the full, in the company of his friends Pop Corn, Einstein, Bacon and childhood sweetheart Peggy Blue.',\n",
       " ' drama ')"
      ]
     },
     "execution_count": 31,
     "metadata": {},
     "output_type": "execute_result"
    }
   ],
   "source": [
    "df['desc'][0], df['genre'][0]"
   ]
  },
  {
   "cell_type": "code",
   "execution_count": 32,
   "id": "5eb672f4",
   "metadata": {
    "execution": {
     "iopub.execute_input": "2023-03-11T13:16:15.189018Z",
     "iopub.status.busy": "2023-03-11T13:16:15.187319Z",
     "iopub.status.idle": "2023-03-11T13:16:16.694590Z",
     "shell.execute_reply": "2023-03-11T13:16:16.693442Z"
    },
    "papermill": {
     "duration": 1.756289,
     "end_time": "2023-03-11T13:16:16.697054",
     "exception": false,
     "start_time": "2023-03-11T13:16:14.940765",
     "status": "completed"
    },
    "tags": []
   },
   "outputs": [
    {
     "name": "stdout",
     "output_type": "stream",
     "text": [
      "18/18 [==============================] - 1s 64ms/step\n",
      "[[0.04116823 0.05446128 0.01961859 ... 0.04585551 0.04626844 0.04835559]\n",
      " [0.0253008  0.04637397 0.02434156 ... 0.03832643 0.03027985 0.01775897]\n",
      " [0.04600786 0.05198115 0.02848066 ... 0.0372168  0.03151401 0.0488551 ]\n",
      " ...\n",
      " [0.02902771 0.03451932 0.02422602 ... 0.03589349 0.03206141 0.01806073]\n",
      " [0.0543987  0.05176242 0.02624742 ... 0.05546601 0.04964005 0.06691119]\n",
      " [0.04116824 0.05446128 0.01961859 ... 0.04585551 0.04626844 0.04835559]]\n"
     ]
    }
   ],
   "source": [
    "new_complaint = df['desc'][0] \n",
    "seq = tokenizer.texts_to_sequences(new_complaint)\n",
    "padded = pad_sequences(seq, maxlen=sent_length)\n",
    "pred = model.predict(padded)\n",
    "labels = df['genre'][0]\n",
    "print(pred)"
   ]
  },
  {
   "cell_type": "code",
   "execution_count": 33,
   "id": "56626ee8",
   "metadata": {
    "execution": {
     "iopub.execute_input": "2023-03-11T13:16:17.186571Z",
     "iopub.status.busy": "2023-03-11T13:16:17.185500Z",
     "iopub.status.idle": "2023-03-11T13:16:17.192876Z",
     "shell.execute_reply": "2023-03-11T13:16:17.191767Z"
    },
    "papermill": {
     "duration": 0.253605,
     "end_time": "2023-03-11T13:16:17.195637",
     "exception": false,
     "start_time": "2023-03-11T13:16:16.942032",
     "status": "completed"
    },
    "tags": []
   },
   "outputs": [
    {
     "data": {
      "text/plain": [
       "27"
      ]
     },
     "execution_count": 33,
     "metadata": {},
     "output_type": "execute_result"
    }
   ],
   "source": [
    "len(pred[0])"
   ]
  },
  {
   "cell_type": "code",
   "execution_count": null,
   "id": "f91e67ad",
   "metadata": {
    "papermill": {
     "duration": 0.242308,
     "end_time": "2023-03-11T13:16:17.682990",
     "exception": false,
     "start_time": "2023-03-11T13:16:17.440682",
     "status": "completed"
    },
    "tags": []
   },
   "outputs": [],
   "source": []
  }
 ],
 "metadata": {
  "kernelspec": {
   "display_name": "Python 3",
   "language": "python",
   "name": "python3"
  },
  "language_info": {
   "codemirror_mode": {
    "name": "ipython",
    "version": 3
   },
   "file_extension": ".py",
   "mimetype": "text/x-python",
   "name": "python",
   "nbconvert_exporter": "python",
   "pygments_lexer": "ipython3",
   "version": "3.7.12"
  },
  "papermill": {
   "default_parameters": {},
   "duration": 5360.839723,
   "end_time": "2023-03-11T13:16:21.012885",
   "environment_variables": {},
   "exception": null,
   "input_path": "__notebook__.ipynb",
   "output_path": "__notebook__.ipynb",
   "parameters": {},
   "start_time": "2023-03-11T11:47:00.173162",
   "version": "2.4.0"
  }
 },
 "nbformat": 4,
 "nbformat_minor": 5
}
